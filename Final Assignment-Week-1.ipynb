{
 "cells": [
  {
   "cell_type": "code",
   "execution_count": 239,
   "metadata": {},
   "outputs": [],
   "source": [
    "import pandas as pd\n",
    "import numpy as np\n",
    "import matplotlib.pyplot as plt\n",
    "path = 'C:\\\\Users\\\\hksingh\\\\Documents\\\\AIDeepDive\\\\'"
   ]
  },
  {
   "cell_type": "code",
   "execution_count": 240,
   "metadata": {},
   "outputs": [],
   "source": [
    "import seaborn as sns"
   ]
  },
  {
   "cell_type": "code",
   "execution_count": 241,
   "metadata": {},
   "outputs": [
    {
     "name": "stdout",
     "output_type": "stream",
     "text": [
      "(132, 5)\n"
     ]
    },
    {
     "data": {
      "text/html": [
       "<div>\n",
       "<style scoped>\n",
       "    .dataframe tbody tr th:only-of-type {\n",
       "        vertical-align: middle;\n",
       "    }\n",
       "\n",
       "    .dataframe tbody tr th {\n",
       "        vertical-align: top;\n",
       "    }\n",
       "\n",
       "    .dataframe thead th {\n",
       "        text-align: right;\n",
       "    }\n",
       "</style>\n",
       "<table border=\"1\" class=\"dataframe\">\n",
       "  <thead>\n",
       "    <tr style=\"text-align: right;\">\n",
       "      <th></th>\n",
       "      <th>Name</th>\n",
       "      <th>TotalAssets</th>\n",
       "      <th>TotalRevenue</th>\n",
       "      <th>GeographicSegments</th>\n",
       "      <th>PrimarySector</th>\n",
       "    </tr>\n",
       "    <tr>\n",
       "      <th>Ticker</th>\n",
       "      <th></th>\n",
       "      <th></th>\n",
       "      <th></th>\n",
       "      <th></th>\n",
       "      <th></th>\n",
       "    </tr>\n",
       "  </thead>\n",
       "  <tbody>\n",
       "    <tr>\n",
       "      <td>NYSE:AEM</td>\n",
       "      <td>Agnico Eagle Mines Limited (NYSE:AEM)</td>\n",
       "      <td>10715.5</td>\n",
       "      <td>2990.0</td>\n",
       "      <td>5.0</td>\n",
       "      <td>Materials</td>\n",
       "    </tr>\n",
       "    <tr>\n",
       "      <td>TSX:AC</td>\n",
       "      <td>Air Canada (TSX:AC)</td>\n",
       "      <td>19197.0</td>\n",
       "      <td>18065.0</td>\n",
       "      <td>5.0</td>\n",
       "      <td>Industrials</td>\n",
       "    </tr>\n",
       "    <tr>\n",
       "      <td>TSX:AGI</td>\n",
       "      <td>Alamos Gold Inc. (TSX:AGI)</td>\n",
       "      <td>4455.5</td>\n",
       "      <td>889.4</td>\n",
       "      <td>4.0</td>\n",
       "      <td>Materials</td>\n",
       "    </tr>\n",
       "    <tr>\n",
       "      <td>TSX:AQN</td>\n",
       "      <td>Algonquin Power &amp; Utilities Corp. (TSX:AQN)</td>\n",
       "      <td>12811.6</td>\n",
       "      <td>2247.9</td>\n",
       "      <td>2.0</td>\n",
       "      <td>Utilities</td>\n",
       "    </tr>\n",
       "    <tr>\n",
       "      <td>TSX:ATD.B</td>\n",
       "      <td>Alimentation Couche-Tard Inc. (TSX:ATD.B)</td>\n",
       "      <td>30426.3</td>\n",
       "      <td>79562.8</td>\n",
       "      <td>3.0</td>\n",
       "      <td>Consumer Staples</td>\n",
       "    </tr>\n",
       "  </tbody>\n",
       "</table>\n",
       "</div>"
      ],
      "text/plain": [
       "                                                  Name  TotalAssets  \\\n",
       "Ticker                                                                \n",
       "NYSE:AEM         Agnico Eagle Mines Limited (NYSE:AEM)      10715.5   \n",
       "TSX:AC                             Air Canada (TSX:AC)      19197.0   \n",
       "TSX:AGI                     Alamos Gold Inc. (TSX:AGI)       4455.5   \n",
       "TSX:AQN    Algonquin Power & Utilities Corp. (TSX:AQN)      12811.6   \n",
       "TSX:ATD.B    Alimentation Couche-Tard Inc. (TSX:ATD.B)      30426.3   \n",
       "\n",
       "           TotalRevenue  GeographicSegments     PrimarySector  \n",
       "Ticker                                                         \n",
       "NYSE:AEM         2990.0                 5.0         Materials  \n",
       "TSX:AC          18065.0                 5.0       Industrials  \n",
       "TSX:AGI           889.4                 4.0         Materials  \n",
       "TSX:AQN          2247.9                 2.0         Utilities  \n",
       "TSX:ATD.B       79562.8                 3.0  Consumer Staples  "
      ]
     },
     "execution_count": 241,
     "metadata": {},
     "output_type": "execute_result"
    }
   ],
   "source": [
    "df1 = pd.read_csv(path+'SPTSXComposite.csv', index_col='Ticker')\n",
    "print(df1.shape)\n",
    "df1.head()"
   ]
  },
  {
   "cell_type": "code",
   "execution_count": 242,
   "metadata": {},
   "outputs": [
    {
     "name": "stdout",
     "output_type": "stream",
     "text": [
      "(142, 3)\n"
     ]
    },
    {
     "data": {
      "text/html": [
       "<div>\n",
       "<style scoped>\n",
       "    .dataframe tbody tr th:only-of-type {\n",
       "        vertical-align: middle;\n",
       "    }\n",
       "\n",
       "    .dataframe tbody tr th {\n",
       "        vertical-align: top;\n",
       "    }\n",
       "\n",
       "    .dataframe thead th {\n",
       "        text-align: right;\n",
       "    }\n",
       "</style>\n",
       "<table border=\"1\" class=\"dataframe\">\n",
       "  <thead>\n",
       "    <tr style=\"text-align: right;\">\n",
       "      <th></th>\n",
       "      <th>Name</th>\n",
       "      <th>MarketCapitalization</th>\n",
       "      <th>NumberEmployees</th>\n",
       "    </tr>\n",
       "    <tr>\n",
       "      <th>Ticker</th>\n",
       "      <th></th>\n",
       "      <th></th>\n",
       "      <th></th>\n",
       "    </tr>\n",
       "  </thead>\n",
       "  <tbody>\n",
       "    <tr>\n",
       "      <td>NYSE:AEM</td>\n",
       "      <td>Agnico Eagle Mines Limited (NYSE:AEM)</td>\n",
       "      <td>15892.5</td>\n",
       "      <td>5990.0</td>\n",
       "    </tr>\n",
       "    <tr>\n",
       "      <td>TSX:AC</td>\n",
       "      <td>Air Canada (TSX:AC)</td>\n",
       "      <td>11338.6</td>\n",
       "      <td>32600.0</td>\n",
       "    </tr>\n",
       "    <tr>\n",
       "      <td>TSX:AGI</td>\n",
       "      <td>Alamos Gold Inc. (TSX:AGI)</td>\n",
       "      <td>3151.9</td>\n",
       "      <td>1700.0</td>\n",
       "    </tr>\n",
       "    <tr>\n",
       "      <td>TSX:AQN</td>\n",
       "      <td>Algonquin Power &amp; Utilities Corp. (TSX:AQN)</td>\n",
       "      <td>8000.0</td>\n",
       "      <td>2277.0</td>\n",
       "    </tr>\n",
       "    <tr>\n",
       "      <td>TSX:ATD.B</td>\n",
       "      <td>Alimentation Couche-Tard Inc. (TSX:ATD.B)</td>\n",
       "      <td>47281.4</td>\n",
       "      <td>133000.0</td>\n",
       "    </tr>\n",
       "  </tbody>\n",
       "</table>\n",
       "</div>"
      ],
      "text/plain": [
       "                                                  Name  MarketCapitalization  \\\n",
       "Ticker                                                                         \n",
       "NYSE:AEM         Agnico Eagle Mines Limited (NYSE:AEM)               15892.5   \n",
       "TSX:AC                             Air Canada (TSX:AC)               11338.6   \n",
       "TSX:AGI                     Alamos Gold Inc. (TSX:AGI)                3151.9   \n",
       "TSX:AQN    Algonquin Power & Utilities Corp. (TSX:AQN)                8000.0   \n",
       "TSX:ATD.B    Alimentation Couche-Tard Inc. (TSX:ATD.B)               47281.4   \n",
       "\n",
       "           NumberEmployees  \n",
       "Ticker                      \n",
       "NYSE:AEM            5990.0  \n",
       "TSX:AC             32600.0  \n",
       "TSX:AGI             1700.0  \n",
       "TSX:AQN             2277.0  \n",
       "TSX:ATD.B         133000.0  "
      ]
     },
     "execution_count": 242,
     "metadata": {},
     "output_type": "execute_result"
    }
   ],
   "source": [
    "df2 = pd.read_csv(path+'SPTSXCap_Employees.csv', index_col='Ticker')\n",
    "print(df2.shape)\n",
    "df2.head()"
   ]
  },
  {
   "cell_type": "code",
   "execution_count": 243,
   "metadata": {},
   "outputs": [
    {
     "data": {
      "text/html": [
       "<div>\n",
       "<style scoped>\n",
       "    .dataframe tbody tr th:only-of-type {\n",
       "        vertical-align: middle;\n",
       "    }\n",
       "\n",
       "    .dataframe tbody tr th {\n",
       "        vertical-align: top;\n",
       "    }\n",
       "\n",
       "    .dataframe thead th {\n",
       "        text-align: right;\n",
       "    }\n",
       "</style>\n",
       "<table border=\"1\" class=\"dataframe\">\n",
       "  <thead>\n",
       "    <tr style=\"text-align: right;\">\n",
       "      <th></th>\n",
       "      <th>Name</th>\n",
       "      <th>MarketCapitalization</th>\n",
       "      <th>NumberEmployees</th>\n",
       "    </tr>\n",
       "    <tr>\n",
       "      <th>Ticker</th>\n",
       "      <th></th>\n",
       "      <th></th>\n",
       "      <th></th>\n",
       "    </tr>\n",
       "  </thead>\n",
       "  <tbody>\n",
       "    <tr>\n",
       "      <td>TSX:ACB</td>\n",
       "      <td>Aurora Cannabis Inc. (TSX:ACB)</td>\n",
       "      <td>8958.5</td>\n",
       "      <td>967.0</td>\n",
       "    </tr>\n",
       "    <tr>\n",
       "      <td>TSX:BTO</td>\n",
       "      <td>B2Gold Corp. (TSX:BTO)</td>\n",
       "      <td>4105.6</td>\n",
       "      <td>3168.0</td>\n",
       "    </tr>\n",
       "    <tr>\n",
       "      <td>NasdaqGS:OTEX</td>\n",
       "      <td>Open Text Corporation (NasdaqGS:OTEX)</td>\n",
       "      <td>14905.9</td>\n",
       "      <td>13100.0</td>\n",
       "    </tr>\n",
       "    <tr>\n",
       "      <td>TSX:PAAS</td>\n",
       "      <td>Pan American Silver Corp. (TSX:PAAS)</td>\n",
       "      <td>3565.0</td>\n",
       "      <td>4530.0</td>\n",
       "    </tr>\n",
       "    <tr>\n",
       "      <td>TSX:PXT</td>\n",
       "      <td>Parex Resources Inc. (TSX:PXT)</td>\n",
       "      <td>3129.7</td>\n",
       "      <td>279.0</td>\n",
       "    </tr>\n",
       "    <tr>\n",
       "      <td>TSX:TSGI</td>\n",
       "      <td>The Stars Group Inc. (TSX:TSGI)</td>\n",
       "      <td>6113.9</td>\n",
       "      <td>4516.0</td>\n",
       "    </tr>\n",
       "    <tr>\n",
       "      <td>TSX:TD</td>\n",
       "      <td>The Toronto-Dominion Bank (TSX:TD)</td>\n",
       "      <td>139949.9</td>\n",
       "      <td>87999.0</td>\n",
       "    </tr>\n",
       "    <tr>\n",
       "      <td>TSX:EMA</td>\n",
       "      <td>Emera Incorporated (TSX:EMA)</td>\n",
       "      <td>12873.1</td>\n",
       "      <td>7523.0</td>\n",
       "    </tr>\n",
       "    <tr>\n",
       "      <td>TSX:EMP.A</td>\n",
       "      <td>Empire Company Limited (TSX:EMP.A)</td>\n",
       "      <td>9112.5</td>\n",
       "      <td>123000.0</td>\n",
       "    </tr>\n",
       "    <tr>\n",
       "      <td>TSX:GOOS</td>\n",
       "      <td>Canada Goose Holdings Inc. (TSX:GOOS)</td>\n",
       "      <td>6254.2</td>\n",
       "      <td>3932.0</td>\n",
       "    </tr>\n",
       "  </tbody>\n",
       "</table>\n",
       "</div>"
      ],
      "text/plain": [
       "                                                Name  MarketCapitalization  \\\n",
       "Ticker                                                                       \n",
       "TSX:ACB               Aurora Cannabis Inc. (TSX:ACB)                8958.5   \n",
       "TSX:BTO                       B2Gold Corp. (TSX:BTO)                4105.6   \n",
       "NasdaqGS:OTEX  Open Text Corporation (NasdaqGS:OTEX)               14905.9   \n",
       "TSX:PAAS        Pan American Silver Corp. (TSX:PAAS)                3565.0   \n",
       "TSX:PXT               Parex Resources Inc. (TSX:PXT)                3129.7   \n",
       "TSX:TSGI             The Stars Group Inc. (TSX:TSGI)                6113.9   \n",
       "TSX:TD            The Toronto-Dominion Bank (TSX:TD)              139949.9   \n",
       "TSX:EMA                 Emera Incorporated (TSX:EMA)               12873.1   \n",
       "TSX:EMP.A         Empire Company Limited (TSX:EMP.A)                9112.5   \n",
       "TSX:GOOS       Canada Goose Holdings Inc. (TSX:GOOS)                6254.2   \n",
       "\n",
       "               NumberEmployees  \n",
       "Ticker                          \n",
       "TSX:ACB                  967.0  \n",
       "TSX:BTO                 3168.0  \n",
       "NasdaqGS:OTEX          13100.0  \n",
       "TSX:PAAS                4530.0  \n",
       "TSX:PXT                  279.0  \n",
       "TSX:TSGI                4516.0  \n",
       "TSX:TD                 87999.0  \n",
       "TSX:EMA                 7523.0  \n",
       "TSX:EMP.A             123000.0  \n",
       "TSX:GOOS                3932.0  "
      ]
     },
     "execution_count": 243,
     "metadata": {},
     "output_type": "execute_result"
    }
   ],
   "source": [
    "df2.loc[df2.duplicated()]"
   ]
  },
  {
   "cell_type": "code",
   "execution_count": 244,
   "metadata": {},
   "outputs": [
    {
     "name": "stdout",
     "output_type": "stream",
     "text": [
      "(132, 3)\n"
     ]
    }
   ],
   "source": [
    "df2 = df2.drop_duplicates(keep='first')\n",
    "print(df2.shape)"
   ]
  },
  {
   "cell_type": "code",
   "execution_count": 245,
   "metadata": {},
   "outputs": [
    {
     "name": "stdout",
     "output_type": "stream",
     "text": [
      "(4896, 4)\n"
     ]
    },
    {
     "data": {
      "text/html": [
       "<div>\n",
       "<style scoped>\n",
       "    .dataframe tbody tr th:only-of-type {\n",
       "        vertical-align: middle;\n",
       "    }\n",
       "\n",
       "    .dataframe tbody tr th {\n",
       "        vertical-align: top;\n",
       "    }\n",
       "\n",
       "    .dataframe thead th {\n",
       "        text-align: right;\n",
       "    }\n",
       "</style>\n",
       "<table border=\"1\" class=\"dataframe\">\n",
       "  <thead>\n",
       "    <tr style=\"text-align: right;\">\n",
       "      <th></th>\n",
       "      <th>Date</th>\n",
       "      <th>Ticker</th>\n",
       "      <th>TransactionType</th>\n",
       "      <th>TransactionValue</th>\n",
       "    </tr>\n",
       "  </thead>\n",
       "  <tbody>\n",
       "    <tr>\n",
       "      <td>0</td>\n",
       "      <td>03/08/2016</td>\n",
       "      <td>TSX:AAV</td>\n",
       "      <td>Public Offering</td>\n",
       "      <td>87.54</td>\n",
       "    </tr>\n",
       "    <tr>\n",
       "      <td>1</td>\n",
       "      <td>11/29/2018</td>\n",
       "      <td>TSX:ADVZ</td>\n",
       "      <td>Shelf Registration</td>\n",
       "      <td>185.40</td>\n",
       "    </tr>\n",
       "    <tr>\n",
       "      <td>2</td>\n",
       "      <td>09/06/2018</td>\n",
       "      <td>TSX:ADVZ</td>\n",
       "      <td>Private Placement</td>\n",
       "      <td>775.11</td>\n",
       "    </tr>\n",
       "    <tr>\n",
       "      <td>3</td>\n",
       "      <td>10/06/2016</td>\n",
       "      <td>TSX:ADVZ</td>\n",
       "      <td>Public Offering</td>\n",
       "      <td>462.65</td>\n",
       "    </tr>\n",
       "    <tr>\n",
       "      <td>4</td>\n",
       "      <td>09/26/2018</td>\n",
       "      <td>TSX:ARE</td>\n",
       "      <td>Public Offering</td>\n",
       "      <td>160.00</td>\n",
       "    </tr>\n",
       "  </tbody>\n",
       "</table>\n",
       "</div>"
      ],
      "text/plain": [
       "         Date    Ticker     TransactionType  TransactionValue\n",
       "0  03/08/2016   TSX:AAV     Public Offering             87.54\n",
       "1  11/29/2018  TSX:ADVZ  Shelf Registration            185.40\n",
       "2  09/06/2018  TSX:ADVZ   Private Placement            775.11\n",
       "3  10/06/2016  TSX:ADVZ     Public Offering            462.65\n",
       "4  09/26/2018   TSX:ARE     Public Offering            160.00"
      ]
     },
     "execution_count": 245,
     "metadata": {},
     "output_type": "execute_result"
    }
   ],
   "source": [
    "df3 = pd.read_csv(path+'SP_Transactions.csv')\n",
    "print(df3.shape)\n",
    "df3.head()"
   ]
  },
  {
   "cell_type": "code",
   "execution_count": 246,
   "metadata": {},
   "outputs": [
    {
     "data": {
      "text/html": [
       "<div>\n",
       "<style scoped>\n",
       "    .dataframe tbody tr th:only-of-type {\n",
       "        vertical-align: middle;\n",
       "    }\n",
       "\n",
       "    .dataframe tbody tr th {\n",
       "        vertical-align: top;\n",
       "    }\n",
       "\n",
       "    .dataframe thead th {\n",
       "        text-align: right;\n",
       "    }\n",
       "</style>\n",
       "<table border=\"1\" class=\"dataframe\">\n",
       "  <thead>\n",
       "    <tr style=\"text-align: right;\">\n",
       "      <th></th>\n",
       "      <th>TransactionValue</th>\n",
       "    </tr>\n",
       "    <tr>\n",
       "      <th>Ticker</th>\n",
       "      <th></th>\n",
       "    </tr>\n",
       "  </thead>\n",
       "  <tbody>\n",
       "    <tr>\n",
       "      <td>AMEX:GTE</td>\n",
       "      <td>826.5</td>\n",
       "    </tr>\n",
       "    <tr>\n",
       "      <td>NYSE:AEM</td>\n",
       "      <td>1607.4</td>\n",
       "    </tr>\n",
       "    <tr>\n",
       "      <td>NYSE:BHC</td>\n",
       "      <td>13076.1</td>\n",
       "    </tr>\n",
       "    <tr>\n",
       "      <td>NYSE:MUX</td>\n",
       "      <td>177.5</td>\n",
       "    </tr>\n",
       "    <tr>\n",
       "      <td>NYSE:RBA</td>\n",
       "      <td>662.2</td>\n",
       "    </tr>\n",
       "  </tbody>\n",
       "</table>\n",
       "</div>"
      ],
      "text/plain": [
       "          TransactionValue\n",
       "Ticker                    \n",
       "AMEX:GTE             826.5\n",
       "NYSE:AEM            1607.4\n",
       "NYSE:BHC           13076.1\n",
       "NYSE:MUX             177.5\n",
       "NYSE:RBA             662.2"
      ]
     },
     "execution_count": 246,
     "metadata": {},
     "output_type": "execute_result"
    }
   ],
   "source": [
    "df4 = df3.groupby(['Ticker']).sum().round(1)\n",
    "df4.head()"
   ]
  },
  {
   "cell_type": "code",
   "execution_count": 247,
   "metadata": {},
   "outputs": [
    {
     "data": {
      "text/plain": [
       "Index(['TotalTransactions'], dtype='object')"
      ]
     },
     "execution_count": 247,
     "metadata": {},
     "output_type": "execute_result"
    }
   ],
   "source": [
    "df4.columns = ['TotalTransactions']\n",
    "df4.columns"
   ]
  },
  {
   "cell_type": "code",
   "execution_count": 248,
   "metadata": {},
   "outputs": [
    {
     "data": {
      "text/html": [
       "<div>\n",
       "<style scoped>\n",
       "    .dataframe tbody tr th:only-of-type {\n",
       "        vertical-align: middle;\n",
       "    }\n",
       "\n",
       "    .dataframe tbody tr th {\n",
       "        vertical-align: top;\n",
       "    }\n",
       "\n",
       "    .dataframe thead th {\n",
       "        text-align: right;\n",
       "    }\n",
       "</style>\n",
       "<table border=\"1\" class=\"dataframe\">\n",
       "  <thead>\n",
       "    <tr style=\"text-align: right;\">\n",
       "      <th></th>\n",
       "      <th>TransactionValue</th>\n",
       "    </tr>\n",
       "    <tr>\n",
       "      <th>Ticker</th>\n",
       "      <th></th>\n",
       "    </tr>\n",
       "  </thead>\n",
       "  <tbody>\n",
       "    <tr>\n",
       "      <td>AMEX:GTE</td>\n",
       "      <td>206.6</td>\n",
       "    </tr>\n",
       "    <tr>\n",
       "      <td>NYSE:AEM</td>\n",
       "      <td>401.8</td>\n",
       "    </tr>\n",
       "    <tr>\n",
       "      <td>NYSE:BHC</td>\n",
       "      <td>1452.9</td>\n",
       "    </tr>\n",
       "    <tr>\n",
       "      <td>NYSE:MUX</td>\n",
       "      <td>35.5</td>\n",
       "    </tr>\n",
       "    <tr>\n",
       "      <td>NYSE:RBA</td>\n",
       "      <td>331.1</td>\n",
       "    </tr>\n",
       "  </tbody>\n",
       "</table>\n",
       "</div>"
      ],
      "text/plain": [
       "          TransactionValue\n",
       "Ticker                    \n",
       "AMEX:GTE             206.6\n",
       "NYSE:AEM             401.8\n",
       "NYSE:BHC            1452.9\n",
       "NYSE:MUX              35.5\n",
       "NYSE:RBA             331.1"
      ]
     },
     "execution_count": 248,
     "metadata": {},
     "output_type": "execute_result"
    }
   ],
   "source": [
    "df5 = df3.groupby(['Ticker']).mean().round(1)\n",
    "df5.head()"
   ]
  },
  {
   "cell_type": "code",
   "execution_count": 249,
   "metadata": {},
   "outputs": [
    {
     "data": {
      "text/plain": [
       "Index(['AverageTransactions'], dtype='object')"
      ]
     },
     "execution_count": 249,
     "metadata": {},
     "output_type": "execute_result"
    }
   ],
   "source": [
    "df5.columns = ['AverageTransactions']\n",
    "df5.columns"
   ]
  },
  {
   "cell_type": "code",
   "execution_count": 250,
   "metadata": {},
   "outputs": [
    {
     "data": {
      "text/html": [
       "<div>\n",
       "<style scoped>\n",
       "    .dataframe tbody tr th:only-of-type {\n",
       "        vertical-align: middle;\n",
       "    }\n",
       "\n",
       "    .dataframe tbody tr th {\n",
       "        vertical-align: top;\n",
       "    }\n",
       "\n",
       "    .dataframe thead th {\n",
       "        text-align: right;\n",
       "    }\n",
       "</style>\n",
       "<table border=\"1\" class=\"dataframe\">\n",
       "  <thead>\n",
       "    <tr style=\"text-align: right;\">\n",
       "      <th></th>\n",
       "      <th>TotalTransactions</th>\n",
       "      <th>AverageTransactions</th>\n",
       "    </tr>\n",
       "    <tr>\n",
       "      <th>Ticker</th>\n",
       "      <th></th>\n",
       "      <th></th>\n",
       "    </tr>\n",
       "  </thead>\n",
       "  <tbody>\n",
       "    <tr>\n",
       "      <td>AMEX:GTE</td>\n",
       "      <td>826.5</td>\n",
       "      <td>206.6</td>\n",
       "    </tr>\n",
       "    <tr>\n",
       "      <td>NYSE:AEM</td>\n",
       "      <td>1607.4</td>\n",
       "      <td>401.8</td>\n",
       "    </tr>\n",
       "    <tr>\n",
       "      <td>NYSE:BHC</td>\n",
       "      <td>13076.1</td>\n",
       "      <td>1452.9</td>\n",
       "    </tr>\n",
       "    <tr>\n",
       "      <td>NYSE:MUX</td>\n",
       "      <td>177.5</td>\n",
       "      <td>35.5</td>\n",
       "    </tr>\n",
       "    <tr>\n",
       "      <td>NYSE:RBA</td>\n",
       "      <td>662.2</td>\n",
       "      <td>331.1</td>\n",
       "    </tr>\n",
       "  </tbody>\n",
       "</table>\n",
       "</div>"
      ],
      "text/plain": [
       "          TotalTransactions  AverageTransactions\n",
       "Ticker                                          \n",
       "AMEX:GTE              826.5                206.6\n",
       "NYSE:AEM             1607.4                401.8\n",
       "NYSE:BHC            13076.1               1452.9\n",
       "NYSE:MUX              177.5                 35.5\n",
       "NYSE:RBA              662.2                331.1"
      ]
     },
     "execution_count": 250,
     "metadata": {},
     "output_type": "execute_result"
    }
   ],
   "source": [
    "df6= pd.merge(df4,df5,on='Ticker',how='inner')\n",
    "df6.head()"
   ]
  },
  {
   "cell_type": "code",
   "execution_count": 251,
   "metadata": {},
   "outputs": [
    {
     "data": {
      "text/plain": [
       "(366, 2)"
      ]
     },
     "execution_count": 251,
     "metadata": {},
     "output_type": "execute_result"
    }
   ],
   "source": [
    "df6.shape"
   ]
  },
  {
   "cell_type": "code",
   "execution_count": 252,
   "metadata": {},
   "outputs": [
    {
     "data": {
      "text/html": [
       "<div>\n",
       "<style scoped>\n",
       "    .dataframe tbody tr th:only-of-type {\n",
       "        vertical-align: middle;\n",
       "    }\n",
       "\n",
       "    .dataframe tbody tr th {\n",
       "        vertical-align: top;\n",
       "    }\n",
       "\n",
       "    .dataframe thead th {\n",
       "        text-align: right;\n",
       "    }\n",
       "</style>\n",
       "<table border=\"1\" class=\"dataframe\">\n",
       "  <thead>\n",
       "    <tr style=\"text-align: right;\">\n",
       "      <th></th>\n",
       "      <th>Name_x</th>\n",
       "      <th>TotalAssets</th>\n",
       "      <th>TotalRevenue</th>\n",
       "      <th>GeographicSegments</th>\n",
       "      <th>PrimarySector</th>\n",
       "      <th>Name_y</th>\n",
       "      <th>MarketCapitalization</th>\n",
       "      <th>NumberEmployees</th>\n",
       "      <th>TotalTransactions</th>\n",
       "      <th>AverageTransactions</th>\n",
       "    </tr>\n",
       "    <tr>\n",
       "      <th>Ticker</th>\n",
       "      <th></th>\n",
       "      <th></th>\n",
       "      <th></th>\n",
       "      <th></th>\n",
       "      <th></th>\n",
       "      <th></th>\n",
       "      <th></th>\n",
       "      <th></th>\n",
       "      <th></th>\n",
       "      <th></th>\n",
       "    </tr>\n",
       "  </thead>\n",
       "  <tbody>\n",
       "    <tr>\n",
       "      <td>NYSE:AEM</td>\n",
       "      <td>Agnico Eagle Mines Limited (NYSE:AEM)</td>\n",
       "      <td>10715.5</td>\n",
       "      <td>2990.0</td>\n",
       "      <td>5.0</td>\n",
       "      <td>Materials</td>\n",
       "      <td>Agnico Eagle Mines Limited (NYSE:AEM)</td>\n",
       "      <td>15892.5</td>\n",
       "      <td>5990.0</td>\n",
       "      <td>1607.4</td>\n",
       "      <td>401.8</td>\n",
       "    </tr>\n",
       "    <tr>\n",
       "      <td>TSX:AC</td>\n",
       "      <td>Air Canada (TSX:AC)</td>\n",
       "      <td>19197.0</td>\n",
       "      <td>18065.0</td>\n",
       "      <td>5.0</td>\n",
       "      <td>Industrials</td>\n",
       "      <td>Air Canada (TSX:AC)</td>\n",
       "      <td>11338.6</td>\n",
       "      <td>32600.0</td>\n",
       "      <td>200.0</td>\n",
       "      <td>200.0</td>\n",
       "    </tr>\n",
       "    <tr>\n",
       "      <td>TSX:AGI</td>\n",
       "      <td>Alamos Gold Inc. (TSX:AGI)</td>\n",
       "      <td>4455.5</td>\n",
       "      <td>889.4</td>\n",
       "      <td>4.0</td>\n",
       "      <td>Materials</td>\n",
       "      <td>Alamos Gold Inc. (TSX:AGI)</td>\n",
       "      <td>3151.9</td>\n",
       "      <td>1700.0</td>\n",
       "      <td>340.1</td>\n",
       "      <td>170.1</td>\n",
       "    </tr>\n",
       "    <tr>\n",
       "      <td>TSX:AQN</td>\n",
       "      <td>Algonquin Power &amp; Utilities Corp. (TSX:AQN)</td>\n",
       "      <td>12811.6</td>\n",
       "      <td>2247.9</td>\n",
       "      <td>2.0</td>\n",
       "      <td>Utilities</td>\n",
       "      <td>Algonquin Power &amp; Utilities Corp. (TSX:AQN)</td>\n",
       "      <td>8000.0</td>\n",
       "      <td>2277.0</td>\n",
       "      <td>2973.6</td>\n",
       "      <td>495.6</td>\n",
       "    </tr>\n",
       "    <tr>\n",
       "      <td>TSX:ATD.B</td>\n",
       "      <td>Alimentation Couche-Tard Inc. (TSX:ATD.B)</td>\n",
       "      <td>30426.3</td>\n",
       "      <td>79562.8</td>\n",
       "      <td>3.0</td>\n",
       "      <td>Consumer Staples</td>\n",
       "      <td>Alimentation Couche-Tard Inc. (TSX:ATD.B)</td>\n",
       "      <td>47281.4</td>\n",
       "      <td>133000.0</td>\n",
       "      <td>8481.1</td>\n",
       "      <td>848.1</td>\n",
       "    </tr>\n",
       "  </tbody>\n",
       "</table>\n",
       "</div>"
      ],
      "text/plain": [
       "                                                Name_x  TotalAssets  \\\n",
       "Ticker                                                                \n",
       "NYSE:AEM         Agnico Eagle Mines Limited (NYSE:AEM)      10715.5   \n",
       "TSX:AC                             Air Canada (TSX:AC)      19197.0   \n",
       "TSX:AGI                     Alamos Gold Inc. (TSX:AGI)       4455.5   \n",
       "TSX:AQN    Algonquin Power & Utilities Corp. (TSX:AQN)      12811.6   \n",
       "TSX:ATD.B    Alimentation Couche-Tard Inc. (TSX:ATD.B)      30426.3   \n",
       "\n",
       "           TotalRevenue  GeographicSegments     PrimarySector  \\\n",
       "Ticker                                                          \n",
       "NYSE:AEM         2990.0                 5.0         Materials   \n",
       "TSX:AC          18065.0                 5.0       Industrials   \n",
       "TSX:AGI           889.4                 4.0         Materials   \n",
       "TSX:AQN          2247.9                 2.0         Utilities   \n",
       "TSX:ATD.B       79562.8                 3.0  Consumer Staples   \n",
       "\n",
       "                                                Name_y  MarketCapitalization  \\\n",
       "Ticker                                                                         \n",
       "NYSE:AEM         Agnico Eagle Mines Limited (NYSE:AEM)               15892.5   \n",
       "TSX:AC                             Air Canada (TSX:AC)               11338.6   \n",
       "TSX:AGI                     Alamos Gold Inc. (TSX:AGI)                3151.9   \n",
       "TSX:AQN    Algonquin Power & Utilities Corp. (TSX:AQN)                8000.0   \n",
       "TSX:ATD.B    Alimentation Couche-Tard Inc. (TSX:ATD.B)               47281.4   \n",
       "\n",
       "           NumberEmployees  TotalTransactions  AverageTransactions  \n",
       "Ticker                                                              \n",
       "NYSE:AEM            5990.0             1607.4                401.8  \n",
       "TSX:AC             32600.0              200.0                200.0  \n",
       "TSX:AGI             1700.0              340.1                170.1  \n",
       "TSX:AQN             2277.0             2973.6                495.6  \n",
       "TSX:ATD.B         133000.0             8481.1                848.1  "
      ]
     },
     "execution_count": 252,
     "metadata": {},
     "output_type": "execute_result"
    }
   ],
   "source": [
    "DF_T=pd.merge(df1,df2,on='Ticker',how='inner')\n",
    "DF=pd.merge(DF_T,df6,on='Ticker',how='left')\n",
    "DF.head()"
   ]
  },
  {
   "cell_type": "code",
   "execution_count": 253,
   "metadata": {},
   "outputs": [
    {
     "data": {
      "text/plain": [
       "(132, 10)"
      ]
     },
     "execution_count": 253,
     "metadata": {},
     "output_type": "execute_result"
    }
   ],
   "source": [
    "DF.shape"
   ]
  },
  {
   "cell_type": "code",
   "execution_count": 254,
   "metadata": {},
   "outputs": [
    {
     "data": {
      "text/plain": [
       "Name_x                  False\n",
       "TotalAssets             False\n",
       "TotalRevenue            False\n",
       "GeographicSegments       True\n",
       "PrimarySector           False\n",
       "Name_y                  False\n",
       "MarketCapitalization    False\n",
       "NumberEmployees          True\n",
       "TotalTransactions        True\n",
       "AverageTransactions      True\n",
       "dtype: bool"
      ]
     },
     "execution_count": 254,
     "metadata": {},
     "output_type": "execute_result"
    }
   ],
   "source": [
    "DF.isna().any()"
   ]
  },
  {
   "cell_type": "code",
   "execution_count": 255,
   "metadata": {},
   "outputs": [],
   "source": [
    "DF = DF.fillna(0) "
   ]
  },
  {
   "cell_type": "code",
   "execution_count": 256,
   "metadata": {},
   "outputs": [
    {
     "data": {
      "text/plain": [
       "Name_x                  False\n",
       "TotalAssets             False\n",
       "TotalRevenue            False\n",
       "GeographicSegments      False\n",
       "PrimarySector           False\n",
       "Name_y                  False\n",
       "MarketCapitalization    False\n",
       "NumberEmployees         False\n",
       "TotalTransactions       False\n",
       "AverageTransactions     False\n",
       "dtype: bool"
      ]
     },
     "execution_count": 256,
     "metadata": {},
     "output_type": "execute_result"
    }
   ],
   "source": [
    "DF.isna().any()"
   ]
  },
  {
   "cell_type": "code",
   "execution_count": 257,
   "metadata": {},
   "outputs": [
    {
     "name": "stdout",
     "output_type": "stream",
     "text": [
      "<class 'pandas.core.frame.DataFrame'>\n",
      "Index: 132 entries, NYSE:AEM to TSX:YRI\n",
      "Data columns (total 10 columns):\n",
      "Name_x                  132 non-null object\n",
      "TotalAssets             132 non-null float64\n",
      "TotalRevenue            132 non-null float64\n",
      "GeographicSegments      132 non-null float64\n",
      "PrimarySector           132 non-null object\n",
      "Name_y                  132 non-null object\n",
      "MarketCapitalization    132 non-null float64\n",
      "NumberEmployees         132 non-null float64\n",
      "TotalTransactions       132 non-null float64\n",
      "AverageTransactions     132 non-null float64\n",
      "dtypes: float64(7), object(3)\n",
      "memory usage: 11.3+ KB\n"
     ]
    }
   ],
   "source": [
    "DF.info()"
   ]
  },
  {
   "cell_type": "code",
   "execution_count": 258,
   "metadata": {},
   "outputs": [],
   "source": [
    "DF['Size'] = np.nan"
   ]
  },
  {
   "cell_type": "code",
   "execution_count": 259,
   "metadata": {},
   "outputs": [],
   "source": [
    "DF.loc[(DF['NumberEmployees'] > DF['NumberEmployees'].quantile(.75)) & (DF['TotalAssets'] > DF['TotalAssets'].quantile(.75)),['Size']] = 'Large'"
   ]
  },
  {
   "cell_type": "code",
   "execution_count": 260,
   "metadata": {},
   "outputs": [],
   "source": [
    "DF.loc[(DF['NumberEmployees'] < DF['NumberEmployees'].quantile(.25)) & (DF['TotalAssets'] < DF['TotalAssets'].quantile(.25)),['Size']] = 'Small'"
   ]
  },
  {
   "cell_type": "code",
   "execution_count": 261,
   "metadata": {},
   "outputs": [],
   "source": [
    "DF['Size'] = DF['Size'].fillna('Medium')"
   ]
  },
  {
   "cell_type": "code",
   "execution_count": 262,
   "metadata": {},
   "outputs": [
    {
     "data": {
      "text/html": [
       "<div>\n",
       "<style scoped>\n",
       "    .dataframe tbody tr th:only-of-type {\n",
       "        vertical-align: middle;\n",
       "    }\n",
       "\n",
       "    .dataframe tbody tr th {\n",
       "        vertical-align: top;\n",
       "    }\n",
       "\n",
       "    .dataframe thead th {\n",
       "        text-align: right;\n",
       "    }\n",
       "</style>\n",
       "<table border=\"1\" class=\"dataframe\">\n",
       "  <thead>\n",
       "    <tr style=\"text-align: right;\">\n",
       "      <th></th>\n",
       "      <th>Name_x</th>\n",
       "      <th>TotalAssets</th>\n",
       "      <th>TotalRevenue</th>\n",
       "      <th>GeographicSegments</th>\n",
       "      <th>PrimarySector</th>\n",
       "      <th>Name_y</th>\n",
       "      <th>MarketCapitalization</th>\n",
       "      <th>NumberEmployees</th>\n",
       "      <th>TotalTransactions</th>\n",
       "      <th>AverageTransactions</th>\n",
       "      <th>Size</th>\n",
       "    </tr>\n",
       "    <tr>\n",
       "      <th>Ticker</th>\n",
       "      <th></th>\n",
       "      <th></th>\n",
       "      <th></th>\n",
       "      <th></th>\n",
       "      <th></th>\n",
       "      <th></th>\n",
       "      <th></th>\n",
       "      <th></th>\n",
       "      <th></th>\n",
       "      <th></th>\n",
       "      <th></th>\n",
       "    </tr>\n",
       "  </thead>\n",
       "  <tbody>\n",
       "    <tr>\n",
       "      <td>NYSE:AEM</td>\n",
       "      <td>Agnico Eagle Mines Limited (NYSE:AEM)</td>\n",
       "      <td>10715.5</td>\n",
       "      <td>2990.0</td>\n",
       "      <td>5.0</td>\n",
       "      <td>Materials</td>\n",
       "      <td>Agnico Eagle Mines Limited (NYSE:AEM)</td>\n",
       "      <td>15892.5</td>\n",
       "      <td>5990.0</td>\n",
       "      <td>1607.4</td>\n",
       "      <td>401.8</td>\n",
       "      <td>Medium</td>\n",
       "    </tr>\n",
       "    <tr>\n",
       "      <td>TSX:AC</td>\n",
       "      <td>Air Canada (TSX:AC)</td>\n",
       "      <td>19197.0</td>\n",
       "      <td>18065.0</td>\n",
       "      <td>5.0</td>\n",
       "      <td>Industrials</td>\n",
       "      <td>Air Canada (TSX:AC)</td>\n",
       "      <td>11338.6</td>\n",
       "      <td>32600.0</td>\n",
       "      <td>200.0</td>\n",
       "      <td>200.0</td>\n",
       "      <td>Medium</td>\n",
       "    </tr>\n",
       "    <tr>\n",
       "      <td>TSX:AQN</td>\n",
       "      <td>Algonquin Power &amp; Utilities Corp. (TSX:AQN)</td>\n",
       "      <td>12811.6</td>\n",
       "      <td>2247.9</td>\n",
       "      <td>2.0</td>\n",
       "      <td>Utilities</td>\n",
       "      <td>Algonquin Power &amp; Utilities Corp. (TSX:AQN)</td>\n",
       "      <td>8000.0</td>\n",
       "      <td>2277.0</td>\n",
       "      <td>2973.6</td>\n",
       "      <td>495.6</td>\n",
       "      <td>Medium</td>\n",
       "    </tr>\n",
       "    <tr>\n",
       "      <td>TSX:ATD.B</td>\n",
       "      <td>Alimentation Couche-Tard Inc. (TSX:ATD.B)</td>\n",
       "      <td>30426.3</td>\n",
       "      <td>79562.8</td>\n",
       "      <td>3.0</td>\n",
       "      <td>Consumer Staples</td>\n",
       "      <td>Alimentation Couche-Tard Inc. (TSX:ATD.B)</td>\n",
       "      <td>47281.4</td>\n",
       "      <td>133000.0</td>\n",
       "      <td>8481.1</td>\n",
       "      <td>848.1</td>\n",
       "      <td>Medium</td>\n",
       "    </tr>\n",
       "    <tr>\n",
       "      <td>TSX:AP.UN</td>\n",
       "      <td>Allied Properties Real Estate Investment Trust...</td>\n",
       "      <td>6706.3</td>\n",
       "      <td>436.4</td>\n",
       "      <td>1.0</td>\n",
       "      <td>Real Estate</td>\n",
       "      <td>Allied Properties Real Estate Investment Trust...</td>\n",
       "      <td>5621.8</td>\n",
       "      <td>263.0</td>\n",
       "      <td>1415.3</td>\n",
       "      <td>202.2</td>\n",
       "      <td>Medium</td>\n",
       "    </tr>\n",
       "    <tr>\n",
       "      <td>...</td>\n",
       "      <td>...</td>\n",
       "      <td>...</td>\n",
       "      <td>...</td>\n",
       "      <td>...</td>\n",
       "      <td>...</td>\n",
       "      <td>...</td>\n",
       "      <td>...</td>\n",
       "      <td>...</td>\n",
       "      <td>...</td>\n",
       "      <td>...</td>\n",
       "      <td>...</td>\n",
       "    </tr>\n",
       "    <tr>\n",
       "      <td>TSX:WFT</td>\n",
       "      <td>West Fraser Timber Co. Ltd. (TSX:WFT)</td>\n",
       "      <td>4791.0</td>\n",
       "      <td>6118.0</td>\n",
       "      <td>5.0</td>\n",
       "      <td>Materials</td>\n",
       "      <td>West Fraser Timber Co. Ltd. (TSX:WFT)</td>\n",
       "      <td>3758.8</td>\n",
       "      <td>7800.0</td>\n",
       "      <td>525.2</td>\n",
       "      <td>525.2</td>\n",
       "      <td>Medium</td>\n",
       "    </tr>\n",
       "    <tr>\n",
       "      <td>TSX:WJA</td>\n",
       "      <td>WestJet Airlines Ltd. (TSX:WJA)</td>\n",
       "      <td>6758.1</td>\n",
       "      <td>4728.4</td>\n",
       "      <td>4.0</td>\n",
       "      <td>Industrials</td>\n",
       "      <td>WestJet Airlines Ltd. (TSX:WJA)</td>\n",
       "      <td>3500.6</td>\n",
       "      <td>11905.0</td>\n",
       "      <td>598.4</td>\n",
       "      <td>299.2</td>\n",
       "      <td>Medium</td>\n",
       "    </tr>\n",
       "    <tr>\n",
       "      <td>TSX:WPM</td>\n",
       "      <td>Wheaton Precious Metals Corp. (TSX:WPM)</td>\n",
       "      <td>8828.6</td>\n",
       "      <td>1083.5</td>\n",
       "      <td>9.0</td>\n",
       "      <td>Materials</td>\n",
       "      <td>Wheaton Precious Metals Corp. (TSX:WPM)</td>\n",
       "      <td>14000.9</td>\n",
       "      <td>39.0</td>\n",
       "      <td>713.3</td>\n",
       "      <td>713.3</td>\n",
       "      <td>Medium</td>\n",
       "    </tr>\n",
       "    <tr>\n",
       "      <td>TSX:WSP</td>\n",
       "      <td>WSP Global Inc. (TSX:WSP)</td>\n",
       "      <td>7766.6</td>\n",
       "      <td>7908.1</td>\n",
       "      <td>8.0</td>\n",
       "      <td>Industrials</td>\n",
       "      <td>WSP Global Inc. (TSX:WSP)</td>\n",
       "      <td>7728.9</td>\n",
       "      <td>49000.0</td>\n",
       "      <td>0.0</td>\n",
       "      <td>0.0</td>\n",
       "      <td>Medium</td>\n",
       "    </tr>\n",
       "    <tr>\n",
       "      <td>TSX:YRI</td>\n",
       "      <td>Yamana Gold Inc. (TSX:YRI)</td>\n",
       "      <td>10933.9</td>\n",
       "      <td>2454.1</td>\n",
       "      <td>5.0</td>\n",
       "      <td>Materials</td>\n",
       "      <td>Yamana Gold Inc. (TSX:YRI)</td>\n",
       "      <td>3268.9</td>\n",
       "      <td>5165.0</td>\n",
       "      <td>385.6</td>\n",
       "      <td>385.6</td>\n",
       "      <td>Medium</td>\n",
       "    </tr>\n",
       "  </tbody>\n",
       "</table>\n",
       "<p>100 rows × 11 columns</p>\n",
       "</div>"
      ],
      "text/plain": [
       "                                                      Name_x  TotalAssets  \\\n",
       "Ticker                                                                      \n",
       "NYSE:AEM               Agnico Eagle Mines Limited (NYSE:AEM)      10715.5   \n",
       "TSX:AC                                   Air Canada (TSX:AC)      19197.0   \n",
       "TSX:AQN          Algonquin Power & Utilities Corp. (TSX:AQN)      12811.6   \n",
       "TSX:ATD.B          Alimentation Couche-Tard Inc. (TSX:ATD.B)      30426.3   \n",
       "TSX:AP.UN  Allied Properties Real Estate Investment Trust...       6706.3   \n",
       "...                                                      ...          ...   \n",
       "TSX:WFT                West Fraser Timber Co. Ltd. (TSX:WFT)       4791.0   \n",
       "TSX:WJA                      WestJet Airlines Ltd. (TSX:WJA)       6758.1   \n",
       "TSX:WPM              Wheaton Precious Metals Corp. (TSX:WPM)       8828.6   \n",
       "TSX:WSP                            WSP Global Inc. (TSX:WSP)       7766.6   \n",
       "TSX:YRI                           Yamana Gold Inc. (TSX:YRI)      10933.9   \n",
       "\n",
       "           TotalRevenue  GeographicSegments     PrimarySector  \\\n",
       "Ticker                                                          \n",
       "NYSE:AEM         2990.0                 5.0         Materials   \n",
       "TSX:AC          18065.0                 5.0       Industrials   \n",
       "TSX:AQN          2247.9                 2.0         Utilities   \n",
       "TSX:ATD.B       79562.8                 3.0  Consumer Staples   \n",
       "TSX:AP.UN         436.4                 1.0       Real Estate   \n",
       "...                 ...                 ...               ...   \n",
       "TSX:WFT          6118.0                 5.0         Materials   \n",
       "TSX:WJA          4728.4                 4.0       Industrials   \n",
       "TSX:WPM          1083.5                 9.0         Materials   \n",
       "TSX:WSP          7908.1                 8.0       Industrials   \n",
       "TSX:YRI          2454.1                 5.0         Materials   \n",
       "\n",
       "                                                      Name_y  \\\n",
       "Ticker                                                         \n",
       "NYSE:AEM               Agnico Eagle Mines Limited (NYSE:AEM)   \n",
       "TSX:AC                                   Air Canada (TSX:AC)   \n",
       "TSX:AQN          Algonquin Power & Utilities Corp. (TSX:AQN)   \n",
       "TSX:ATD.B          Alimentation Couche-Tard Inc. (TSX:ATD.B)   \n",
       "TSX:AP.UN  Allied Properties Real Estate Investment Trust...   \n",
       "...                                                      ...   \n",
       "TSX:WFT                West Fraser Timber Co. Ltd. (TSX:WFT)   \n",
       "TSX:WJA                      WestJet Airlines Ltd. (TSX:WJA)   \n",
       "TSX:WPM              Wheaton Precious Metals Corp. (TSX:WPM)   \n",
       "TSX:WSP                            WSP Global Inc. (TSX:WSP)   \n",
       "TSX:YRI                           Yamana Gold Inc. (TSX:YRI)   \n",
       "\n",
       "           MarketCapitalization  NumberEmployees  TotalTransactions  \\\n",
       "Ticker                                                                \n",
       "NYSE:AEM                15892.5           5990.0             1607.4   \n",
       "TSX:AC                  11338.6          32600.0              200.0   \n",
       "TSX:AQN                  8000.0           2277.0             2973.6   \n",
       "TSX:ATD.B               47281.4         133000.0             8481.1   \n",
       "TSX:AP.UN                5621.8            263.0             1415.3   \n",
       "...                         ...              ...                ...   \n",
       "TSX:WFT                  3758.8           7800.0              525.2   \n",
       "TSX:WJA                  3500.6          11905.0              598.4   \n",
       "TSX:WPM                 14000.9             39.0              713.3   \n",
       "TSX:WSP                  7728.9          49000.0                0.0   \n",
       "TSX:YRI                  3268.9           5165.0              385.6   \n",
       "\n",
       "           AverageTransactions    Size  \n",
       "Ticker                                  \n",
       "NYSE:AEM                 401.8  Medium  \n",
       "TSX:AC                   200.0  Medium  \n",
       "TSX:AQN                  495.6  Medium  \n",
       "TSX:ATD.B                848.1  Medium  \n",
       "TSX:AP.UN                202.2  Medium  \n",
       "...                        ...     ...  \n",
       "TSX:WFT                  525.2  Medium  \n",
       "TSX:WJA                  299.2  Medium  \n",
       "TSX:WPM                  713.3  Medium  \n",
       "TSX:WSP                    0.0  Medium  \n",
       "TSX:YRI                  385.6  Medium  \n",
       "\n",
       "[100 rows x 11 columns]"
      ]
     },
     "execution_count": 262,
     "metadata": {},
     "output_type": "execute_result"
    }
   ],
   "source": [
    "DF[DF['Size']=='Medium']"
   ]
  },
  {
   "cell_type": "code",
   "execution_count": 263,
   "metadata": {},
   "outputs": [
    {
     "data": {
      "image/png": "[encoded data removed]",
      "text/plain": [
       "<Figure size 432x288 with 1 Axes>"
      ]
     },
     "metadata": {},
     "output_type": "display_data"
    }
   ],
   "source": [
    "ax = sns.boxplot(x=DF['Size'], y=DF['NumberEmployees'].apply(np.log).round(1))"
   ]
  },
  {
   "cell_type": "code",
   "execution_count": 264,
   "metadata": {},
   "outputs": [
    {
     "data": {
      "image/png": "[encoded data removed]",
      "text/plain": [
       "<Figure size 432x288 with 1 Axes>"
      ]
     },
     "metadata": {},
     "output_type": "display_data"
    }
   ],
   "source": [
    "ax = sns.boxplot(x=DF['Size'], y=DF['MarketCapitalization'].apply(np.log).round(1))"
   ]
  },
  {
   "cell_type": "code",
   "execution_count": 265,
   "metadata": {},
   "outputs": [
    {
     "data": {
      "text/plain": [
       "<matplotlib.axes._subplots.AxesSubplot at 0x235b3ce7508>"
      ]
     },
     "execution_count": 265,
     "metadata": {},
     "output_type": "execute_result"
    },
    {
     "data": {
      "image/png": "[encoded data removed]",
      "text/plain": [
       "<Figure size 432x288 with 1 Axes>"
      ]
     },
     "metadata": {},
     "output_type": "display_data"
    }
   ],
   "source": [
    "sns.barplot(x='Size',y='TotalTransactions', data=DF, palette='Spectral')"
   ]
  },
  {
   "cell_type": "code",
   "execution_count": 266,
   "metadata": {},
   "outputs": [
    {
     "data": {
      "text/plain": [
       "array(['Medium', 'Small', 'Large'], dtype=object)"
      ]
     },
     "execution_count": 266,
     "metadata": {},
     "output_type": "execute_result"
    }
   ],
   "source": [
    "DF['Size'].unique()"
   ]
  },
  {
   "cell_type": "code",
   "execution_count": 267,
   "metadata": {},
   "outputs": [
    {
     "data": {
      "text/plain": [
       "132"
      ]
     },
     "execution_count": 267,
     "metadata": {},
     "output_type": "execute_result"
    }
   ],
   "source": [
    "DF.shape[0]"
   ]
  },
  {
   "cell_type": "code",
   "execution_count": 268,
   "metadata": {},
   "outputs": [
    {
     "data": {
      "text/html": [
       "<div>\n",
       "<style scoped>\n",
       "    .dataframe tbody tr th:only-of-type {\n",
       "        vertical-align: middle;\n",
       "    }\n",
       "\n",
       "    .dataframe tbody tr th {\n",
       "        vertical-align: top;\n",
       "    }\n",
       "\n",
       "    .dataframe thead th {\n",
       "        text-align: right;\n",
       "    }\n",
       "</style>\n",
       "<table border=\"1\" class=\"dataframe\">\n",
       "  <thead>\n",
       "    <tr style=\"text-align: right;\">\n",
       "      <th></th>\n",
       "      <th>TotalAssets</th>\n",
       "      <th>NumberEmployees</th>\n",
       "      <th>MarketCapitalization</th>\n",
       "      <th>TotalTransactions</th>\n",
       "      <th>AverageTransactions</th>\n",
       "    </tr>\n",
       "    <tr>\n",
       "      <th>Ticker</th>\n",
       "      <th></th>\n",
       "      <th></th>\n",
       "      <th></th>\n",
       "      <th></th>\n",
       "      <th></th>\n",
       "    </tr>\n",
       "  </thead>\n",
       "  <tbody>\n",
       "    <tr>\n",
       "      <td>NYSE:AEM</td>\n",
       "      <td>10715.5</td>\n",
       "      <td>5990.0</td>\n",
       "      <td>15892.5</td>\n",
       "      <td>1607.4</td>\n",
       "      <td>401.8</td>\n",
       "    </tr>\n",
       "    <tr>\n",
       "      <td>TSX:AC</td>\n",
       "      <td>19197.0</td>\n",
       "      <td>32600.0</td>\n",
       "      <td>11338.6</td>\n",
       "      <td>200.0</td>\n",
       "      <td>200.0</td>\n",
       "    </tr>\n",
       "    <tr>\n",
       "      <td>TSX:AGI</td>\n",
       "      <td>4455.5</td>\n",
       "      <td>1700.0</td>\n",
       "      <td>3151.9</td>\n",
       "      <td>340.1</td>\n",
       "      <td>170.1</td>\n",
       "    </tr>\n",
       "    <tr>\n",
       "      <td>TSX:AQN</td>\n",
       "      <td>12811.6</td>\n",
       "      <td>2277.0</td>\n",
       "      <td>8000.0</td>\n",
       "      <td>2973.6</td>\n",
       "      <td>495.6</td>\n",
       "    </tr>\n",
       "    <tr>\n",
       "      <td>TSX:ATD.B</td>\n",
       "      <td>30426.3</td>\n",
       "      <td>133000.0</td>\n",
       "      <td>47281.4</td>\n",
       "      <td>8481.1</td>\n",
       "      <td>848.1</td>\n",
       "    </tr>\n",
       "  </tbody>\n",
       "</table>\n",
       "</div>"
      ],
      "text/plain": [
       "           TotalAssets  NumberEmployees  MarketCapitalization  \\\n",
       "Ticker                                                          \n",
       "NYSE:AEM       10715.5           5990.0               15892.5   \n",
       "TSX:AC         19197.0          32600.0               11338.6   \n",
       "TSX:AGI         4455.5           1700.0                3151.9   \n",
       "TSX:AQN        12811.6           2277.0                8000.0   \n",
       "TSX:ATD.B      30426.3         133000.0               47281.4   \n",
       "\n",
       "           TotalTransactions  AverageTransactions  \n",
       "Ticker                                             \n",
       "NYSE:AEM              1607.4                401.8  \n",
       "TSX:AC                 200.0                200.0  \n",
       "TSX:AGI                340.1                170.1  \n",
       "TSX:AQN               2973.6                495.6  \n",
       "TSX:ATD.B             8481.1                848.1  "
      ]
     },
     "execution_count": 268,
     "metadata": {},
     "output_type": "execute_result"
    }
   ],
   "source": [
    "DF=DF[['TotalAssets', 'NumberEmployees', 'MarketCapitalization', 'TotalTransactions','AverageTransactions']]\n",
    "DF.head()"
   ]
  },
  {
   "cell_type": "code",
   "execution_count": 269,
   "metadata": {},
   "outputs": [
    {
     "data": {
      "text/html": [
       "<div>\n",
       "<style scoped>\n",
       "    .dataframe tbody tr th:only-of-type {\n",
       "        vertical-align: middle;\n",
       "    }\n",
       "\n",
       "    .dataframe tbody tr th {\n",
       "        vertical-align: top;\n",
       "    }\n",
       "\n",
       "    .dataframe thead th {\n",
       "        text-align: right;\n",
       "    }\n",
       "</style>\n",
       "<table border=\"1\" class=\"dataframe\">\n",
       "  <thead>\n",
       "    <tr style=\"text-align: right;\">\n",
       "      <th></th>\n",
       "      <th>TotalAssets</th>\n",
       "      <th>NumberEmployees</th>\n",
       "      <th>MarketCapitalization</th>\n",
       "      <th>TotalTransactions</th>\n",
       "      <th>AverageTransactions</th>\n",
       "    </tr>\n",
       "    <tr>\n",
       "      <th>Ticker</th>\n",
       "      <th></th>\n",
       "      <th></th>\n",
       "      <th></th>\n",
       "      <th></th>\n",
       "      <th></th>\n",
       "    </tr>\n",
       "  </thead>\n",
       "  <tbody>\n",
       "    <tr>\n",
       "      <td>NYSE:AEM</td>\n",
       "      <td>9.3</td>\n",
       "      <td>8.7</td>\n",
       "      <td>9.7</td>\n",
       "      <td>7.4</td>\n",
       "      <td>6.0</td>\n",
       "    </tr>\n",
       "    <tr>\n",
       "      <td>TSX:AC</td>\n",
       "      <td>9.9</td>\n",
       "      <td>10.4</td>\n",
       "      <td>9.3</td>\n",
       "      <td>5.3</td>\n",
       "      <td>5.3</td>\n",
       "    </tr>\n",
       "    <tr>\n",
       "      <td>TSX:AGI</td>\n",
       "      <td>8.4</td>\n",
       "      <td>7.4</td>\n",
       "      <td>8.1</td>\n",
       "      <td>5.8</td>\n",
       "      <td>5.1</td>\n",
       "    </tr>\n",
       "    <tr>\n",
       "      <td>TSX:AQN</td>\n",
       "      <td>9.5</td>\n",
       "      <td>7.7</td>\n",
       "      <td>9.0</td>\n",
       "      <td>8.0</td>\n",
       "      <td>6.2</td>\n",
       "    </tr>\n",
       "    <tr>\n",
       "      <td>TSX:ATD.B</td>\n",
       "      <td>10.3</td>\n",
       "      <td>11.8</td>\n",
       "      <td>10.8</td>\n",
       "      <td>9.0</td>\n",
       "      <td>6.7</td>\n",
       "    </tr>\n",
       "  </tbody>\n",
       "</table>\n",
       "</div>"
      ],
      "text/plain": [
       "           TotalAssets  NumberEmployees  MarketCapitalization  \\\n",
       "Ticker                                                          \n",
       "NYSE:AEM           9.3              8.7                   9.7   \n",
       "TSX:AC             9.9             10.4                   9.3   \n",
       "TSX:AGI            8.4              7.4                   8.1   \n",
       "TSX:AQN            9.5              7.7                   9.0   \n",
       "TSX:ATD.B         10.3             11.8                  10.8   \n",
       "\n",
       "           TotalTransactions  AverageTransactions  \n",
       "Ticker                                             \n",
       "NYSE:AEM                 7.4                  6.0  \n",
       "TSX:AC                   5.3                  5.3  \n",
       "TSX:AGI                  5.8                  5.1  \n",
       "TSX:AQN                  8.0                  6.2  \n",
       "TSX:ATD.B                9.0                  6.7  "
      ]
     },
     "execution_count": 269,
     "metadata": {},
     "output_type": "execute_result"
    }
   ],
   "source": [
    "DF_log = DF.apply(np.log).round(1)\n",
    "DF_log.head()"
   ]
  },
  {
   "cell_type": "code",
   "execution_count": 270,
   "metadata": {},
   "outputs": [
    {
     "data": {
      "text/plain": [
       "Text(0, 0.5, 'Frequency')"
      ]
     },
     "execution_count": 270,
     "metadata": {},
     "output_type": "execute_result"
    },
    {
     "data": {
      "image/png": "[encoded data removed]",
      "text/plain": [
       "<Figure size 432x288 with 1 Axes>"
      ]
     },
     "metadata": {},
     "output_type": "display_data"
    }
   ],
   "source": [
    "#DF.MarketCapitalization.plot.hist(bins=60)\n",
    "plt.hist(DF_log.MarketCapitalization,bins=60)\n",
    "plt.title('Market Capitalization')\n",
    "plt.xlabel('bins')\n",
    "plt.ylabel('Frequency')"
   ]
  },
  {
   "cell_type": "code",
   "execution_count": 276,
   "metadata": {},
   "outputs": [
    {
     "data": {
      "image/png": "[encoded data removed]",
      "text/plain": [
       "<Figure size 360x360 with 1 Axes>"
      ]
     },
     "metadata": {},
     "output_type": "display_data"
    }
   ],
   "source": [
    "sns.lmplot(x='MarketCapitalization',y='TotalTransactions',data=DF_log)\n",
    "plt.title('MarketCapitalization v/s TotalTransactions') # interfaces with matplotlib\n",
    "plt.show()"
   ]
  },
  {
   "cell_type": "code",
   "execution_count": 277,
   "metadata": {},
   "outputs": [
    {
     "data": {
      "image/png": "[encoded data removed]",
      "text/plain": [
       "<Figure size 360x360 with 1 Axes>"
      ]
     },
     "metadata": {},
     "output_type": "display_data"
    }
   ],
   "source": [
    "sns.lmplot(x='MarketCapitalization',y='NumberEmployees',data=DF_log)\n",
    "plt.title('MarketCapitalization v/s NumberEmployees') # interfaces with matplotlib\n",
    "plt.show()"
   ]
  },
  {
   "cell_type": "code",
   "execution_count": 278,
   "metadata": {},
   "outputs": [
    {
     "data": {
      "image/png": "[encoded data removed]",
      "text/plain": [
       "<Figure size 360x360 with 1 Axes>"
      ]
     },
     "metadata": {},
     "output_type": "display_data"
    }
   ],
   "source": [
    "sns.lmplot(x='MarketCapitalization',y='AverageTransactions',data=DF_log)\n",
    "plt.title('MarketCapitalization v/s AverageTransactions') # interfaces with matplotlib\n",
    "plt.show()"
   ]
  },
  {
   "cell_type": "code",
   "execution_count": 279,
   "metadata": {},
   "outputs": [
    {
     "data": {
      "text/html": [
       "<div>\n",
       "<style scoped>\n",
       "    .dataframe tbody tr th:only-of-type {\n",
       "        vertical-align: middle;\n",
       "    }\n",
       "\n",
       "    .dataframe tbody tr th {\n",
       "        vertical-align: top;\n",
       "    }\n",
       "\n",
       "    .dataframe thead th {\n",
       "        text-align: right;\n",
       "    }\n",
       "</style>\n",
       "<table border=\"1\" class=\"dataframe\">\n",
       "  <thead>\n",
       "    <tr style=\"text-align: right;\">\n",
       "      <th></th>\n",
       "      <th>TotalAssets</th>\n",
       "      <th>NumberEmployees</th>\n",
       "      <th>MarketCapitalization</th>\n",
       "      <th>TotalTransactions</th>\n",
       "      <th>AverageTransactions</th>\n",
       "    </tr>\n",
       "  </thead>\n",
       "  <tbody>\n",
       "    <tr>\n",
       "      <td>TotalAssets</td>\n",
       "      <td>1.000000</td>\n",
       "      <td>0.487627</td>\n",
       "      <td>0.717947</td>\n",
       "      <td>0.612045</td>\n",
       "      <td>0.164255</td>\n",
       "    </tr>\n",
       "    <tr>\n",
       "      <td>NumberEmployees</td>\n",
       "      <td>0.487627</td>\n",
       "      <td>1.000000</td>\n",
       "      <td>0.496697</td>\n",
       "      <td>0.370067</td>\n",
       "      <td>0.215040</td>\n",
       "    </tr>\n",
       "    <tr>\n",
       "      <td>MarketCapitalization</td>\n",
       "      <td>0.717947</td>\n",
       "      <td>0.496697</td>\n",
       "      <td>1.000000</td>\n",
       "      <td>0.633020</td>\n",
       "      <td>0.237196</td>\n",
       "    </tr>\n",
       "    <tr>\n",
       "      <td>TotalTransactions</td>\n",
       "      <td>0.612045</td>\n",
       "      <td>0.370067</td>\n",
       "      <td>0.633020</td>\n",
       "      <td>1.000000</td>\n",
       "      <td>0.434729</td>\n",
       "    </tr>\n",
       "    <tr>\n",
       "      <td>AverageTransactions</td>\n",
       "      <td>0.164255</td>\n",
       "      <td>0.215040</td>\n",
       "      <td>0.237196</td>\n",
       "      <td>0.434729</td>\n",
       "      <td>1.000000</td>\n",
       "    </tr>\n",
       "  </tbody>\n",
       "</table>\n",
       "</div>"
      ],
      "text/plain": [
       "                      TotalAssets  NumberEmployees  MarketCapitalization  \\\n",
       "TotalAssets              1.000000         0.487627              0.717947   \n",
       "NumberEmployees          0.487627         1.000000              0.496697   \n",
       "MarketCapitalization     0.717947         0.496697              1.000000   \n",
       "TotalTransactions        0.612045         0.370067              0.633020   \n",
       "AverageTransactions      0.164255         0.215040              0.237196   \n",
       "\n",
       "                      TotalTransactions  AverageTransactions  \n",
       "TotalAssets                    0.612045             0.164255  \n",
       "NumberEmployees                0.370067             0.215040  \n",
       "MarketCapitalization           0.633020             0.237196  \n",
       "TotalTransactions              1.000000             0.434729  \n",
       "AverageTransactions            0.434729             1.000000  "
      ]
     },
     "execution_count": 279,
     "metadata": {},
     "output_type": "execute_result"
    }
   ],
   "source": [
    "DF_log.corr()"
   ]
  },
  {
   "cell_type": "code",
   "execution_count": 280,
   "metadata": {},
   "outputs": [
    {
     "data": {
      "image/png": "[encoded data removed]",
      "text/plain": [
       "<Figure size 432x288 with 2 Axes>"
      ]
     },
     "metadata": {},
     "output_type": "display_data"
    }
   ],
   "source": [
    "ax = sns.heatmap(DF_log.corr())\n",
    "plt.show()"
   ]
  },
  {
   "cell_type": "code",
   "execution_count": 281,
   "metadata": {},
   "outputs": [],
   "source": [
    "DF.to_csv(path+'output.csv')"
   ]
  },
  {
   "cell_type": "code",
   "execution_count": null,
   "metadata": {},
   "outputs": [],
   "source": []
  }
 ],
 "metadata": {
  "kernelspec": {
   "display_name": "Python 3",
   "language": "python",
   "name": "python3"
  },
  "language_info": {
   "codemirror_mode": {
    "name": "ipython",
    "version": 3
   },
   "file_extension": ".py",
   "mimetype": "text/x-python",
   "name": "python",
   "nbconvert_exporter": "python",
   "pygments_lexer": "ipython3",
   "version": "3.7.4"
  }
 },
 "nbformat": 4,
 "nbformat_minor": 2
}
