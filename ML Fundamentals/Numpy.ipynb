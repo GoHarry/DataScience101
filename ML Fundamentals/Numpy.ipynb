{
 "cells": [
  {
   "cell_type": "code",
   "execution_count": 2,
   "metadata": {
    "scrolled": true
   },
   "outputs": [],
   "source": [
    "# References:\n",
    "# Quickstart tutorial: https://docs.scipy.org/doc/numpy/user/quickstart.html\n",
    "# Docs - Numpy Reference: https://docs.scipy.org/doc/numpy/reference/index.html\n",
    "# Stanford CS Class (Justin Johnson): http://cs231n.github.io/python-numpy-tutorial/\n",
    "# Datacamp cheat sheet: https://s3.amazonaws.com/assets.datacamp.com/blog_assets/Numpy_Python_Cheat_Sheet.pdf"
   ]
  },
  {
   "cell_type": "code",
   "execution_count": 3,
   "metadata": {},
   "outputs": [
    {
     "data": {
      "text/plain": [
       "'1.17.3'"
      ]
     },
     "execution_count": 3,
     "metadata": {},
     "output_type": "execute_result"
    }
   ],
   "source": [
    "# Imports\n",
    "import random as rand\n",
    "import numpy as np\n",
    "np.__version__"
   ]
  },
  {
   "cell_type": "code",
   "execution_count": 8,
   "metadata": {},
   "outputs": [],
   "source": [
    "# NumPy\n",
    "# Array object - homogenous (same type of element) multidimensional array (table)\n",
    "# Sophisticated functions\n",
    "# Linear algebra"
   ]
  },
  {
   "cell_type": "code",
   "execution_count": 9,
   "metadata": {},
   "outputs": [
    {
     "name": "stdout",
     "output_type": "stream",
     "text": [
      "['Krista', 'Jose', 'Arun', 'Marek', 'Joe']\n",
      "[158, 165, 151, 189, 178]\n",
      "[29, 62, 25, 65, 59]\n"
     ]
    }
   ],
   "source": [
    "# Life without arrays\n",
    "rand.seed(22)\n",
    "names = ['Krista', 'Jose', 'Arun', 'Marek', 'Joe']\n",
    "heights = [rand.randint(150,200) for i in names]\n",
    "ages = [rand.randint(18,80) for i in names]\n",
    "print(names)\n",
    "print(heights)\n",
    "print(ages)"
   ]
  },
  {
   "cell_type": "code",
   "execution_count": 10,
   "metadata": {},
   "outputs": [
    {
     "name": "stdout",
     "output_type": "stream",
     "text": [
      "[58, 124, 50, 130, 118]\n",
      "[ 58 124  50 130 118]\n"
     ]
    }
   ],
   "source": [
    "# Multiply age by 2\n",
    "def elementwise_multiplication(my_list, var):\n",
    "    new = []\n",
    "    for element in my_list:\n",
    "        new.append(element*var)\n",
    "    return new\n",
    "\n",
    "age_by_two = elementwise_multiplication(ages, 2)\n",
    "print(age_by_two)   \n",
    "\n",
    "# With numpy\n",
    "print(np.array(ages)*2)"
   ]
  },
  {
   "cell_type": "code",
   "execution_count": 11,
   "metadata": {},
   "outputs": [
    {
     "name": "stderr",
     "output_type": "stream",
     "text": [
      "UsageError: Line magic function `%` not found.\n"
     ]
    }
   ],
   "source": [
    "# NumPy also facilitates faster operations when large datasets are involved because NumPy uses vectorized operations\n",
    "# No loops necessary\n",
    "\n",
    "basic_python = range(10000)\n",
    "numpy_fun = np.arange(10000)\n",
    "\n",
    "% timeit elementwise_multiplication(basic_python,500)\n",
    "% timeit numpy_fun*500\n",
    "\n",
    "# milliseconds (ms), microseconds (us)"
   ]
  },
  {
   "cell_type": "code",
   "execution_count": 12,
   "metadata": {
    "scrolled": false
   },
   "outputs": [
    {
     "name": "stdout",
     "output_type": "stream",
     "text": [
      "[1 2 3]\n",
      "<class 'numpy.ndarray'>\n"
     ]
    }
   ],
   "source": [
    "# Create an array\n",
    "a = np.array([1, 2, 3])   # Create a rank 1 array\n",
    "print(a)\n",
    "print(type(a)) "
   ]
  },
  {
   "cell_type": "code",
   "execution_count": 13,
   "metadata": {
    "scrolled": true
   },
   "outputs": [
    {
     "name": "stdout",
     "output_type": "stream",
     "text": [
      "1\n",
      "[100   2   3]\n"
     ]
    }
   ],
   "source": [
    "# List-like functionality\n",
    "print(a[0]) # Indexing\n",
    "a[0] = 100 # Replacing values\n",
    "print(a)"
   ]
  },
  {
   "cell_type": "code",
   "execution_count": 14,
   "metadata": {},
   "outputs": [
    {
     "name": "stdout",
     "output_type": "stream",
     "text": [
      "100\n",
      "2\n",
      "3\n"
     ]
    }
   ],
   "source": [
    "# iterating over values\n",
    "for i in a:\n",
    "    print(i)"
   ]
  },
  {
   "cell_type": "code",
   "execution_count": 15,
   "metadata": {
    "scrolled": true
   },
   "outputs": [
    {
     "name": "stdout",
     "output_type": "stream",
     "text": [
      "(3,)\n",
      "3\n"
     ]
    }
   ],
   "source": [
    "print(a.shape)  # View the shape  \n",
    "print(len(a))"
   ]
  },
  {
   "cell_type": "code",
   "execution_count": 16,
   "metadata": {},
   "outputs": [
    {
     "name": "stdout",
     "output_type": "stream",
     "text": [
      "[[1 2 3]\n",
      " [4 5 6]]\n",
      "\n",
      "(2, 3)\n"
     ]
    }
   ],
   "source": [
    "# Multidimensional array\n",
    "m = np.array([[1,2,3], [4,5,6]])\n",
    "print(m)\n",
    "print()\n",
    "\n",
    "print(m.shape) # (rows, columns) "
   ]
  },
  {
   "cell_type": "code",
   "execution_count": 17,
   "metadata": {
    "scrolled": true
   },
   "outputs": [
    {
     "name": "stdout",
     "output_type": "stream",
     "text": [
      "[[0. 0.]\n",
      " [0. 0.]]\n"
     ]
    }
   ],
   "source": [
    "# Creating different types of multidimensional arrays\n",
    "a = np.zeros((2,2))   # Create an array of all zeros\n",
    "print(a)                   "
   ]
  },
  {
   "cell_type": "code",
   "execution_count": 18,
   "metadata": {},
   "outputs": [
    {
     "name": "stdout",
     "output_type": "stream",
     "text": [
      "[[1. 1.]\n",
      " [1. 1.]]\n",
      "[[7 7]\n",
      " [7 7]]\n"
     ]
    }
   ],
   "source": [
    "b = np.ones((2,2))    # Create an array of all ones\n",
    "print(b)  \n",
    "c = np.full((2,2), 7)  # Create a constant array\n",
    "print(c)          "
   ]
  },
  {
   "cell_type": "code",
   "execution_count": 19,
   "metadata": {},
   "outputs": [
    {
     "name": "stdout",
     "output_type": "stream",
     "text": [
      "[[1. 0.]\n",
      " [0. 1.]]\n",
      "[[0.66529586 0.34973539]\n",
      " [0.96205144 0.7486022 ]]\n"
     ]
    }
   ],
   "source": [
    "d = np.eye(2,2)         # Create a 2x2 identity matrix\n",
    "print(d)              \n",
    "e = np.random.random((2,2))  # Create an array filled with random values\n",
    "print(e)      "
   ]
  },
  {
   "cell_type": "code",
   "execution_count": 20,
   "metadata": {},
   "outputs": [
    {
     "name": "stdout",
     "output_type": "stream",
     "text": [
      "[0 1 2 3 4 5 6 7 8 9]\n",
      "[ 2  4  6  8 10]\n",
      "[22 22 22 22 22]\n"
     ]
    }
   ],
   "source": [
    "# Creating 1 dimensional arrays\n",
    "f = np.arange(10) # Creates 1D array - numbers 0 to 10\n",
    "print(f)\n",
    "g = np.arange(2,11,2) # (start, end, step)\n",
    "print(g)\n",
    "h = np.repeat(22,5) # Create 1D array of 22s \n",
    "print(h)"
   ]
  },
  {
   "cell_type": "code",
   "execution_count": 21,
   "metadata": {},
   "outputs": [
    {
     "name": "stdout",
     "output_type": "stream",
     "text": [
      "[0. 1. 2.]\n"
     ]
    }
   ],
   "source": [
    "i = np.linspace(0, 2, 3) # 3 numbers from 0 to 2, evenly spaced\n",
    "print(i)"
   ]
  },
  {
   "cell_type": "code",
   "execution_count": 22,
   "metadata": {
    "scrolled": false
   },
   "outputs": [
    {
     "name": "stdout",
     "output_type": "stream",
     "text": [
      "[[ 1  2  3  4]\n",
      " [ 5  6  7  8]\n",
      " [ 9 10 11 12]]\n",
      "\n",
      "(3, 4)\n",
      "\n",
      "2\n",
      "\n",
      "12\n"
     ]
    }
   ],
   "source": [
    "# Viewing an array\n",
    "a = np.array([[1,2,3,4], [5,6,7,8], [9,10,11,12]])\n",
    "print(a) \n",
    "print()\n",
    "print(a.shape) #(rows, columns) - axes\n",
    "print()\n",
    "print(a.ndim) # Dimensions = length of shape \n",
    "print()\n",
    "print(a.size) # Number of elements in array (product of shape)"
   ]
  },
  {
   "cell_type": "code",
   "execution_count": 23,
   "metadata": {},
   "outputs": [
    {
     "name": "stdout",
     "output_type": "stream",
     "text": [
      "[[[1]\n",
      "  [2]\n",
      "  [3]\n",
      "  [4]]\n",
      "\n",
      " [[5]\n",
      "  [6]\n",
      "  [7]\n",
      "  [8]]]\n",
      "(2, 4, 1)\n",
      "3\n"
     ]
    }
   ],
   "source": [
    "# A three-dimensional array\n",
    "three_d = np.array([[[1],[2],[3],[4]],[[5],[6],[7],[8]]])\n",
    "print(three_d)\n",
    "print(three_d.shape)\n",
    "print(three_d.ndim)"
   ]
  },
  {
   "cell_type": "code",
   "execution_count": 24,
   "metadata": {
    "scrolled": true
   },
   "outputs": [
    {
     "name": "stdout",
     "output_type": "stream",
     "text": [
      "[[ 1  2  3  4]\n",
      " [ 5  6  7  8]\n",
      " [ 9 10 11 12]]\n"
     ]
    }
   ],
   "source": [
    "# Indexing multidimensional arrays\n",
    "A = np.array([[1,2,3,4], [5,6,7,8], [9,10,11,12]])\n",
    "print(A)"
   ]
  },
  {
   "cell_type": "code",
   "execution_count": 25,
   "metadata": {},
   "outputs": [
    {
     "name": "stdout",
     "output_type": "stream",
     "text": [
      "[1 2]\n",
      "\n"
     ]
    }
   ],
   "source": [
    "# Get first two columns of first row\n",
    "print(A[0, :2]) # [index rows, index columns]\n",
    "print()"
   ]
  },
  {
   "cell_type": "code",
   "execution_count": 26,
   "metadata": {},
   "outputs": [
    {
     "name": "stdout",
     "output_type": "stream",
     "text": [
      "[[1 2]\n",
      " [5 6]]\n",
      "\n"
     ]
    }
   ],
   "source": [
    "# Get first two columns of first two rows\n",
    "print(A[:2, :2])\n",
    "print()"
   ]
  },
  {
   "cell_type": "code",
   "execution_count": 27,
   "metadata": {},
   "outputs": [
    {
     "name": "stdout",
     "output_type": "stream",
     "text": [
      "[ 4  8 12]\n"
     ]
    }
   ],
   "source": [
    "# Get last column \n",
    "print(A[:,-1])"
   ]
  },
  {
   "cell_type": "code",
   "execution_count": 28,
   "metadata": {
    "scrolled": false
   },
   "outputs": [
    {
     "name": "stdout",
     "output_type": "stream",
     "text": [
      "[ 9 10 11 12]\n",
      "[ 9 10 11 12]\n"
     ]
    }
   ],
   "source": [
    "# Last row\n",
    "print(a[-1,:])\n",
    "print(a[-1]) # Assumes all columns"
   ]
  },
  {
   "cell_type": "code",
   "execution_count": 29,
   "metadata": {
    "scrolled": true
   },
   "outputs": [
    {
     "name": "stdout",
     "output_type": "stream",
     "text": [
      "[1 2 3 4]\n",
      "[5 6 7 8]\n",
      "[ 9 10 11 12]\n"
     ]
    }
   ],
   "source": [
    "# Iterating over a multidimensional array is row-based\n",
    "for row in a:\n",
    "    print(row)\n",
    "# (use a.flat to iterate over each element)"
   ]
  },
  {
   "cell_type": "code",
   "execution_count": 30,
   "metadata": {
    "scrolled": true
   },
   "outputs": [
    {
     "name": "stdout",
     "output_type": "stream",
     "text": [
      "9\n"
     ]
    }
   ],
   "source": [
    "### Exercise ###\n",
    "# Create a 3x3 identity matrix\n",
    "# Guess the size of the 3x3 matrix and then verify your guess\n",
    "i3 = np.eye(3,3) \n",
    "print(i3.size)"
   ]
  },
  {
   "cell_type": "code",
   "execution_count": 40,
   "metadata": {},
   "outputs": [
    {
     "name": "stdout",
     "output_type": "stream",
     "text": [
      "[1. 0. 0.]\n",
      "[1. 0. 0.]\n",
      "1\n"
     ]
    }
   ],
   "source": [
    "# Identify two different ways to get a one-dimensional array with the values [1,0,0]\n",
    "# Check that both of the arrays you created are in fact one dimensional\n",
    "print(i3[:,0])\n",
    "print(i3[0,:])\n",
    "print((np.array([1,0,0])).ndim)"
   ]
  },
  {
   "cell_type": "code",
   "execution_count": 41,
   "metadata": {},
   "outputs": [
    {
     "name": "stdout",
     "output_type": "stream",
     "text": [
      "[[158 165 151 189 178]\n",
      " [ 29  62  25  65  59]]\n",
      "[151  25]\n",
      "[151  25]\n"
     ]
    }
   ],
   "source": [
    "# Create an array using the heights and ages lists defined at the beginning \n",
    "# of this notebook, call it \"my_array\"\n",
    "# Guess the shape and dimensions of the array, check using numpy\n",
    "# Select Arun's information only\n",
    "my_array = np.array([heights,ages])\n",
    "print(my_array)\n",
    "arun_index=names.index('Arun')\n",
    "print(my_array[:,arun_index])\n",
    "for i in range(len(names)):\n",
    "    if names[i] == 'Arun':\n",
    "        print(my_array[:,i])"
   ]
  },
  {
   "cell_type": "code",
   "execution_count": 68,
   "metadata": {},
   "outputs": [
    {
     "name": "stdout",
     "output_type": "stream",
     "text": [
      "[[False False False False]\n",
      " [False False  True  True]\n",
      " [ True  True  True  True]]\n",
      "\n",
      "[ 7  8  9 10 11 12]\n",
      "\n",
      "[ 7  8  9 10 11 12]\n"
     ]
    }
   ],
   "source": [
    "# Boolean indexing\n",
    "bool_id=a>6\n",
    "print(bool_id)\n",
    "print()\n",
    "\n",
    "print(a[bool_id])\n",
    "print()\n",
    "print(a[a>6])"
   ]
  },
  {
   "cell_type": "code",
   "execution_count": 42,
   "metadata": {
    "scrolled": true
   },
   "outputs": [
    {
     "name": "stdout",
     "output_type": "stream",
     "text": [
      "int32\n"
     ]
    }
   ],
   "source": [
    "# Datatypes \n",
    "print(A.dtype)"
   ]
  },
  {
   "cell_type": "code",
   "execution_count": 108,
   "metadata": {},
   "outputs": [
    {
     "name": "stdout",
     "output_type": "stream",
     "text": [
      "float64\n",
      "[1 2]\n",
      "int32\n"
     ]
    }
   ],
   "source": [
    "float_list = [1.,2.]\n",
    "print(np.array(float_list).dtype)\n",
    "\n",
    "print(np.array(float_list, dtype='int32')) # Force a certain type\n",
    "print(np.array(float_list, dtype='int32').dtype) # Force a certain type"
   ]
  },
  {
   "cell_type": "code",
   "execution_count": 109,
   "metadata": {},
   "outputs": [
    {
     "name": "stdout",
     "output_type": "stream",
     "text": [
      "<U1\n",
      "['1.0' 'a' '2']\n"
     ]
    }
   ],
   "source": [
    "print(np.array(['a','b','c']).dtype) # Check type\n",
    "\n",
    "print(np.array([1.,'a', 2])) # Unklike lists, the elements of a NumPy array must be the same type"
   ]
  },
  {
   "cell_type": "code",
   "execution_count": 51,
   "metadata": {},
   "outputs": [
    {
     "data": {
      "text/plain": [
       "array([62, 65, 59])"
      ]
     },
     "execution_count": 51,
     "metadata": {},
     "output_type": "execute_result"
    }
   ],
   "source": [
    "# Exercise:\n",
    "# Using \"my_array\" defined in the last exercise\n",
    "# Select only ages where height is above 160 cm\n",
    "# Print the current datatype\n",
    "# Convert the datatype to float (hint: astype())\n",
    "my_array[1,my_array[0]>160]"
   ]
  },
  {
   "cell_type": "code",
   "execution_count": 112,
   "metadata": {},
   "outputs": [
    {
     "name": "stdout",
     "output_type": "stream",
     "text": [
      "[[ 4.  6.]\n",
      " [ 8. 10.]]\n",
      "[[1. 1.]\n",
      " [2. 2.]]\n",
      "\n",
      "[[3. 5.]\n",
      " [6. 8.]]\n",
      "[[3. 5.]\n",
      " [6. 8.]]\n",
      "\n",
      "[[ 5.  7.]\n",
      " [10. 12.]]\n"
     ]
    }
   ],
   "source": [
    "# Arithmetic operators - apply elementwise!\n",
    "A = np.array([[4,6],[8,10]], dtype=np.float64)\n",
    "B = np.array([[1,1],[2,2]], dtype=np.float64)\n",
    "\n",
    "print(A)\n",
    "print(B)\n",
    "print()\n",
    "\n",
    "print(A - B)  # Elementwise subtraction\n",
    "print(np.subtract(A,B)) \n",
    "print()\n",
    "\n",
    "print(A + B) # np.add()"
   ]
  },
  {
   "cell_type": "code",
   "execution_count": 113,
   "metadata": {
    "scrolled": false
   },
   "outputs": [
    {
     "name": "stdout",
     "output_type": "stream",
     "text": [
      "[[ 4.  6.]\n",
      " [16. 20.]]\n",
      "\n",
      "[[4. 6.]\n",
      " [4. 5.]]\n",
      "\n",
      "[[2. 3.]\n",
      " [4. 5.]]\n",
      "\n"
     ]
    }
   ],
   "source": [
    "print(A * B) # np.multiply() (broadcasting)\n",
    "print()\n",
    "\n",
    "print(A / B) #np.divide() \n",
    "print()\n"
   ]
  },
  {
   "cell_type": "code",
   "execution_count": 114,
   "metadata": {},
   "outputs": [
    {
     "name": "stdout",
     "output_type": "stream",
     "text": [
      "[[2. 3.]\n",
      " [4. 5.]]\n",
      "\n",
      "[[ 8. 12.]\n",
      " [16. 20.]]\n"
     ]
    }
   ],
   "source": [
    "print(A/2)\n",
    "print()\n",
    "\n",
    "print(A*2)"
   ]
  },
  {
   "cell_type": "markdown",
   "metadata": {},
   "source": [
    "More on broadcasting...\n",
    "\n",
    "The basics:\n",
    "* Two matrices can be broadcast (multiplied, added, divided elementwise) if they have compatible dimensions\n",
    "* Dimensions are compatible if they are equal or if one of them is 1\n",
    "* The arrays do not have to have the same number of dimensions (example below)\n",
    "\n",
    "Learn more here:\n",
    "* https://docs.scipy.org/doc/numpy/user/basics.broadcasting.html\n",
    "\n",
    "* http://cs231n.github.io/python-numpy-tutorial/#numpy-broadcasting\n"
   ]
  },
  {
   "cell_type": "code",
   "execution_count": 117,
   "metadata": {},
   "outputs": [
    {
     "name": "stdout",
     "output_type": "stream",
     "text": [
      "[[ 4.  6.]\n",
      " [ 8. 10.]]\n",
      "(2,)\n",
      "[[ 4. 12.]\n",
      " [ 8. 20.]]\n"
     ]
    }
   ],
   "source": [
    "print(A)\n",
    "one_d = np.array([1,2])\n",
    "print(one_d.shape)\n",
    "\n",
    "print(A * one_d)"
   ]
  },
  {
   "cell_type": "code",
   "execution_count": 119,
   "metadata": {},
   "outputs": [
    {
     "name": "stdout",
     "output_type": "stream",
     "text": [
      "[0 1 2 3] [0 1 2 3 4]\n"
     ]
    }
   ],
   "source": [
    "len_4 = np.arange(4)\n",
    "len_5 = np.arange(5)\n",
    "\n",
    "print(len_4, len_5)"
   ]
  },
  {
   "cell_type": "code",
   "execution_count": 125,
   "metadata": {
    "scrolled": true
   },
   "outputs": [
    {
     "ename": "ValueError",
     "evalue": "operands could not be broadcast together with shapes (4,) (5,) ",
     "output_type": "error",
     "traceback": [
      "\u001b[1;31m---------------------------------------------------------------------------\u001b[0m",
      "\u001b[1;31mValueError\u001b[0m                                Traceback (most recent call last)",
      "\u001b[1;32m<ipython-input-125-3f40a89297a0>\u001b[0m in \u001b[0;36m<module>\u001b[1;34m()\u001b[0m\n\u001b[1;32m----> 1\u001b[1;33m \u001b[0mlen_4\u001b[0m \u001b[1;33m+\u001b[0m \u001b[0mlen_5\u001b[0m\u001b[1;33m\u001b[0m\u001b[0m\n\u001b[0m",
      "\u001b[1;31mValueError\u001b[0m: operands could not be broadcast together with shapes (4,) (5,) "
     ]
    }
   ],
   "source": [
    "len_4 + len_5"
   ]
  },
  {
   "cell_type": "code",
   "execution_count": 122,
   "metadata": {},
   "outputs": [
    {
     "name": "stdout",
     "output_type": "stream",
     "text": [
      "[[0]\n",
      " [1]\n",
      " [2]\n",
      " [3]]\n",
      "(4, 1)\n"
     ]
    }
   ],
   "source": [
    "four_one = len_4.reshape(4, 1)\n",
    "print(four_one)\n",
    "print(four_one.shape)"
   ]
  },
  {
   "cell_type": "code",
   "execution_count": 126,
   "metadata": {},
   "outputs": [
    {
     "name": "stdout",
     "output_type": "stream",
     "text": [
      "[[0 1 2 3 4]\n",
      " [1 2 3 4 5]\n",
      " [2 3 4 5 6]\n",
      " [3 4 5 6 7]]\n"
     ]
    }
   ],
   "source": [
    "print(four_one + len_5)"
   ]
  },
  {
   "cell_type": "code",
   "execution_count": 127,
   "metadata": {},
   "outputs": [
    {
     "name": "stdout",
     "output_type": "stream",
     "text": [
      "[[2.         2.44948974]\n",
      " [2.82842712 3.16227766]]\n",
      "\n",
      "[[-0.7568025  -0.2794155 ]\n",
      " [ 0.98935825 -0.54402111]]\n"
     ]
    }
   ],
   "source": [
    "print(np.sqrt(A))\n",
    "print()\n",
    "\n",
    "print(np.sin(A))"
   ]
  },
  {
   "cell_type": "code",
   "execution_count": 128,
   "metadata": {},
   "outputs": [
    {
     "name": "stdout",
     "output_type": "stream",
     "text": [
      "[[1.38629436 1.79175947]\n",
      " [2.07944154 2.30258509]]\n",
      "\n",
      "[[ 4.  6.]\n",
      " [ 8. 10.]]\n",
      "\n"
     ]
    }
   ],
   "source": [
    "print(np.log(A))\n",
    "print()\n",
    "\n",
    "print(np.exp(np.log(A)))\n",
    "print()\n"
   ]
  },
  {
   "cell_type": "code",
   "execution_count": 74,
   "metadata": {},
   "outputs": [
    {
     "name": "stdout",
     "output_type": "stream",
     "text": [
      "[[ 4.  6.]\n",
      " [ 8. 10.]]\n",
      "\n",
      "28.0\n",
      "28.0\n",
      "[12. 16.]\n",
      "\n",
      "7.0\n",
      "\n",
      "4.02\n"
     ]
    }
   ],
   "source": [
    "# Aggregation functions\n",
    "print(A)\n",
    "print()\n",
    "\n",
    "print(A.sum()) # sums all elements together\n",
    "print(np.sum(A))\n",
    "\n",
    "print(np.sum(A, axis=0)) # sums down each column\n",
    "print()\n",
    "\n",
    "print(np.mean(A))\n",
    "print()\n",
    "\n",
    "print(np.round(np.percentile(A,.25),2))"
   ]
  },
  {
   "cell_type": "code",
   "execution_count": 64,
   "metadata": {},
   "outputs": [
    {
     "name": "stdout",
     "output_type": "stream",
     "text": [
      "[[158 165 151 189 178]\n",
      " [ 29  62  25  65  59]]\n",
      "[168.2  48. ]\n",
      "[12.28820573  5.        ]\n",
      "[[157 164 150 188 177]\n",
      " [ 27  60  23  63  57]]\n"
     ]
    },
    {
     "data": {
      "text/plain": [
       "array([[5.06259503, 5.10594547, 5.01727984, 5.24174702, 5.18178355],\n",
       "       [3.36729583, 4.12713439, 3.21887582, 4.17438727, 4.07753744]])"
      ]
     },
     "execution_count": 64,
     "metadata": {},
     "output_type": "execute_result"
    }
   ],
   "source": [
    "# Exercise:\n",
    "# Using \"my_array\"\n",
    "# Tell me the mean of both heights and ages in one line of code\n",
    "# Tell me the square root of Arun's age and height\n",
    "# Subract 1 from each height and 2 from each age\n",
    "# Find the log of all heights and ages\n",
    "print(my_array)\n",
    "print(np.mean(my_array, axis=1))\n",
    "arun_index=names.index('Arun')\n",
    "print(np.sqrt(my_array[:,arun_index]))\n",
    "print(np.array([my_array[0]-1, my_array[1]-2]))\n",
    "np.log(my_array)"
   ]
  },
  {
   "cell_type": "code",
   "execution_count": 79,
   "metadata": {},
   "outputs": [
    {
     "name": "stdout",
     "output_type": "stream",
     "text": [
      "22\n",
      "22\n"
     ]
    }
   ],
   "source": [
    "# Matrix multiplication\n",
    "a = np.array([1,2])\n",
    "b = np.array([2,10])\n",
    "print(np.dot(a,b)) # Dot product of two vectors\n",
    "print(a.dot(b))"
   ]
  },
  {
   "cell_type": "code",
   "execution_count": 80,
   "metadata": {
    "scrolled": true
   },
   "outputs": [
    {
     "name": "stdout",
     "output_type": "stream",
     "text": [
      "[[ 4.  6.]\n",
      " [ 8. 10.]]\n",
      "[[1. 1.]\n",
      " [2. 2.]]\n",
      "\n",
      "[[16. 16.]\n",
      " [28. 28.]]\n",
      "[[16. 16.]\n",
      " [28. 28.]]\n"
     ]
    }
   ],
   "source": [
    "print(A)\n",
    "print(B)\n",
    "print()\n",
    "print(A.dot(B)) # Matrix product\n",
    "print(A @ B)  # Note difference from A*B"
   ]
  },
  {
   "cell_type": "code",
   "execution_count": 81,
   "metadata": {},
   "outputs": [
    {
     "data": {
      "text/plain": [
       "array([5., 5.])"
      ]
     },
     "execution_count": 81,
     "metadata": {},
     "output_type": "execute_result"
    }
   ],
   "source": [
    "a.dot(B)"
   ]
  },
  {
   "cell_type": "code",
   "execution_count": 82,
   "metadata": {},
   "outputs": [],
   "source": [
    "# Exercise:\n",
    "# Verify the above by hand"
   ]
  },
  {
   "cell_type": "code",
   "execution_count": 83,
   "metadata": {},
   "outputs": [
    {
     "data": {
      "text/plain": [
       "array([[ 4.,  6.],\n",
       "       [ 8., 10.]])"
      ]
     },
     "execution_count": 83,
     "metadata": {},
     "output_type": "execute_result"
    }
   ],
   "source": [
    "A"
   ]
  },
  {
   "cell_type": "code",
   "execution_count": 84,
   "metadata": {
    "scrolled": false
   },
   "outputs": [
    {
     "data": {
      "text/plain": [
       "array([[ 4.,  8.],\n",
       "       [ 6., 10.]])"
      ]
     },
     "execution_count": 84,
     "metadata": {},
     "output_type": "execute_result"
    }
   ],
   "source": [
    "# Reshaping arrays\n",
    "A.T # Transpose rows->columns, columns->rows"
   ]
  },
  {
   "cell_type": "code",
   "execution_count": 85,
   "metadata": {},
   "outputs": [
    {
     "data": {
      "text/plain": [
       "array([ 4.,  6.,  8., 10.])"
      ]
     },
     "execution_count": 85,
     "metadata": {},
     "output_type": "execute_result"
    }
   ],
   "source": [
    "A.ravel() # Flatten"
   ]
  },
  {
   "cell_type": "code",
   "execution_count": 86,
   "metadata": {
    "scrolled": false
   },
   "outputs": [
    {
     "data": {
      "text/plain": [
       "array([[ 4.],\n",
       "       [ 6.],\n",
       "       [ 8.],\n",
       "       [10.]])"
      ]
     },
     "execution_count": 86,
     "metadata": {},
     "output_type": "execute_result"
    }
   ],
   "source": [
    "# Reshape the array to have one column and four rows\n",
    "A.reshape(4,1) "
   ]
  },
  {
   "cell_type": "code",
   "execution_count": 87,
   "metadata": {},
   "outputs": [
    {
     "name": "stdout",
     "output_type": "stream",
     "text": [
      "[[ 4.  6.]\n",
      " [ 8. 10.]]\n"
     ]
    }
   ],
   "source": [
    "print(A) # original array is not modified"
   ]
  },
  {
   "cell_type": "code",
   "execution_count": 88,
   "metadata": {},
   "outputs": [
    {
     "data": {
      "text/plain": [
       "[[4.0, 6.0], [8.0, 10.0]]"
      ]
     },
     "execution_count": 88,
     "metadata": {},
     "output_type": "execute_result"
    }
   ],
   "source": [
    "# Convert back to list(s)\n",
    "A.tolist() "
   ]
  },
  {
   "cell_type": "code",
   "execution_count": 89,
   "metadata": {},
   "outputs": [
    {
     "name": "stdout",
     "output_type": "stream",
     "text": [
      "[1 3 0 4 2]\n",
      "[1 2 3 4 5]\n"
     ]
    }
   ],
   "source": [
    "# Sorting\n",
    "a=np.array([3,1,5,2,4])\n",
    "sort_i=np.argsort(a)\n",
    "print(sort_i)\n",
    "print(a[sort_i])"
   ]
  },
  {
   "cell_type": "code",
   "execution_count": 86,
   "metadata": {
    "scrolled": true
   },
   "outputs": [
    {
     "data": {
      "text/plain": [
       "array([151,  25])"
      ]
     },
     "execution_count": 86,
     "metadata": {},
     "output_type": "execute_result"
    }
   ],
   "source": [
    "# Exercise\n",
    "# Sort \"my_array\" by height\n",
    "# Create a new array that has the information for each person (height, age) in rows instead of columns\n",
    "# Select Arun's information from the new array\n",
    "\n",
    "my_array[:,np.argsort(my_array[0])]\n",
    "new_arr = my_array.T\n",
    "arun_index=names.index('Arun')\n",
    "new_arr[arun_index,:]"
   ]
  },
  {
   "cell_type": "code",
   "execution_count": 91,
   "metadata": {
    "scrolled": true
   },
   "outputs": [
    {
     "data": {
      "text/plain": [
       "(2, 5)"
      ]
     },
     "execution_count": 91,
     "metadata": {},
     "output_type": "execute_result"
    }
   ],
   "source": [
    "# Create a deep copy of a NumPy array\n",
    "new_array = my_array.copy()\n",
    "new_array.shape"
   ]
  },
  {
   "cell_type": "code",
   "execution_count": 92,
   "metadata": {},
   "outputs": [
    {
     "name": "stdout",
     "output_type": "stream",
     "text": [
      "[[7 7 7]\n",
      " [7 7 7]\n",
      " [7 7 7]]\n",
      "\n",
      "[[50  7  7]\n",
      " [ 7  7  7]\n",
      " [ 7  7  7]]\n",
      "\n",
      "[50  7  7]\n"
     ]
    }
   ],
   "source": [
    "# Demo of modifying slices\n",
    "TEST = np.full((3,3),7)\n",
    "print(TEST)\n",
    "slice_test = TEST[0]\n",
    "slice_test[0]=50\n",
    "print()\n",
    "print(TEST)\n",
    "print()\n",
    "print(slice_test)"
   ]
  },
  {
   "cell_type": "code",
   "execution_count": 93,
   "metadata": {},
   "outputs": [],
   "source": [
    "# Exercise:\n",
    "# After creating a copy of my_array, alter the new array\n",
    "# Check that my_array hasn't changed and that the new array has\n"
   ]
  }
 ],
 "metadata": {
  "kernelspec": {
   "display_name": "Python 3",
   "language": "python",
   "name": "python3"
  },
  "language_info": {
   "codemirror_mode": {
    "name": "ipython",
    "version": 3
   },
   "file_extension": ".py",
   "mimetype": "text/x-python",
   "name": "python",
   "nbconvert_exporter": "python",
   "pygments_lexer": "ipython3",
   "version": "3.6.7"
  }
 },
 "nbformat": 4,
 "nbformat_minor": 2
}
