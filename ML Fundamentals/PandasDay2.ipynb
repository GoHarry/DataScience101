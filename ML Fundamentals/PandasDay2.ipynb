{
 "cells": [
  {
   "cell_type": "code",
   "execution_count": 5,
   "metadata": {},
   "outputs": [],
   "source": [
    "# References: \n",
    "# 10 minutes to Pandas: https://pandas.pydata.org/pandas-docs/stable/getting_started/10min.html\n",
    "# Docs - https://pandas.pydata.org/pandas-docs/stable/reference/index.html\n",
    "# Datacamp cheat sheet: http://datacamp-community-prod.s3.amazonaws.com/dbed353d-2757-4617-8206-8767ab379ab3"
   ]
  },
  {
   "cell_type": "code",
   "execution_count": 3,
   "metadata": {},
   "outputs": [
    {
     "data": {
      "text/plain": [
       "'0.25.1'"
      ]
     },
     "execution_count": 3,
     "metadata": {},
     "output_type": "execute_result"
    }
   ],
   "source": [
    "# Imports\n",
    "import pandas as pd\n",
    "import numpy as np\n",
    "import random as rand\n",
    "#path = 'C:\\\\Users\\\\K\\\\AIDeepDiveMaterials\\\\' \n",
    "path = 'C:\\\\Users\\\\hksingh\\\\Documents\\\\AIDeepDive\\\\' # Replace with the folder containing the materials for this class\n",
    "pd.__version__ "
   ]
  },
  {
   "cell_type": "code",
   "execution_count": 4,
   "metadata": {},
   "outputs": [
    {
     "name": "stdout",
     "output_type": "stream",
     "text": [
      "['Krista', 'Jose', 'Arun', 'Marek', 'Joe']\n",
      "[158, 165, 151, 189, 178]\n",
      "[29, 62, 25, 65, 59]\n"
     ]
    }
   ],
   "source": [
    "# Life without arrays\n",
    "rand.seed(22)\n",
    "names = ['Krista', 'Jose', 'Arun', 'Marek', 'Joe']\n",
    "heights = [rand.randint(150,200) for i in names]\n",
    "ages = [rand.randint(18,80) for i in names]\n",
    "print(names)\n",
    "print(heights)\n",
    "print(ages)"
   ]
  },
  {
   "cell_type": "code",
   "execution_count": 5,
   "metadata": {},
   "outputs": [
    {
     "name": "stdout",
     "output_type": "stream",
     "text": [
      "[29, 62, 25, 65, 59, 29, 62, 25, 65, 59]\n"
     ]
    }
   ],
   "source": [
    "# Multiple each age, add 2 to each age\n",
    "print(ages*2)\n",
    "#print(ages+2)\n",
    "\n",
    "# comment out the above after running the first time"
   ]
  },
  {
   "cell_type": "code",
   "execution_count": 6,
   "metadata": {},
   "outputs": [
    {
     "name": "stdout",
     "output_type": "stream",
     "text": [
      "[58, 124, 50, 130, 118]\n",
      "0     58\n",
      "1    124\n",
      "2     50\n",
      "3    130\n",
      "4    118\n",
      "dtype: int64\n"
     ]
    }
   ],
   "source": [
    "# Multiply age by 2\n",
    "def elementwise_multiplication(my_list, var):\n",
    "    new = []\n",
    "    for element in my_list:\n",
    "        new.append(element*var)\n",
    "    return new\n",
    "\n",
    "age_by_two = elementwise_multiplication(ages, 2)\n",
    "print(age_by_two)   \n",
    "\n",
    "# With Pandas\n",
    "print(pd.Series(ages)*2)"
   ]
  },
  {
   "cell_type": "code",
   "execution_count": 7,
   "metadata": {},
   "outputs": [],
   "source": [
    "# Consider how you would perform the following using python lists:\n",
    "    # Select only ages where height is above 160 cm\n",
    "    # Get Arun's information (age and height) only\n",
    "    # Sort by height"
   ]
  },
  {
   "cell_type": "code",
   "execution_count": 8,
   "metadata": {},
   "outputs": [],
   "source": [
    "# Pandas\n",
    "# Tabular and human-friendly (excel/SQL-like interface)\n",
    "# Homogeneous or heterogeneous data\n",
    "# Row and column labels!\n",
    "# Similarities to R's data.frame...but with more"
   ]
  },
  {
   "cell_type": "code",
   "execution_count": 9,
   "metadata": {
    "scrolled": false
   },
   "outputs": [
    {
     "name": "stdout",
     "output_type": "stream",
     "text": [
      "0    1.0\n",
      "1    2.0\n",
      "2    NaN\n",
      "3    5.0\n",
      "4    4.0\n",
      "dtype: float64\n",
      "<class 'pandas.core.series.Series'>\n"
     ]
    }
   ],
   "source": [
    "# Pandas Series & DataFrames (2 primary data structures)\n",
    "# https://pandas.pydata.org/pandas-docs/stable/getting_started/dsintro.html#dsintro\n",
    "\n",
    "my_series = pd.Series([1,2,np.nan,5,4])\n",
    "\n",
    "print(my_series)\n",
    "print(type(my_series))"
   ]
  },
  {
   "cell_type": "code",
   "execution_count": 10,
   "metadata": {
    "scrolled": true
   },
   "outputs": [
    {
     "name": "stdout",
     "output_type": "stream",
     "text": [
      "\n",
      "          A         B         C         D\n",
      "0  0.233062 -1.035215  0.682010 -0.003006\n",
      "1 -0.079919  0.454285  0.254214 -0.155826\n",
      "2  0.155068  0.007245  1.110202 -0.334466\n",
      "3 -1.038490  0.722830 -0.901502 -0.499893\n",
      "4  2.380744 -0.017039  1.495058 -0.744121\n",
      "5  0.843726 -0.197619  0.491144 -0.568769\n",
      "<class 'pandas.core.frame.DataFrame'>\n"
     ]
    }
   ],
   "source": [
    "# DataFrame \n",
    "\n",
    "my_df = pd.DataFrame(np.random.randn(6,4),columns=list('ABCD')) # created from a 2D numpy array, could use list of lists\n",
    "\n",
    "print()\n",
    "print(my_df)\n",
    "print(type(my_df))"
   ]
  },
  {
   "cell_type": "code",
   "execution_count": 11,
   "metadata": {},
   "outputs": [
    {
     "name": "stdout",
     "output_type": "stream",
     "text": [
      "0    0.233062\n",
      "1   -0.079919\n",
      "2    0.155068\n",
      "3   -1.038490\n",
      "4    2.380744\n",
      "5    0.843726\n",
      "Name: A, dtype: float64\n"
     ]
    },
    {
     "data": {
      "text/plain": [
       "pandas.core.series.Series"
      ]
     },
     "execution_count": 11,
     "metadata": {},
     "output_type": "execute_result"
    }
   ],
   "source": [
    "print(my_df['A'])\n",
    "type(my_df['A']) # an individual column of a dataframe is a pandas series"
   ]
  },
  {
   "cell_type": "code",
   "execution_count": 12,
   "metadata": {
    "scrolled": true
   },
   "outputs": [
    {
     "name": "stdout",
     "output_type": "stream",
     "text": [
      "RangeIndex(start=0, stop=5, step=1)\n"
     ]
    },
    {
     "data": {
      "text/plain": [
       "RangeIndex(start=0, stop=6, step=1)"
      ]
     },
     "execution_count": 12,
     "metadata": {},
     "output_type": "execute_result"
    }
   ],
   "source": [
    "# Index - row labels\n",
    "print(my_series.index)\n",
    "\n",
    "my_df.index"
   ]
  },
  {
   "cell_type": "code",
   "execution_count": 13,
   "metadata": {
    "scrolled": true
   },
   "outputs": [
    {
     "name": "stdout",
     "output_type": "stream",
     "text": [
      "A    1.0\n",
      "B    2.0\n",
      "C    NaN\n",
      "D    5.0\n",
      "E    4.0\n",
      "dtype: float64\n",
      "\n",
      "          A         B         C         D\n",
      "A -0.196202  0.184470 -0.119512  0.286582\n",
      "B  1.435078 -0.644364  0.782691  2.588081\n",
      "C  0.976076 -0.701386  1.318897 -0.217495\n",
      "D  1.613175  0.499891 -0.681538 -0.419899\n",
      "E  0.688449  1.532617 -0.424555  0.716651\n",
      "F -0.978665 -1.807043 -0.321734 -1.090505\n"
     ]
    }
   ],
   "source": [
    "# Indicating indices on creation\n",
    "my_series=pd.Series([1,2,np.nan,5,4], index=list('ABCDE'))\n",
    "print(my_series)\n",
    "\n",
    "my_df=pd.DataFrame(np.random.randn(6,4),columns=list('ABCD'), index=list('ABCDEF'))\n",
    "print()\n",
    "print(my_df)"
   ]
  },
  {
   "cell_type": "code",
   "execution_count": 14,
   "metadata": {},
   "outputs": [],
   "source": [
    "# Read-in from csv\n",
    "# Reference: https://pandas.pydata.org/pandas-docs/stable/reference/api/pandas.read_csv.html\n",
    "df = pd.read_csv(path+'SPTSXComposite.csv') # path defined in cell 2"
   ]
  },
  {
   "cell_type": "code",
   "execution_count": 15,
   "metadata": {
    "scrolled": true
   },
   "outputs": [
    {
     "data": {
      "text/plain": [
       "(132, 6)"
      ]
     },
     "execution_count": 15,
     "metadata": {},
     "output_type": "execute_result"
    }
   ],
   "source": [
    "# Viewing DataFrames\n",
    "df.shape # (rows, columns)"
   ]
  },
  {
   "cell_type": "code",
   "execution_count": 16,
   "metadata": {},
   "outputs": [
    {
     "data": {
      "text/html": [
       "<div>\n",
       "<style scoped>\n",
       "    .dataframe tbody tr th:only-of-type {\n",
       "        vertical-align: middle;\n",
       "    }\n",
       "\n",
       "    .dataframe tbody tr th {\n",
       "        vertical-align: top;\n",
       "    }\n",
       "\n",
       "    .dataframe thead th {\n",
       "        text-align: right;\n",
       "    }\n",
       "</style>\n",
       "<table border=\"1\" class=\"dataframe\">\n",
       "  <thead>\n",
       "    <tr style=\"text-align: right;\">\n",
       "      <th></th>\n",
       "      <th>Name</th>\n",
       "      <th>Ticker</th>\n",
       "      <th>TotalAssets</th>\n",
       "      <th>TotalRevenue</th>\n",
       "      <th>GeographicSegments</th>\n",
       "      <th>PrimarySector</th>\n",
       "    </tr>\n",
       "  </thead>\n",
       "  <tbody>\n",
       "    <tr>\n",
       "      <td>0</td>\n",
       "      <td>Agnico Eagle Mines Limited (NYSE:AEM)</td>\n",
       "      <td>NYSE:AEM</td>\n",
       "      <td>10715.5</td>\n",
       "      <td>2990.0</td>\n",
       "      <td>5.0</td>\n",
       "      <td>Materials</td>\n",
       "    </tr>\n",
       "    <tr>\n",
       "      <td>1</td>\n",
       "      <td>Air Canada (TSX:AC)</td>\n",
       "      <td>TSX:AC</td>\n",
       "      <td>19197.0</td>\n",
       "      <td>18065.0</td>\n",
       "      <td>5.0</td>\n",
       "      <td>Industrials</td>\n",
       "    </tr>\n",
       "    <tr>\n",
       "      <td>2</td>\n",
       "      <td>Alamos Gold Inc. (TSX:AGI)</td>\n",
       "      <td>TSX:AGI</td>\n",
       "      <td>4455.5</td>\n",
       "      <td>889.4</td>\n",
       "      <td>4.0</td>\n",
       "      <td>Materials</td>\n",
       "    </tr>\n",
       "    <tr>\n",
       "      <td>3</td>\n",
       "      <td>Algonquin Power &amp; Utilities Corp. (TSX:AQN)</td>\n",
       "      <td>TSX:AQN</td>\n",
       "      <td>12811.6</td>\n",
       "      <td>2247.9</td>\n",
       "      <td>2.0</td>\n",
       "      <td>Utilities</td>\n",
       "    </tr>\n",
       "    <tr>\n",
       "      <td>4</td>\n",
       "      <td>Alimentation Couche-Tard Inc. (TSX:ATD.B)</td>\n",
       "      <td>TSX:ATD.B</td>\n",
       "      <td>30426.3</td>\n",
       "      <td>79562.8</td>\n",
       "      <td>3.0</td>\n",
       "      <td>Consumer Staples</td>\n",
       "    </tr>\n",
       "  </tbody>\n",
       "</table>\n",
       "</div>"
      ],
      "text/plain": [
       "                                          Name     Ticker  TotalAssets  \\\n",
       "0        Agnico Eagle Mines Limited (NYSE:AEM)   NYSE:AEM      10715.5   \n",
       "1                          Air Canada (TSX:AC)     TSX:AC      19197.0   \n",
       "2                   Alamos Gold Inc. (TSX:AGI)    TSX:AGI       4455.5   \n",
       "3  Algonquin Power & Utilities Corp. (TSX:AQN)    TSX:AQN      12811.6   \n",
       "4    Alimentation Couche-Tard Inc. (TSX:ATD.B)  TSX:ATD.B      30426.3   \n",
       "\n",
       "   TotalRevenue  GeographicSegments     PrimarySector  \n",
       "0        2990.0                 5.0         Materials  \n",
       "1       18065.0                 5.0       Industrials  \n",
       "2         889.4                 4.0         Materials  \n",
       "3        2247.9                 2.0         Utilities  \n",
       "4       79562.8                 3.0  Consumer Staples  "
      ]
     },
     "execution_count": 16,
     "metadata": {},
     "output_type": "execute_result"
    }
   ],
   "source": [
    "df.head() # View first 5 rows"
   ]
  },
  {
   "cell_type": "code",
   "execution_count": 17,
   "metadata": {
    "scrolled": false
   },
   "outputs": [
    {
     "data": {
      "text/html": [
       "<div>\n",
       "<style scoped>\n",
       "    .dataframe tbody tr th:only-of-type {\n",
       "        vertical-align: middle;\n",
       "    }\n",
       "\n",
       "    .dataframe tbody tr th {\n",
       "        vertical-align: top;\n",
       "    }\n",
       "\n",
       "    .dataframe thead th {\n",
       "        text-align: right;\n",
       "    }\n",
       "</style>\n",
       "<table border=\"1\" class=\"dataframe\">\n",
       "  <thead>\n",
       "    <tr style=\"text-align: right;\">\n",
       "      <th></th>\n",
       "      <th>Name</th>\n",
       "      <th>Ticker</th>\n",
       "      <th>TotalAssets</th>\n",
       "      <th>TotalRevenue</th>\n",
       "      <th>GeographicSegments</th>\n",
       "      <th>PrimarySector</th>\n",
       "    </tr>\n",
       "  </thead>\n",
       "  <tbody>\n",
       "    <tr>\n",
       "      <td>127</td>\n",
       "      <td>West Fraser Timber Co. Ltd. (TSX:WFT)</td>\n",
       "      <td>TSX:WFT</td>\n",
       "      <td>4791.0</td>\n",
       "      <td>6118.0</td>\n",
       "      <td>5.0</td>\n",
       "      <td>Materials</td>\n",
       "    </tr>\n",
       "    <tr>\n",
       "      <td>128</td>\n",
       "      <td>WestJet Airlines Ltd. (TSX:WJA)</td>\n",
       "      <td>TSX:WJA</td>\n",
       "      <td>6758.1</td>\n",
       "      <td>4728.4</td>\n",
       "      <td>4.0</td>\n",
       "      <td>Industrials</td>\n",
       "    </tr>\n",
       "    <tr>\n",
       "      <td>129</td>\n",
       "      <td>Wheaton Precious Metals Corp. (TSX:WPM)</td>\n",
       "      <td>TSX:WPM</td>\n",
       "      <td>8828.6</td>\n",
       "      <td>1083.5</td>\n",
       "      <td>9.0</td>\n",
       "      <td>Materials</td>\n",
       "    </tr>\n",
       "    <tr>\n",
       "      <td>130</td>\n",
       "      <td>WSP Global Inc. (TSX:WSP)</td>\n",
       "      <td>TSX:WSP</td>\n",
       "      <td>7766.6</td>\n",
       "      <td>7908.1</td>\n",
       "      <td>8.0</td>\n",
       "      <td>Industrials</td>\n",
       "    </tr>\n",
       "    <tr>\n",
       "      <td>131</td>\n",
       "      <td>Yamana Gold Inc. (TSX:YRI)</td>\n",
       "      <td>TSX:YRI</td>\n",
       "      <td>10933.9</td>\n",
       "      <td>2454.1</td>\n",
       "      <td>5.0</td>\n",
       "      <td>Materials</td>\n",
       "    </tr>\n",
       "  </tbody>\n",
       "</table>\n",
       "</div>"
      ],
      "text/plain": [
       "                                        Name   Ticker  TotalAssets  \\\n",
       "127    West Fraser Timber Co. Ltd. (TSX:WFT)  TSX:WFT       4791.0   \n",
       "128          WestJet Airlines Ltd. (TSX:WJA)  TSX:WJA       6758.1   \n",
       "129  Wheaton Precious Metals Corp. (TSX:WPM)  TSX:WPM       8828.6   \n",
       "130                WSP Global Inc. (TSX:WSP)  TSX:WSP       7766.6   \n",
       "131               Yamana Gold Inc. (TSX:YRI)  TSX:YRI      10933.9   \n",
       "\n",
       "     TotalRevenue  GeographicSegments PrimarySector  \n",
       "127        6118.0                 5.0     Materials  \n",
       "128        4728.4                 4.0   Industrials  \n",
       "129        1083.5                 9.0     Materials  \n",
       "130        7908.1                 8.0   Industrials  \n",
       "131        2454.1                 5.0     Materials  "
      ]
     },
     "execution_count": 17,
     "metadata": {},
     "output_type": "execute_result"
    }
   ],
   "source": [
    "df.tail() # Last 5"
   ]
  },
  {
   "cell_type": "code",
   "execution_count": 18,
   "metadata": {
    "scrolled": true
   },
   "outputs": [
    {
     "data": {
      "text/plain": [
       "Index(['Name', 'Ticker', 'TotalAssets', 'TotalRevenue', 'GeographicSegments',\n",
       "       'PrimarySector'],\n",
       "      dtype='object')"
      ]
     },
     "execution_count": 18,
     "metadata": {},
     "output_type": "execute_result"
    }
   ],
   "source": [
    "# Column names\n",
    "df.columns"
   ]
  },
  {
   "cell_type": "code",
   "execution_count": 19,
   "metadata": {
    "scrolled": true
   },
   "outputs": [
    {
     "data": {
      "text/plain": [
       "RangeIndex(start=0, stop=132, step=1)"
      ]
     },
     "execution_count": 19,
     "metadata": {},
     "output_type": "execute_result"
    }
   ],
   "source": [
    "# Current index\n",
    "df.index"
   ]
  },
  {
   "cell_type": "code",
   "execution_count": 20,
   "metadata": {
    "scrolled": true
   },
   "outputs": [
    {
     "data": {
      "text/plain": [
       "True"
      ]
     },
     "execution_count": 20,
     "metadata": {},
     "output_type": "execute_result"
    }
   ],
   "source": [
    "# Set new index\n",
    "df.Ticker.is_unique    # Check series for uniqueness"
   ]
  },
  {
   "cell_type": "code",
   "execution_count": 21,
   "metadata": {
    "scrolled": true
   },
   "outputs": [
    {
     "name": "stdout",
     "output_type": "stream",
     "text": [
      "Index(['NYSE:AEM', 'TSX:AC', 'TSX:AGI', 'TSX:AQN', 'TSX:ATD.B', 'TSX:AP.UN',\n",
      "       'TSX:ALA', 'TSX:ACO.X', 'TSX:ACB', 'TSX:BTO',\n",
      "       ...\n",
      "       'TSX:TIH', 'TSX:TOU', 'TSX:RNW', 'TSX:VET', 'NYSE:WCN', 'TSX:WFT',\n",
      "       'TSX:WJA', 'TSX:WPM', 'TSX:WSP', 'TSX:YRI'],\n",
      "      dtype='object', name='Ticker', length=132)\n"
     ]
    }
   ],
   "source": [
    "df = df.set_index('Ticker')  # Set ticker as new index\n",
    "print(df.index)"
   ]
  },
  {
   "cell_type": "code",
   "execution_count": 22,
   "metadata": {
    "scrolled": true
   },
   "outputs": [
    {
     "data": {
      "text/html": [
       "<div>\n",
       "<style scoped>\n",
       "    .dataframe tbody tr th:only-of-type {\n",
       "        vertical-align: middle;\n",
       "    }\n",
       "\n",
       "    .dataframe tbody tr th {\n",
       "        vertical-align: top;\n",
       "    }\n",
       "\n",
       "    .dataframe thead th {\n",
       "        text-align: right;\n",
       "    }\n",
       "</style>\n",
       "<table border=\"1\" class=\"dataframe\">\n",
       "  <thead>\n",
       "    <tr style=\"text-align: right;\">\n",
       "      <th></th>\n",
       "      <th>Name</th>\n",
       "      <th>TotalAssets</th>\n",
       "      <th>TotalRevenue</th>\n",
       "      <th>GeographicSegments</th>\n",
       "      <th>PrimarySector</th>\n",
       "    </tr>\n",
       "    <tr>\n",
       "      <th>Ticker</th>\n",
       "      <th></th>\n",
       "      <th></th>\n",
       "      <th></th>\n",
       "      <th></th>\n",
       "      <th></th>\n",
       "    </tr>\n",
       "  </thead>\n",
       "  <tbody>\n",
       "    <tr>\n",
       "      <td>NYSE:AEM</td>\n",
       "      <td>Agnico Eagle Mines Limited (NYSE:AEM)</td>\n",
       "      <td>10715.5</td>\n",
       "      <td>2990.0</td>\n",
       "      <td>5.0</td>\n",
       "      <td>Materials</td>\n",
       "    </tr>\n",
       "    <tr>\n",
       "      <td>TSX:AC</td>\n",
       "      <td>Air Canada (TSX:AC)</td>\n",
       "      <td>19197.0</td>\n",
       "      <td>18065.0</td>\n",
       "      <td>5.0</td>\n",
       "      <td>Industrials</td>\n",
       "    </tr>\n",
       "    <tr>\n",
       "      <td>TSX:AGI</td>\n",
       "      <td>Alamos Gold Inc. (TSX:AGI)</td>\n",
       "      <td>4455.5</td>\n",
       "      <td>889.4</td>\n",
       "      <td>4.0</td>\n",
       "      <td>Materials</td>\n",
       "    </tr>\n",
       "    <tr>\n",
       "      <td>TSX:AQN</td>\n",
       "      <td>Algonquin Power &amp; Utilities Corp. (TSX:AQN)</td>\n",
       "      <td>12811.6</td>\n",
       "      <td>2247.9</td>\n",
       "      <td>2.0</td>\n",
       "      <td>Utilities</td>\n",
       "    </tr>\n",
       "    <tr>\n",
       "      <td>TSX:ATD.B</td>\n",
       "      <td>Alimentation Couche-Tard Inc. (TSX:ATD.B)</td>\n",
       "      <td>30426.3</td>\n",
       "      <td>79562.8</td>\n",
       "      <td>3.0</td>\n",
       "      <td>Consumer Staples</td>\n",
       "    </tr>\n",
       "  </tbody>\n",
       "</table>\n",
       "</div>"
      ],
      "text/plain": [
       "                                                  Name  TotalAssets  \\\n",
       "Ticker                                                                \n",
       "NYSE:AEM         Agnico Eagle Mines Limited (NYSE:AEM)      10715.5   \n",
       "TSX:AC                             Air Canada (TSX:AC)      19197.0   \n",
       "TSX:AGI                     Alamos Gold Inc. (TSX:AGI)       4455.5   \n",
       "TSX:AQN    Algonquin Power & Utilities Corp. (TSX:AQN)      12811.6   \n",
       "TSX:ATD.B    Alimentation Couche-Tard Inc. (TSX:ATD.B)      30426.3   \n",
       "\n",
       "           TotalRevenue  GeographicSegments     PrimarySector  \n",
       "Ticker                                                         \n",
       "NYSE:AEM         2990.0                 5.0         Materials  \n",
       "TSX:AC          18065.0                 5.0       Industrials  \n",
       "TSX:AGI           889.4                 4.0         Materials  \n",
       "TSX:AQN          2247.9                 2.0         Utilities  \n",
       "TSX:ATD.B       79562.8                 3.0  Consumer Staples  "
      ]
     },
     "execution_count": 22,
     "metadata": {},
     "output_type": "execute_result"
    }
   ],
   "source": [
    "df.head()"
   ]
  },
  {
   "cell_type": "code",
   "execution_count": 23,
   "metadata": {
    "scrolled": true
   },
   "outputs": [
    {
     "name": "stdout",
     "output_type": "stream",
     "text": [
      "                                           Name PrimarySector\n",
      "Ticker                                                       \n",
      "NYSE:AEM  Agnico Eagle Mines Limited (NYSE:AEM)     Materials\n",
      "TSX:AC                      Air Canada (TSX:AC)   Industrials\n",
      "TSX:AGI              Alamos Gold Inc. (TSX:AGI)     Materials\n"
     ]
    }
   ],
   "source": [
    "# Indicate the column name to use as the index when reading in the CSV (index_col=)\n",
    "# Limit the columns read in, this saves space (usecols=)\n",
    "\n",
    "print(pd.read_csv(path+'SPTSXComposite.csv',index_col='Ticker',usecols=['Name', 'PrimarySector','Ticker']).head(3))"
   ]
  },
  {
   "cell_type": "code",
   "execution_count": 24,
   "metadata": {
    "scrolled": true
   },
   "outputs": [
    {
     "data": {
      "text/plain": [
       "Name                   object\n",
       "TotalAssets           float64\n",
       "TotalRevenue          float64\n",
       "GeographicSegments    float64\n",
       "PrimarySector          object\n",
       "dtype: object"
      ]
     },
     "execution_count": 24,
     "metadata": {},
     "output_type": "execute_result"
    }
   ],
   "source": [
    "# Datatypes\n",
    "df.dtypes"
   ]
  },
  {
   "cell_type": "code",
   "execution_count": 25,
   "metadata": {
    "scrolled": true
   },
   "outputs": [
    {
     "data": {
      "text/plain": [
       "Name                    object\n",
       "TotalAssets            float32\n",
       "TotalRevenue           float32\n",
       "GeographicSegments     float64\n",
       "PrimarySector         category\n",
       "dtype: object"
      ]
     },
     "execution_count": 25,
     "metadata": {},
     "output_type": "execute_result"
    }
   ],
   "source": [
    "# Converting types\n",
    "df = df.astype({'PrimarySector':'category', 'TotalAssets':'float32', 'TotalRevenue':'float32'})\n",
    "# {Column_name: datatype,...}\n",
    "df.dtypes"
   ]
  },
  {
   "cell_type": "code",
   "execution_count": 36,
   "metadata": {
    "scrolled": true
   },
   "outputs": [],
   "source": [
    "#### Exercise ####\n",
    "# Perform the following steps using this new dataframe (new_df)\n",
    "new_df = df.copy()"
   ]
  },
  {
   "cell_type": "code",
   "execution_count": 37,
   "metadata": {},
   "outputs": [
    {
     "data": {
      "text/html": [
       "<div>\n",
       "<style scoped>\n",
       "    .dataframe tbody tr th:only-of-type {\n",
       "        vertical-align: middle;\n",
       "    }\n",
       "\n",
       "    .dataframe tbody tr th {\n",
       "        vertical-align: top;\n",
       "    }\n",
       "\n",
       "    .dataframe thead th {\n",
       "        text-align: right;\n",
       "    }\n",
       "</style>\n",
       "<table border=\"1\" class=\"dataframe\">\n",
       "  <thead>\n",
       "    <tr style=\"text-align: right;\">\n",
       "      <th></th>\n",
       "      <th>Name</th>\n",
       "      <th>TotalAssets</th>\n",
       "      <th>TotalRevenue</th>\n",
       "      <th>GeographicSegments</th>\n",
       "      <th>PrimarySector</th>\n",
       "    </tr>\n",
       "    <tr>\n",
       "      <th>Ticker</th>\n",
       "      <th></th>\n",
       "      <th></th>\n",
       "      <th></th>\n",
       "      <th></th>\n",
       "      <th></th>\n",
       "    </tr>\n",
       "  </thead>\n",
       "  <tbody>\n",
       "    <tr>\n",
       "      <td>NYSE:AEM</td>\n",
       "      <td>Agnico Eagle Mines Limited (NYSE:AEM)</td>\n",
       "      <td>10715.500000</td>\n",
       "      <td>2990.000000</td>\n",
       "      <td>5.0</td>\n",
       "      <td>Materials</td>\n",
       "    </tr>\n",
       "    <tr>\n",
       "      <td>TSX:AC</td>\n",
       "      <td>Air Canada (TSX:AC)</td>\n",
       "      <td>19197.000000</td>\n",
       "      <td>18065.000000</td>\n",
       "      <td>5.0</td>\n",
       "      <td>Industrials</td>\n",
       "    </tr>\n",
       "    <tr>\n",
       "      <td>TSX:AGI</td>\n",
       "      <td>Alamos Gold Inc. (TSX:AGI)</td>\n",
       "      <td>4455.500000</td>\n",
       "      <td>889.400024</td>\n",
       "      <td>4.0</td>\n",
       "      <td>Materials</td>\n",
       "    </tr>\n",
       "    <tr>\n",
       "      <td>TSX:AQN</td>\n",
       "      <td>Algonquin Power &amp; Utilities Corp. (TSX:AQN)</td>\n",
       "      <td>12811.599609</td>\n",
       "      <td>2247.899902</td>\n",
       "      <td>2.0</td>\n",
       "      <td>Utilities</td>\n",
       "    </tr>\n",
       "    <tr>\n",
       "      <td>TSX:ATD.B</td>\n",
       "      <td>Alimentation Couche-Tard Inc. (TSX:ATD.B)</td>\n",
       "      <td>30426.300781</td>\n",
       "      <td>79562.796875</td>\n",
       "      <td>3.0</td>\n",
       "      <td>Consumer Staples</td>\n",
       "    </tr>\n",
       "  </tbody>\n",
       "</table>\n",
       "</div>"
      ],
      "text/plain": [
       "                                                  Name   TotalAssets  \\\n",
       "Ticker                                                                 \n",
       "NYSE:AEM         Agnico Eagle Mines Limited (NYSE:AEM)  10715.500000   \n",
       "TSX:AC                             Air Canada (TSX:AC)  19197.000000   \n",
       "TSX:AGI                     Alamos Gold Inc. (TSX:AGI)   4455.500000   \n",
       "TSX:AQN    Algonquin Power & Utilities Corp. (TSX:AQN)  12811.599609   \n",
       "TSX:ATD.B    Alimentation Couche-Tard Inc. (TSX:ATD.B)  30426.300781   \n",
       "\n",
       "           TotalRevenue  GeographicSegments     PrimarySector  \n",
       "Ticker                                                         \n",
       "NYSE:AEM    2990.000000                 5.0         Materials  \n",
       "TSX:AC     18065.000000                 5.0       Industrials  \n",
       "TSX:AGI      889.400024                 4.0         Materials  \n",
       "TSX:AQN     2247.899902                 2.0         Utilities  \n",
       "TSX:ATD.B  79562.796875                 3.0  Consumer Staples  "
      ]
     },
     "execution_count": 37,
     "metadata": {},
     "output_type": "execute_result"
    }
   ],
   "source": [
    "new_df.head()"
   ]
  },
  {
   "cell_type": "code",
   "execution_count": 42,
   "metadata": {},
   "outputs": [
    {
     "data": {
      "text/plain": [
       "Ticker                  object\n",
       "TotalAssets              int32\n",
       "TotalRevenue           float32\n",
       "GeographicSegments     float64\n",
       "PrimarySector         category\n",
       "dtype: object"
      ]
     },
     "execution_count": 42,
     "metadata": {},
     "output_type": "execute_result"
    }
   ],
   "source": [
    "# Change the type of \"TotalAssets\" to int\n",
    "new_df=new_df.astype({'TotalAssets':'int'})\n",
    "\n",
    "# Check that it worked by printing the datatypes to screen\n",
    "\n",
    "new_df.dtypes"
   ]
  },
  {
   "cell_type": "code",
   "execution_count": 40,
   "metadata": {},
   "outputs": [],
   "source": [
    "new_df = new_df.reset_index()"
   ]
  },
  {
   "cell_type": "code",
   "execution_count": 41,
   "metadata": {},
   "outputs": [
    {
     "data": {
      "text/html": [
       "<div>\n",
       "<style scoped>\n",
       "    .dataframe tbody tr th:only-of-type {\n",
       "        vertical-align: middle;\n",
       "    }\n",
       "\n",
       "    .dataframe tbody tr th {\n",
       "        vertical-align: top;\n",
       "    }\n",
       "\n",
       "    .dataframe thead th {\n",
       "        text-align: right;\n",
       "    }\n",
       "</style>\n",
       "<table border=\"1\" class=\"dataframe\">\n",
       "  <thead>\n",
       "    <tr style=\"text-align: right;\">\n",
       "      <th></th>\n",
       "      <th>Ticker</th>\n",
       "      <th>TotalAssets</th>\n",
       "      <th>TotalRevenue</th>\n",
       "      <th>GeographicSegments</th>\n",
       "      <th>PrimarySector</th>\n",
       "    </tr>\n",
       "    <tr>\n",
       "      <th>Name</th>\n",
       "      <th></th>\n",
       "      <th></th>\n",
       "      <th></th>\n",
       "      <th></th>\n",
       "      <th></th>\n",
       "    </tr>\n",
       "  </thead>\n",
       "  <tbody>\n",
       "    <tr>\n",
       "      <td>Agnico Eagle Mines Limited (NYSE:AEM)</td>\n",
       "      <td>NYSE:AEM</td>\n",
       "      <td>10715</td>\n",
       "      <td>2990.000000</td>\n",
       "      <td>5.0</td>\n",
       "      <td>Materials</td>\n",
       "    </tr>\n",
       "    <tr>\n",
       "      <td>Air Canada (TSX:AC)</td>\n",
       "      <td>TSX:AC</td>\n",
       "      <td>19197</td>\n",
       "      <td>18065.000000</td>\n",
       "      <td>5.0</td>\n",
       "      <td>Industrials</td>\n",
       "    </tr>\n",
       "    <tr>\n",
       "      <td>Alamos Gold Inc. (TSX:AGI)</td>\n",
       "      <td>TSX:AGI</td>\n",
       "      <td>4455</td>\n",
       "      <td>889.400024</td>\n",
       "      <td>4.0</td>\n",
       "      <td>Materials</td>\n",
       "    </tr>\n",
       "    <tr>\n",
       "      <td>Algonquin Power &amp; Utilities Corp. (TSX:AQN)</td>\n",
       "      <td>TSX:AQN</td>\n",
       "      <td>12811</td>\n",
       "      <td>2247.899902</td>\n",
       "      <td>2.0</td>\n",
       "      <td>Utilities</td>\n",
       "    </tr>\n",
       "    <tr>\n",
       "      <td>Alimentation Couche-Tard Inc. (TSX:ATD.B)</td>\n",
       "      <td>TSX:ATD.B</td>\n",
       "      <td>30426</td>\n",
       "      <td>79562.796875</td>\n",
       "      <td>3.0</td>\n",
       "      <td>Consumer Staples</td>\n",
       "    </tr>\n",
       "  </tbody>\n",
       "</table>\n",
       "</div>"
      ],
      "text/plain": [
       "                                                Ticker  TotalAssets  \\\n",
       "Name                                                                  \n",
       "Agnico Eagle Mines Limited (NYSE:AEM)         NYSE:AEM        10715   \n",
       "Air Canada (TSX:AC)                             TSX:AC        19197   \n",
       "Alamos Gold Inc. (TSX:AGI)                     TSX:AGI         4455   \n",
       "Algonquin Power & Utilities Corp. (TSX:AQN)    TSX:AQN        12811   \n",
       "Alimentation Couche-Tard Inc. (TSX:ATD.B)    TSX:ATD.B        30426   \n",
       "\n",
       "                                             TotalRevenue  GeographicSegments  \\\n",
       "Name                                                                            \n",
       "Agnico Eagle Mines Limited (NYSE:AEM)         2990.000000                 5.0   \n",
       "Air Canada (TSX:AC)                          18065.000000                 5.0   \n",
       "Alamos Gold Inc. (TSX:AGI)                     889.400024                 4.0   \n",
       "Algonquin Power & Utilities Corp. (TSX:AQN)   2247.899902                 2.0   \n",
       "Alimentation Couche-Tard Inc. (TSX:ATD.B)    79562.796875                 3.0   \n",
       "\n",
       "                                                PrimarySector  \n",
       "Name                                                           \n",
       "Agnico Eagle Mines Limited (NYSE:AEM)               Materials  \n",
       "Air Canada (TSX:AC)                               Industrials  \n",
       "Alamos Gold Inc. (TSX:AGI)                          Materials  \n",
       "Algonquin Power & Utilities Corp. (TSX:AQN)         Utilities  \n",
       "Alimentation Couche-Tard Inc. (TSX:ATD.B)    Consumer Staples  "
      ]
     },
     "execution_count": 41,
     "metadata": {},
     "output_type": "execute_result"
    }
   ],
   "source": [
    "# Make \"Name\" the index instead of \"Ticker\"\n",
    "new_df = new_df.set_index('Name')\n",
    "new_df.head() "
   ]
  },
  {
   "cell_type": "code",
   "execution_count": 43,
   "metadata": {},
   "outputs": [
    {
     "name": "stdout",
     "output_type": "stream",
     "text": [
      "Index(['Ticker', 'TotalAssets', 'TotalRevenue', 'GeographicSegments',\n",
      "       'PrimarySector'],\n",
      "      dtype='object')\n"
     ]
    }
   ],
   "source": [
    "# Check the top 5 rows\n",
    "# Print just the column names\n",
    "print(new_df.columns)\n",
    "\n",
    "#### End of Exercise ###"
   ]
  },
  {
   "cell_type": "code",
   "execution_count": 44,
   "metadata": {
    "scrolled": true
   },
   "outputs": [
    {
     "data": {
      "text/html": [
       "<div>\n",
       "<style scoped>\n",
       "    .dataframe tbody tr th:only-of-type {\n",
       "        vertical-align: middle;\n",
       "    }\n",
       "\n",
       "    .dataframe tbody tr th {\n",
       "        vertical-align: top;\n",
       "    }\n",
       "\n",
       "    .dataframe thead th {\n",
       "        text-align: right;\n",
       "    }\n",
       "</style>\n",
       "<table border=\"1\" class=\"dataframe\">\n",
       "  <thead>\n",
       "    <tr style=\"text-align: right;\">\n",
       "      <th></th>\n",
       "      <th>TotalAssets</th>\n",
       "      <th>TotalRevenue</th>\n",
       "      <th>GeographicSegments</th>\n",
       "    </tr>\n",
       "  </thead>\n",
       "  <tbody>\n",
       "    <tr>\n",
       "      <td>count</td>\n",
       "      <td>132.0</td>\n",
       "      <td>132.0</td>\n",
       "      <td>124.0</td>\n",
       "    </tr>\n",
       "    <tr>\n",
       "      <td>mean</td>\n",
       "      <td>79793.3</td>\n",
       "      <td>11634.7</td>\n",
       "      <td>4.8</td>\n",
       "    </tr>\n",
       "    <tr>\n",
       "      <td>std</td>\n",
       "      <td>218163.2</td>\n",
       "      <td>15739.7</td>\n",
       "      <td>4.2</td>\n",
       "    </tr>\n",
       "    <tr>\n",
       "      <td>min</td>\n",
       "      <td>261.1</td>\n",
       "      <td>15.7</td>\n",
       "      <td>1.0</td>\n",
       "    </tr>\n",
       "    <tr>\n",
       "      <td>25%</td>\n",
       "      <td>5077.7</td>\n",
       "      <td>1683.9</td>\n",
       "      <td>2.0</td>\n",
       "    </tr>\n",
       "    <tr>\n",
       "      <td>50%</td>\n",
       "      <td>11690.3</td>\n",
       "      <td>5005.6</td>\n",
       "      <td>3.5</td>\n",
       "    </tr>\n",
       "    <tr>\n",
       "      <td>75%</td>\n",
       "      <td>35186.8</td>\n",
       "      <td>14151.5</td>\n",
       "      <td>6.0</td>\n",
       "    </tr>\n",
       "    <tr>\n",
       "      <td>max</td>\n",
       "      <td>1334903.0</td>\n",
       "      <td>79975.7</td>\n",
       "      <td>24.0</td>\n",
       "    </tr>\n",
       "  </tbody>\n",
       "</table>\n",
       "</div>"
      ],
      "text/plain": [
       "       TotalAssets  TotalRevenue  GeographicSegments\n",
       "count        132.0         132.0               124.0\n",
       "mean       79793.3       11634.7                 4.8\n",
       "std       218163.2       15739.7                 4.2\n",
       "min          261.1          15.7                 1.0\n",
       "25%         5077.7        1683.9                 2.0\n",
       "50%        11690.3        5005.6                 3.5\n",
       "75%        35186.8       14151.5                 6.0\n",
       "max      1334903.0       79975.7                24.0"
      ]
     },
     "execution_count": 44,
     "metadata": {},
     "output_type": "execute_result"
    }
   ],
   "source": [
    "# Describe and summarize\n",
    "df.describe().round(1) # automatically selects numeric columns, ignores nans"
   ]
  },
  {
   "cell_type": "code",
   "execution_count": 45,
   "metadata": {
    "scrolled": true
   },
   "outputs": [
    {
     "data": {
      "text/plain": [
       "count            132\n",
       "unique            11\n",
       "top       Financials\n",
       "freq              21\n",
       "Name: PrimarySector, dtype: object"
      ]
     },
     "execution_count": 45,
     "metadata": {},
     "output_type": "execute_result"
    }
   ],
   "source": [
    "# The describe method is also implemented for pandas series\n",
    "# See what happens when you ask pandas to describe a categorical variable (same result for any object type series)\n",
    "df.PrimarySector.describe()"
   ]
  },
  {
   "cell_type": "code",
   "execution_count": 46,
   "metadata": {},
   "outputs": [
    {
     "data": {
      "text/plain": [
       "Financials                21\n",
       "Materials                 19\n",
       "Energy                    18\n",
       "Industrials               17\n",
       "Utilities                 12\n",
       "Real Estate               11\n",
       "Consumer Discretionary     9\n",
       "Consumer Staples           8\n",
       "Information Technology     6\n",
       "Communication Services     6\n",
       "Health Care                5\n",
       "Name: PrimarySector, dtype: int64"
      ]
     },
     "execution_count": 46,
     "metadata": {},
     "output_type": "execute_result"
    }
   ],
   "source": [
    "df.PrimarySector.value_counts()"
   ]
  },
  {
   "cell_type": "code",
   "execution_count": 47,
   "metadata": {},
   "outputs": [
    {
     "name": "stdout",
     "output_type": "stream",
     "text": [
      "Name                  Agnico Eagle Mines Limited (NYSE:AEM)\n",
      "TotalAssets                                         10715.5\n",
      "TotalRevenue                                           2990\n",
      "GeographicSegments                                        5\n",
      "PrimarySector                                     Materials\n",
      "Name: NYSE:AEM, dtype: object\n",
      "\n",
      "Name                  Yamana Gold Inc. (TSX:YRI)\n",
      "TotalAssets                              10933.9\n",
      "TotalRevenue                              2454.1\n",
      "GeographicSegments                             5\n",
      "PrimarySector                          Materials\n",
      "Name: TSX:YRI, dtype: object\n",
      "\n",
      "Ticker\n",
      "NYSE:AEM     10715.500000\n",
      "TSX:AC       19197.000000\n",
      "TSX:AGI       4455.500000\n",
      "TSX:AQN      12811.599609\n",
      "TSX:ATD.B    30426.300781\n",
      "Name: TotalAssets, dtype: float32\n"
     ]
    }
   ],
   "source": [
    "# Integer position based indexing - \"iloc\"\n",
    "# Reference: https://pandas.pydata.org/pandas-docs/stable/reference/api/pandas.DataFrame.iloc.html\n",
    "\n",
    "print(df.iloc[0]) # first row\n",
    "print()\n",
    "print(df.iloc[-1]) # last row\n",
    "print()\n",
    "print(df.iloc[:5,1]) # first five rows of first column"
   ]
  },
  {
   "cell_type": "code",
   "execution_count": 48,
   "metadata": {
    "scrolled": false
   },
   "outputs": [
    {
     "name": "stdout",
     "output_type": "stream",
     "text": [
      "Name                  Royal Bank of Canada (TSX:RY)\n",
      "TotalAssets                             1.33473e+06\n",
      "TotalRevenue                                  41269\n",
      "GeographicSegments                                3\n",
      "PrimarySector                            Financials\n",
      "Name: TSX:RY, dtype: object\n",
      "\n",
      "3.0\n"
     ]
    }
   ],
   "source": [
    "# Label based indexing\n",
    "# Reference:https://pandas.pydata.org/pandas-docs/stable/reference/api/pandas.DataFrame.loc.html\n",
    "\n",
    "print(df.loc['TSX:RY']) #get row RBC and all columns - equivalent of df.loc['TSX:RY', :]\n",
    "print()\n",
    "print(df.loc['TSX:RY','GeographicSegments']) # (row, column) - get number of geographic segments at RBC"
   ]
  },
  {
   "cell_type": "code",
   "execution_count": 49,
   "metadata": {},
   "outputs": [
    {
     "data": {
      "text/plain": [
       "Name             Royal Bank of Canada (TSX:RY)\n",
       "PrimarySector                       Financials\n",
       "Name: TSX:RY, dtype: object"
      ]
     },
     "execution_count": 49,
     "metadata": {},
     "output_type": "execute_result"
    }
   ],
   "source": [
    "df.loc['TSX:RY',['Name','PrimarySector']]"
   ]
  },
  {
   "cell_type": "code",
   "execution_count": 39,
   "metadata": {
    "scrolled": true
   },
   "outputs": [
    {
     "name": "stdout",
     "output_type": "stream",
     "text": [
      "Ticker\n",
      "NYSE:AEM    Agnico Eagle Mines Limited (NYSE:AEM)\n",
      "TSX:AC                        Air Canada (TSX:AC)\n",
      "TSX:AGI                Alamos Gold Inc. (TSX:AGI)\n",
      "Name: Name, dtype: object\n",
      "Ticker\n",
      "NYSE:AEM    Agnico Eagle Mines Limited (NYSE:AEM)\n",
      "TSX:AC                        Air Canada (TSX:AC)\n",
      "TSX:AGI                Alamos Gold Inc. (TSX:AGI)\n",
      "Name: Name, dtype: object\n",
      "Ticker\n",
      "NYSE:AEM    Agnico Eagle Mines Limited (NYSE:AEM)\n",
      "TSX:AC                        Air Canada (TSX:AC)\n",
      "TSX:AGI                Alamos Gold Inc. (TSX:AGI)\n",
      "Name: Name, dtype: object\n"
     ]
    }
   ],
   "source": [
    "# Select a column - three ways to do the same thing\n",
    "print(df.Name[:3])\n",
    "print(df['Name'][:3])\n",
    "print(df.loc[:,'Name'][:3])"
   ]
  },
  {
   "cell_type": "code",
   "execution_count": 40,
   "metadata": {
    "scrolled": true
   },
   "outputs": [
    {
     "name": "stdout",
     "output_type": "stream",
     "text": [
      "                                           Name PrimarySector\n",
      "Ticker                                                       \n",
      "NYSE:AEM  Agnico Eagle Mines Limited (NYSE:AEM)     Materials\n",
      "TSX:AC                      Air Canada (TSX:AC)   Industrials\n",
      "TSX:AGI              Alamos Gold Inc. (TSX:AGI)     Materials\n",
      "\n"
     ]
    }
   ],
   "source": [
    "# Select multiple columns\n",
    "print(df[['Name','PrimarySector']].head(3))\n",
    "print()"
   ]
  },
  {
   "cell_type": "code",
   "execution_count": 62,
   "metadata": {
    "scrolled": true
   },
   "outputs": [
    {
     "data": {
      "text/html": [
       "<div>\n",
       "<style scoped>\n",
       "    .dataframe tbody tr th:only-of-type {\n",
       "        vertical-align: middle;\n",
       "    }\n",
       "\n",
       "    .dataframe tbody tr th {\n",
       "        vertical-align: top;\n",
       "    }\n",
       "\n",
       "    .dataframe thead th {\n",
       "        text-align: right;\n",
       "    }\n",
       "</style>\n",
       "<table border=\"1\" class=\"dataframe\">\n",
       "  <thead>\n",
       "    <tr style=\"text-align: right;\">\n",
       "      <th></th>\n",
       "      <th>Name</th>\n",
       "      <th>TotalAssets</th>\n",
       "      <th>TotalRevenue</th>\n",
       "      <th>GeographicSegments</th>\n",
       "      <th>PrimarySector</th>\n",
       "    </tr>\n",
       "    <tr>\n",
       "      <th>Ticker</th>\n",
       "      <th></th>\n",
       "      <th></th>\n",
       "      <th></th>\n",
       "      <th></th>\n",
       "      <th></th>\n",
       "    </tr>\n",
       "  </thead>\n",
       "  <tbody>\n",
       "    <tr>\n",
       "      <td>TSX:RY</td>\n",
       "      <td>Royal Bank of Canada (TSX:RY)</td>\n",
       "      <td>1334734.0</td>\n",
       "      <td>41269.0</td>\n",
       "      <td>3.0</td>\n",
       "      <td>Financials</td>\n",
       "    </tr>\n",
       "    <tr>\n",
       "      <td>TSX:BMO</td>\n",
       "      <td>Bank of Montreal (TSX:BMO)</td>\n",
       "      <td>774048.0</td>\n",
       "      <td>22375.0</td>\n",
       "      <td>3.0</td>\n",
       "      <td>Financials</td>\n",
       "    </tr>\n",
       "    <tr>\n",
       "      <td>TSX:TD</td>\n",
       "      <td>The Toronto-Dominion Bank (TSX:TD)</td>\n",
       "      <td>1334903.0</td>\n",
       "      <td>36354.0</td>\n",
       "      <td>3.0</td>\n",
       "      <td>Financials</td>\n",
       "    </tr>\n",
       "  </tbody>\n",
       "</table>\n",
       "</div>"
      ],
      "text/plain": [
       "                                       Name  TotalAssets  TotalRevenue  \\\n",
       "Ticker                                                                   \n",
       "TSX:RY        Royal Bank of Canada (TSX:RY)    1334734.0       41269.0   \n",
       "TSX:BMO          Bank of Montreal (TSX:BMO)     774048.0       22375.0   \n",
       "TSX:TD   The Toronto-Dominion Bank (TSX:TD)    1334903.0       36354.0   \n",
       "\n",
       "         GeographicSegments PrimarySector  \n",
       "Ticker                                     \n",
       "TSX:RY                  3.0    Financials  \n",
       "TSX:BMO                 3.0    Financials  \n",
       "TSX:TD                  3.0    Financials  "
      ]
     },
     "execution_count": 62,
     "metadata": {},
     "output_type": "execute_result"
    }
   ],
   "source": [
    "### Exercise ###\n",
    "# Get info for the following tickers: 'TSX:RY', 'TSX:BMO', 'TSX:TD'\n",
    "df.loc[['TSX:RY','TSX:BMO','TSX:TD']]"
   ]
  },
  {
   "cell_type": "code",
   "execution_count": 66,
   "metadata": {},
   "outputs": [
    {
     "data": {
      "text/html": [
       "<div>\n",
       "<style scoped>\n",
       "    .dataframe tbody tr th:only-of-type {\n",
       "        vertical-align: middle;\n",
       "    }\n",
       "\n",
       "    .dataframe tbody tr th {\n",
       "        vertical-align: top;\n",
       "    }\n",
       "\n",
       "    .dataframe thead th {\n",
       "        text-align: right;\n",
       "    }\n",
       "</style>\n",
       "<table border=\"1\" class=\"dataframe\">\n",
       "  <thead>\n",
       "    <tr style=\"text-align: right;\">\n",
       "      <th></th>\n",
       "      <th>Name</th>\n",
       "      <th>PrimarySector</th>\n",
       "    </tr>\n",
       "    <tr>\n",
       "      <th>Ticker</th>\n",
       "      <th></th>\n",
       "      <th></th>\n",
       "    </tr>\n",
       "  </thead>\n",
       "  <tbody>\n",
       "    <tr>\n",
       "      <td>TSX:CCO</td>\n",
       "      <td>Cameco Corporation (TSX:CCO)</td>\n",
       "      <td>Energy</td>\n",
       "    </tr>\n",
       "    <tr>\n",
       "      <td>TSX:GOOS</td>\n",
       "      <td>Canada Goose Holdings Inc. (TSX:GOOS)</td>\n",
       "      <td>Consumer Discretionary</td>\n",
       "    </tr>\n",
       "  </tbody>\n",
       "</table>\n",
       "</div>"
      ],
      "text/plain": [
       "                                           Name           PrimarySector\n",
       "Ticker                                                                 \n",
       "TSX:CCO            Cameco Corporation (TSX:CCO)                  Energy\n",
       "TSX:GOOS  Canada Goose Holdings Inc. (TSX:GOOS)  Consumer Discretionary"
      ]
     },
     "execution_count": 66,
     "metadata": {},
     "output_type": "execute_result"
    }
   ],
   "source": [
    "# Get the 25th and 26th rows and the Name & PrimarySector columns\n",
    "df.iloc[24:26][['Name','PrimarySector']]\n",
    "### End of Exercise ###"
   ]
  },
  {
   "cell_type": "code",
   "execution_count": 67,
   "metadata": {},
   "outputs": [
    {
     "data": {
      "text/html": [
       "<div>\n",
       "<style scoped>\n",
       "    .dataframe tbody tr th:only-of-type {\n",
       "        vertical-align: middle;\n",
       "    }\n",
       "\n",
       "    .dataframe tbody tr th {\n",
       "        vertical-align: top;\n",
       "    }\n",
       "\n",
       "    .dataframe thead th {\n",
       "        text-align: right;\n",
       "    }\n",
       "</style>\n",
       "<table border=\"1\" class=\"dataframe\">\n",
       "  <thead>\n",
       "    <tr style=\"text-align: right;\">\n",
       "      <th></th>\n",
       "      <th>Name</th>\n",
       "      <th>PrimarySector</th>\n",
       "    </tr>\n",
       "    <tr>\n",
       "      <th>Ticker</th>\n",
       "      <th></th>\n",
       "      <th></th>\n",
       "    </tr>\n",
       "  </thead>\n",
       "  <tbody>\n",
       "    <tr>\n",
       "      <td>TSX:CCO</td>\n",
       "      <td>Cameco Corporation (TSX:CCO)</td>\n",
       "      <td>Energy</td>\n",
       "    </tr>\n",
       "    <tr>\n",
       "      <td>TSX:GOOS</td>\n",
       "      <td>Canada Goose Holdings Inc. (TSX:GOOS)</td>\n",
       "      <td>Consumer Discretionary</td>\n",
       "    </tr>\n",
       "  </tbody>\n",
       "</table>\n",
       "</div>"
      ],
      "text/plain": [
       "                                           Name           PrimarySector\n",
       "Ticker                                                                 \n",
       "TSX:CCO            Cameco Corporation (TSX:CCO)                  Energy\n",
       "TSX:GOOS  Canada Goose Holdings Inc. (TSX:GOOS)  Consumer Discretionary"
      ]
     },
     "execution_count": 67,
     "metadata": {},
     "output_type": "execute_result"
    }
   ],
   "source": [
    "df[['Name','PrimarySector']].iloc[24:26]"
   ]
  },
  {
   "cell_type": "code",
   "execution_count": 73,
   "metadata": {
    "scrolled": false
   },
   "outputs": [
    {
     "data": {
      "text/html": [
       "<div>\n",
       "<style scoped>\n",
       "    .dataframe tbody tr th:only-of-type {\n",
       "        vertical-align: middle;\n",
       "    }\n",
       "\n",
       "    .dataframe tbody tr th {\n",
       "        vertical-align: top;\n",
       "    }\n",
       "\n",
       "    .dataframe thead th {\n",
       "        text-align: right;\n",
       "    }\n",
       "</style>\n",
       "<table border=\"1\" class=\"dataframe\">\n",
       "  <thead>\n",
       "    <tr style=\"text-align: right;\">\n",
       "      <th></th>\n",
       "      <th>Name</th>\n",
       "      <th>TotalAssets</th>\n",
       "      <th>TotalRevenue</th>\n",
       "      <th>GeographicSegments</th>\n",
       "      <th>PrimarySector</th>\n",
       "    </tr>\n",
       "    <tr>\n",
       "      <th>Ticker</th>\n",
       "      <th></th>\n",
       "      <th></th>\n",
       "      <th></th>\n",
       "      <th></th>\n",
       "      <th></th>\n",
       "    </tr>\n",
       "  </thead>\n",
       "  <tbody>\n",
       "    <tr>\n",
       "      <td>TSX:CRON</td>\n",
       "      <td>Cronos Group Inc. (TSX:CRON)</td>\n",
       "      <td>261.100006</td>\n",
       "      <td>15.700000</td>\n",
       "      <td>2.0</td>\n",
       "      <td>Health Care</td>\n",
       "    </tr>\n",
       "    <tr>\n",
       "      <td>TSX:GOOS</td>\n",
       "      <td>Canada Goose Holdings Inc. (TSX:GOOS)</td>\n",
       "      <td>725.400024</td>\n",
       "      <td>830.500000</td>\n",
       "      <td>3.0</td>\n",
       "      <td>Consumer Discretionary</td>\n",
       "    </tr>\n",
       "    <tr>\n",
       "      <td>TSX:DSG</td>\n",
       "      <td>The Descartes Systems Group Inc (TSX:DSG)</td>\n",
       "      <td>858.900024</td>\n",
       "      <td>361.700012</td>\n",
       "      <td>4.0</td>\n",
       "      <td>Information Technology</td>\n",
       "    </tr>\n",
       "    <tr>\n",
       "      <td>TSX:BYD.UN</td>\n",
       "      <td>Boyd Group Income Fund (TSX:BYD.UN)</td>\n",
       "      <td>1233.500000</td>\n",
       "      <td>1864.599976</td>\n",
       "      <td>2.0</td>\n",
       "      <td>Industrials</td>\n",
       "    </tr>\n",
       "    <tr>\n",
       "      <td>TSX:FSV</td>\n",
       "      <td>FirstService Corporation (TSX:FSV)</td>\n",
       "      <td>1374.699951</td>\n",
       "      <td>2635.600098</td>\n",
       "      <td>2.0</td>\n",
       "      <td>Real Estate</td>\n",
       "    </tr>\n",
       "  </tbody>\n",
       "</table>\n",
       "</div>"
      ],
      "text/plain": [
       "                                                 Name  TotalAssets  \\\n",
       "Ticker                                                               \n",
       "TSX:CRON                 Cronos Group Inc. (TSX:CRON)   261.100006   \n",
       "TSX:GOOS        Canada Goose Holdings Inc. (TSX:GOOS)   725.400024   \n",
       "TSX:DSG     The Descartes Systems Group Inc (TSX:DSG)   858.900024   \n",
       "TSX:BYD.UN        Boyd Group Income Fund (TSX:BYD.UN)  1233.500000   \n",
       "TSX:FSV            FirstService Corporation (TSX:FSV)  1374.699951   \n",
       "\n",
       "            TotalRevenue  GeographicSegments           PrimarySector  \n",
       "Ticker                                                                \n",
       "TSX:CRON       15.700000                 2.0             Health Care  \n",
       "TSX:GOOS      830.500000                 3.0  Consumer Discretionary  \n",
       "TSX:DSG       361.700012                 4.0  Information Technology  \n",
       "TSX:BYD.UN   1864.599976                 2.0             Industrials  \n",
       "TSX:FSV      2635.600098                 2.0             Real Estate  "
      ]
     },
     "execution_count": 73,
     "metadata": {},
     "output_type": "execute_result"
    }
   ],
   "source": [
    "# Sorting\n",
    "df.sort_values('TotalAssets').head()"
   ]
  },
  {
   "cell_type": "code",
   "execution_count": 74,
   "metadata": {},
   "outputs": [
    {
     "name": "stdout",
     "output_type": "stream",
     "text": [
      "                                                   Name  TotalRevenue\n",
      "Ticker                                                               \n",
      "TSX:BAM.A  Brookfield Asset Management Inc. (TSX:BAM.A)  79975.703125\n",
      "TSX:ATD.B     Alimentation Couche-Tard Inc. (TSX:ATD.B)  79562.796875\n",
      "TSX:MG                Magna International Inc. (TSX:MG)  55710.101562\n",
      "NYSE:BBU   Brookfield Business Partners L.P. (NYSE:BBU)  50717.199219\n",
      "                                                         Name  TotalRevenue\n",
      "Ticker                                                                     \n",
      "TSX:CRON                         Cronos Group Inc. (TSX:CRON)     15.700000\n",
      "TSX:ACB                        Aurora Cannabis Inc. (TSX:ACB)     55.200001\n",
      "TSX:WEED                 Canopy Growth Corporation (TSX:WEED)    226.300003\n",
      "TSX:GRT.UN  Granite Real Estate Investment Trust (TSX:GRT.UN)    246.500000\n",
      "TSX:PSK                     PrairieSky Royalty Ltd. (TSX:PSK)    249.399994\n"
     ]
    }
   ],
   "source": [
    "print(df.nlargest(4,'TotalRevenue')[['Name','TotalRevenue']])\n",
    "print(df.nsmallest(5,'TotalRevenue')[['Name','TotalRevenue']]) # what do you notice about the smallest by revenue?"
   ]
  },
  {
   "cell_type": "code",
   "execution_count": 75,
   "metadata": {},
   "outputs": [
    {
     "data": {
      "text/plain": [
       "Ticker\n",
       "NYSE:AEM      True\n",
       "TSX:AC        True\n",
       "TSX:AGI      False\n",
       "TSX:AQN       True\n",
       "TSX:ATD.B     True\n",
       "Name: TotalAssets, dtype: bool"
      ]
     },
     "execution_count": 75,
     "metadata": {},
     "output_type": "execute_result"
    }
   ],
   "source": [
    "# Boolean indexing\n",
    "bool_series=df.TotalAssets>9000\n",
    "bool_series[:5]"
   ]
  },
  {
   "cell_type": "code",
   "execution_count": 76,
   "metadata": {
    "scrolled": true
   },
   "outputs": [
    {
     "data": {
      "text/html": [
       "<div>\n",
       "<style scoped>\n",
       "    .dataframe tbody tr th:only-of-type {\n",
       "        vertical-align: middle;\n",
       "    }\n",
       "\n",
       "    .dataframe tbody tr th {\n",
       "        vertical-align: top;\n",
       "    }\n",
       "\n",
       "    .dataframe thead th {\n",
       "        text-align: right;\n",
       "    }\n",
       "</style>\n",
       "<table border=\"1\" class=\"dataframe\">\n",
       "  <thead>\n",
       "    <tr style=\"text-align: right;\">\n",
       "      <th></th>\n",
       "      <th>Name</th>\n",
       "      <th>TotalAssets</th>\n",
       "    </tr>\n",
       "    <tr>\n",
       "      <th>Ticker</th>\n",
       "      <th></th>\n",
       "      <th></th>\n",
       "    </tr>\n",
       "  </thead>\n",
       "  <tbody>\n",
       "    <tr>\n",
       "      <td>NYSE:AEM</td>\n",
       "      <td>Agnico Eagle Mines Limited (NYSE:AEM)</td>\n",
       "      <td>10715.500000</td>\n",
       "    </tr>\n",
       "    <tr>\n",
       "      <td>TSX:AC</td>\n",
       "      <td>Air Canada (TSX:AC)</td>\n",
       "      <td>19197.000000</td>\n",
       "    </tr>\n",
       "    <tr>\n",
       "      <td>TSX:AQN</td>\n",
       "      <td>Algonquin Power &amp; Utilities Corp. (TSX:AQN)</td>\n",
       "      <td>12811.599609</td>\n",
       "    </tr>\n",
       "    <tr>\n",
       "      <td>TSX:ATD.B</td>\n",
       "      <td>Alimentation Couche-Tard Inc. (TSX:ATD.B)</td>\n",
       "      <td>30426.300781</td>\n",
       "    </tr>\n",
       "    <tr>\n",
       "      <td>TSX:ALA</td>\n",
       "      <td>AltaGas Ltd. (TSX:ALA)</td>\n",
       "      <td>23487.699219</td>\n",
       "    </tr>\n",
       "  </tbody>\n",
       "</table>\n",
       "</div>"
      ],
      "text/plain": [
       "                                                  Name   TotalAssets\n",
       "Ticker                                                              \n",
       "NYSE:AEM         Agnico Eagle Mines Limited (NYSE:AEM)  10715.500000\n",
       "TSX:AC                             Air Canada (TSX:AC)  19197.000000\n",
       "TSX:AQN    Algonquin Power & Utilities Corp. (TSX:AQN)  12811.599609\n",
       "TSX:ATD.B    Alimentation Couche-Tard Inc. (TSX:ATD.B)  30426.300781\n",
       "TSX:ALA                         AltaGas Ltd. (TSX:ALA)  23487.699219"
      ]
     },
     "execution_count": 76,
     "metadata": {},
     "output_type": "execute_result"
    }
   ],
   "source": [
    "# Slicing based on conditions\n",
    "df.loc[df.TotalAssets>9000,['Name','TotalAssets']].head()"
   ]
  },
  {
   "cell_type": "code",
   "execution_count": 77,
   "metadata": {
    "scrolled": true
   },
   "outputs": [
    {
     "data": {
      "text/plain": [
       "Name                  False\n",
       "TotalAssets           False\n",
       "TotalRevenue          False\n",
       "GeographicSegments     True\n",
       "PrimarySector         False\n",
       "dtype: bool"
      ]
     },
     "execution_count": 77,
     "metadata": {},
     "output_type": "execute_result"
    }
   ],
   "source": [
    "# Dealing with missing values\n",
    "df.isna().any() # identify which variables contain missing values"
   ]
  },
  {
   "cell_type": "code",
   "execution_count": 78,
   "metadata": {
    "scrolled": true
   },
   "outputs": [
    {
     "data": {
      "text/html": [
       "<div>\n",
       "<style scoped>\n",
       "    .dataframe tbody tr th:only-of-type {\n",
       "        vertical-align: middle;\n",
       "    }\n",
       "\n",
       "    .dataframe tbody tr th {\n",
       "        vertical-align: top;\n",
       "    }\n",
       "\n",
       "    .dataframe thead th {\n",
       "        text-align: right;\n",
       "    }\n",
       "</style>\n",
       "<table border=\"1\" class=\"dataframe\">\n",
       "  <thead>\n",
       "    <tr style=\"text-align: right;\">\n",
       "      <th></th>\n",
       "      <th>Name</th>\n",
       "      <th>GeographicSegments</th>\n",
       "    </tr>\n",
       "    <tr>\n",
       "      <th>Ticker</th>\n",
       "      <th></th>\n",
       "      <th></th>\n",
       "    </tr>\n",
       "  </thead>\n",
       "  <tbody>\n",
       "    <tr>\n",
       "      <td>TSX:CNQ</td>\n",
       "      <td>Canadian Natural Resources Limited (TSX:CNQ)</td>\n",
       "      <td>NaN</td>\n",
       "    </tr>\n",
       "    <tr>\n",
       "      <td>TSX:CSH.UN</td>\n",
       "      <td>Chartwell Retirement Residences (TSX:CSH.UN)</td>\n",
       "      <td>NaN</td>\n",
       "    </tr>\n",
       "    <tr>\n",
       "      <td>TSX:EMP.A</td>\n",
       "      <td>Empire Company Limited (TSX:EMP.A)</td>\n",
       "      <td>NaN</td>\n",
       "    </tr>\n",
       "    <tr>\n",
       "      <td>TSX:IAG</td>\n",
       "      <td>iA Financial Corporation Inc. (TSX:IAG)</td>\n",
       "      <td>NaN</td>\n",
       "    </tr>\n",
       "    <tr>\n",
       "      <td>TSX:IPL</td>\n",
       "      <td>Inter Pipeline Ltd. (TSX:IPL)</td>\n",
       "      <td>NaN</td>\n",
       "    </tr>\n",
       "    <tr>\n",
       "      <td>TSX:PAAS</td>\n",
       "      <td>Pan American Silver Corp. (TSX:PAAS)</td>\n",
       "      <td>NaN</td>\n",
       "    </tr>\n",
       "    <tr>\n",
       "      <td>TSX:PPL</td>\n",
       "      <td>Pembina Pipeline Corporation (TSX:PPL)</td>\n",
       "      <td>NaN</td>\n",
       "    </tr>\n",
       "    <tr>\n",
       "      <td>TSX:SLF</td>\n",
       "      <td>Sun Life Financial Inc. (TSX:SLF)</td>\n",
       "      <td>NaN</td>\n",
       "    </tr>\n",
       "  </tbody>\n",
       "</table>\n",
       "</div>"
      ],
      "text/plain": [
       "                                                    Name  GeographicSegments\n",
       "Ticker                                                                      \n",
       "TSX:CNQ     Canadian Natural Resources Limited (TSX:CNQ)                 NaN\n",
       "TSX:CSH.UN  Chartwell Retirement Residences (TSX:CSH.UN)                 NaN\n",
       "TSX:EMP.A             Empire Company Limited (TSX:EMP.A)                 NaN\n",
       "TSX:IAG          iA Financial Corporation Inc. (TSX:IAG)                 NaN\n",
       "TSX:IPL                    Inter Pipeline Ltd. (TSX:IPL)                 NaN\n",
       "TSX:PAAS            Pan American Silver Corp. (TSX:PAAS)                 NaN\n",
       "TSX:PPL           Pembina Pipeline Corporation (TSX:PPL)                 NaN\n",
       "TSX:SLF                Sun Life Financial Inc. (TSX:SLF)                 NaN"
      ]
     },
     "execution_count": 78,
     "metadata": {},
     "output_type": "execute_result"
    }
   ],
   "source": [
    "df.loc[df.GeographicSegments.isna(),['Name','GeographicSegments']]"
   ]
  },
  {
   "cell_type": "code",
   "execution_count": 79,
   "metadata": {
    "scrolled": true
   },
   "outputs": [
    {
     "data": {
      "text/plain": [
       "False"
      ]
     },
     "execution_count": 79,
     "metadata": {},
     "output_type": "execute_result"
    }
   ],
   "source": [
    "df.GeographicSegments = df.GeographicSegments.fillna(0) \n",
    "\n",
    "df.GeographicSegments.isna().any() # check if we succeeded"
   ]
  },
  {
   "cell_type": "code",
   "execution_count": 80,
   "metadata": {},
   "outputs": [],
   "source": [
    "df.GeographicSegments = df.GeographicSegments.astype('int')"
   ]
  },
  {
   "cell_type": "code",
   "execution_count": 81,
   "metadata": {
    "scrolled": true
   },
   "outputs": [
    {
     "name": "stdout",
     "output_type": "stream",
     "text": [
      "            TotalAssets  TotalRevenue  GeographicSegments\n",
      "Ticker                                                   \n",
      "NYSE:AEM   10715.500000   2990.000000                   5\n",
      "TSX:AC     19197.000000  18065.000000                   5\n",
      "TSX:AGI     4455.500000    889.400024                   4\n",
      "TSX:AQN    12811.599609   2247.899902                   2\n",
      "TSX:ATD.B  30426.300781  79562.796875                   3\n"
     ]
    }
   ],
   "source": [
    "# Arithmetic & aggregation\n",
    "\n",
    "numeric_df = df.select_dtypes(include='number')\n",
    "print(numeric_df.head())"
   ]
  },
  {
   "cell_type": "code",
   "execution_count": 82,
   "metadata": {
    "scrolled": true
   },
   "outputs": [
    {
     "data": {
      "text/html": [
       "<div>\n",
       "<style scoped>\n",
       "    .dataframe tbody tr th:only-of-type {\n",
       "        vertical-align: middle;\n",
       "    }\n",
       "\n",
       "    .dataframe tbody tr th {\n",
       "        vertical-align: top;\n",
       "    }\n",
       "\n",
       "    .dataframe thead th {\n",
       "        text-align: right;\n",
       "    }\n",
       "</style>\n",
       "<table border=\"1\" class=\"dataframe\">\n",
       "  <thead>\n",
       "    <tr style=\"text-align: right;\">\n",
       "      <th></th>\n",
       "      <th>TotalAssets</th>\n",
       "      <th>TotalRevenue</th>\n",
       "      <th>GeographicSegments</th>\n",
       "    </tr>\n",
       "    <tr>\n",
       "      <th>Ticker</th>\n",
       "      <th></th>\n",
       "      <th></th>\n",
       "      <th></th>\n",
       "    </tr>\n",
       "  </thead>\n",
       "  <tbody>\n",
       "    <tr>\n",
       "      <td>NYSE:AEM</td>\n",
       "      <td>9.3</td>\n",
       "      <td>8.0</td>\n",
       "      <td>1.6</td>\n",
       "    </tr>\n",
       "    <tr>\n",
       "      <td>TSX:AC</td>\n",
       "      <td>9.9</td>\n",
       "      <td>9.8</td>\n",
       "      <td>1.6</td>\n",
       "    </tr>\n",
       "    <tr>\n",
       "      <td>TSX:AGI</td>\n",
       "      <td>8.4</td>\n",
       "      <td>6.8</td>\n",
       "      <td>1.4</td>\n",
       "    </tr>\n",
       "    <tr>\n",
       "      <td>TSX:AQN</td>\n",
       "      <td>9.5</td>\n",
       "      <td>7.7</td>\n",
       "      <td>0.7</td>\n",
       "    </tr>\n",
       "    <tr>\n",
       "      <td>TSX:ATD.B</td>\n",
       "      <td>10.3</td>\n",
       "      <td>11.3</td>\n",
       "      <td>1.1</td>\n",
       "    </tr>\n",
       "  </tbody>\n",
       "</table>\n",
       "</div>"
      ],
      "text/plain": [
       "           TotalAssets  TotalRevenue  GeographicSegments\n",
       "Ticker                                                  \n",
       "NYSE:AEM           9.3           8.0                 1.6\n",
       "TSX:AC             9.9           9.8                 1.6\n",
       "TSX:AGI            8.4           6.8                 1.4\n",
       "TSX:AQN            9.5           7.7                 0.7\n",
       "TSX:ATD.B         10.3          11.3                 1.1"
      ]
     },
     "execution_count": 82,
     "metadata": {},
     "output_type": "execute_result"
    }
   ],
   "source": [
    "numeric_df.apply(np.log).head().round(1) # applies function to each cell"
   ]
  },
  {
   "cell_type": "code",
   "execution_count": 83,
   "metadata": {
    "scrolled": true
   },
   "outputs": [
    {
     "data": {
      "text/plain": [
       "TotalAssets           1.053272e+07\n",
       "TotalRevenue          1.535778e+06\n",
       "GeographicSegments    5.970000e+02\n",
       "dtype: float64"
      ]
     },
     "execution_count": 83,
     "metadata": {},
     "output_type": "execute_result"
    }
   ],
   "source": [
    "numeric_df.sum() # defaults to summing over axis=0/axis='rows'"
   ]
  },
  {
   "cell_type": "code",
   "execution_count": 84,
   "metadata": {
    "scrolled": false
   },
   "outputs": [
    {
     "data": {
      "text/plain": [
       "Ticker\n",
       "NYSE:AEM      13710.500000\n",
       "TSX:AC        37267.000000\n",
       "TSX:AGI        5348.900024\n",
       "TSX:AQN       15061.499512\n",
       "TSX:ATD.B    109992.097656\n",
       "dtype: float64"
      ]
     },
     "execution_count": 84,
     "metadata": {},
     "output_type": "execute_result"
    }
   ],
   "source": [
    "numeric_df.sum(axis='columns')[:5]"
   ]
  },
  {
   "cell_type": "code",
   "execution_count": 85,
   "metadata": {},
   "outputs": [
    {
     "name": "stdout",
     "output_type": "stream",
     "text": [
      "TotalAssets           10715.5\n",
      "TotalRevenue           2990.0\n",
      "GeographicSegments        5.0\n",
      "Name: NYSE:AEM, dtype: float64\n"
     ]
    },
    {
     "data": {
      "text/plain": [
       "13710.5"
      ]
     },
     "execution_count": 85,
     "metadata": {},
     "output_type": "execute_result"
    }
   ],
   "source": [
    "print(numeric_df.loc['NYSE:AEM'])\n",
    "10715.5+2990+5 # check pandas sum of numeric variables"
   ]
  },
  {
   "cell_type": "code",
   "execution_count": 86,
   "metadata": {
    "scrolled": true
   },
   "outputs": [
    {
     "name": "stdout",
     "output_type": "stream",
     "text": [
      "Ticker\n",
      "NYSE:AEM     12715.500000\n",
      "TSX:AC       21197.000000\n",
      "TSX:AGI       6455.500000\n",
      "TSX:AQN      14811.599609\n",
      "TSX:ATD.B    32426.300781\n",
      "Name: TotalAssets, dtype: float32\n"
     ]
    }
   ],
   "source": [
    "a=df.TotalAssets+2000 # elementwise\n",
    "print(a[:5])"
   ]
  },
  {
   "cell_type": "code",
   "execution_count": 87,
   "metadata": {
    "scrolled": true
   },
   "outputs": [
    {
     "data": {
      "text/plain": [
       "Ticker\n",
       "NYSE:AEM     53577.500000\n",
       "TSX:AC       95985.000000\n",
       "TSX:AGI      17822.000000\n",
       "TSX:AQN      25623.199219\n",
       "TSX:ATD.B    91278.902344\n",
       "dtype: float64"
      ]
     },
     "execution_count": 87,
     "metadata": {},
     "output_type": "execute_result"
    }
   ],
   "source": [
    "b=df.TotalAssets*df.GeographicSegments # elementwise multiplication\n",
    "b[:5]"
   ]
  },
  {
   "cell_type": "code",
   "execution_count": 88,
   "metadata": {},
   "outputs": [
    {
     "data": {
      "text/html": [
       "<div>\n",
       "<style scoped>\n",
       "    .dataframe tbody tr th:only-of-type {\n",
       "        vertical-align: middle;\n",
       "    }\n",
       "\n",
       "    .dataframe tbody tr th {\n",
       "        vertical-align: top;\n",
       "    }\n",
       "\n",
       "    .dataframe thead th {\n",
       "        text-align: right;\n",
       "    }\n",
       "</style>\n",
       "<table border=\"1\" class=\"dataframe\">\n",
       "  <thead>\n",
       "    <tr style=\"text-align: right;\">\n",
       "      <th></th>\n",
       "      <th>Name</th>\n",
       "      <th>TotalAssets</th>\n",
       "      <th>TotalRevenue</th>\n",
       "      <th>GeographicSegments</th>\n",
       "      <th>PrimarySector</th>\n",
       "      <th>AssetsInBillions</th>\n",
       "    </tr>\n",
       "    <tr>\n",
       "      <th>Ticker</th>\n",
       "      <th></th>\n",
       "      <th></th>\n",
       "      <th></th>\n",
       "      <th></th>\n",
       "      <th></th>\n",
       "      <th></th>\n",
       "    </tr>\n",
       "  </thead>\n",
       "  <tbody>\n",
       "    <tr>\n",
       "      <td>NYSE:AEM</td>\n",
       "      <td>Agnico Eagle Mines Limited (NYSE:AEM)</td>\n",
       "      <td>10715.500000</td>\n",
       "      <td>2990.000000</td>\n",
       "      <td>5</td>\n",
       "      <td>Materials</td>\n",
       "      <td>11.0</td>\n",
       "    </tr>\n",
       "    <tr>\n",
       "      <td>TSX:AC</td>\n",
       "      <td>Air Canada (TSX:AC)</td>\n",
       "      <td>19197.000000</td>\n",
       "      <td>18065.000000</td>\n",
       "      <td>5</td>\n",
       "      <td>Industrials</td>\n",
       "      <td>19.0</td>\n",
       "    </tr>\n",
       "    <tr>\n",
       "      <td>TSX:AGI</td>\n",
       "      <td>Alamos Gold Inc. (TSX:AGI)</td>\n",
       "      <td>4455.500000</td>\n",
       "      <td>889.400024</td>\n",
       "      <td>4</td>\n",
       "      <td>Materials</td>\n",
       "      <td>4.0</td>\n",
       "    </tr>\n",
       "    <tr>\n",
       "      <td>TSX:AQN</td>\n",
       "      <td>Algonquin Power &amp; Utilities Corp. (TSX:AQN)</td>\n",
       "      <td>12811.599609</td>\n",
       "      <td>2247.899902</td>\n",
       "      <td>2</td>\n",
       "      <td>Utilities</td>\n",
       "      <td>13.0</td>\n",
       "    </tr>\n",
       "    <tr>\n",
       "      <td>TSX:ATD.B</td>\n",
       "      <td>Alimentation Couche-Tard Inc. (TSX:ATD.B)</td>\n",
       "      <td>30426.300781</td>\n",
       "      <td>79562.796875</td>\n",
       "      <td>3</td>\n",
       "      <td>Consumer Staples</td>\n",
       "      <td>30.0</td>\n",
       "    </tr>\n",
       "  </tbody>\n",
       "</table>\n",
       "</div>"
      ],
      "text/plain": [
       "                                                  Name   TotalAssets  \\\n",
       "Ticker                                                                 \n",
       "NYSE:AEM         Agnico Eagle Mines Limited (NYSE:AEM)  10715.500000   \n",
       "TSX:AC                             Air Canada (TSX:AC)  19197.000000   \n",
       "TSX:AGI                     Alamos Gold Inc. (TSX:AGI)   4455.500000   \n",
       "TSX:AQN    Algonquin Power & Utilities Corp. (TSX:AQN)  12811.599609   \n",
       "TSX:ATD.B    Alimentation Couche-Tard Inc. (TSX:ATD.B)  30426.300781   \n",
       "\n",
       "           TotalRevenue  GeographicSegments     PrimarySector  \\\n",
       "Ticker                                                          \n",
       "NYSE:AEM    2990.000000                   5         Materials   \n",
       "TSX:AC     18065.000000                   5       Industrials   \n",
       "TSX:AGI      889.400024                   4         Materials   \n",
       "TSX:AQN     2247.899902                   2         Utilities   \n",
       "TSX:ATD.B  79562.796875                   3  Consumer Staples   \n",
       "\n",
       "           AssetsInBillions  \n",
       "Ticker                       \n",
       "NYSE:AEM               11.0  \n",
       "TSX:AC                 19.0  \n",
       "TSX:AGI                 4.0  \n",
       "TSX:AQN                13.0  \n",
       "TSX:ATD.B              30.0  "
      ]
     },
     "execution_count": 88,
     "metadata": {},
     "output_type": "execute_result"
    }
   ],
   "source": [
    "# Assigning new data\n",
    "df['AssetsInBillions'] = np.round(df.TotalAssets/1000) # create a new column\n",
    "df.head()"
   ]
  },
  {
   "cell_type": "code",
   "execution_count": 89,
   "metadata": {
    "scrolled": true
   },
   "outputs": [
    {
     "name": "stdout",
     "output_type": "stream",
     "text": [
      "8\n",
      "0\n"
     ]
    }
   ],
   "source": [
    "# If a company has the number of geographic segments listed as 0, change it to it's median\n",
    "\n",
    "print(len(df.loc[df.GeographicSegments==0]))\n",
    "df.loc[df.GeographicSegments==0,'GeographicSegments'] = df.GeographicSegments.median()\n",
    "print(len(df.loc[df.GeographicSegments==0]))"
   ]
  },
  {
   "cell_type": "code",
   "execution_count": 91,
   "metadata": {},
   "outputs": [
    {
     "data": {
      "text/plain": [
       "3747.0"
      ]
     },
     "execution_count": 91,
     "metadata": {},
     "output_type": "execute_result"
    }
   ],
   "source": [
    "#### Exercise ###\n",
    "# Correct the total assets figure for TSX:RNW from 3747 to 3477\n",
    "df['TotalAssets'].loc['TSX:RNW']\n"
   ]
  },
  {
   "cell_type": "code",
   "execution_count": 92,
   "metadata": {},
   "outputs": [
    {
     "name": "stderr",
     "output_type": "stream",
     "text": [
      "C:\\Users\\hksingh\\AppData\\Local\\Continuum\\anaconda3\\lib\\site-packages\\pandas\\core\\indexing.py:205: SettingWithCopyWarning: \n",
      "A value is trying to be set on a copy of a slice from a DataFrame\n",
      "\n",
      "See the caveats in the documentation: http://pandas.pydata.org/pandas-docs/stable/user_guide/indexing.html#returning-a-view-versus-a-copy\n",
      "  self._setitem_with_indexer(indexer, value)\n"
     ]
    },
    {
     "data": {
      "text/plain": [
       "3477.0"
      ]
     },
     "execution_count": 92,
     "metadata": {},
     "output_type": "execute_result"
    }
   ],
   "source": [
    "df['TotalAssets'].loc['TSX:RNW'] = 3477\n",
    "df['TotalAssets'].loc['TSX:RNW']"
   ]
  },
  {
   "cell_type": "code",
   "execution_count": 96,
   "metadata": {},
   "outputs": [
    {
     "data": {
      "text/plain": [
       "3747.0"
      ]
     },
     "execution_count": 96,
     "metadata": {},
     "output_type": "execute_result"
    }
   ],
   "source": [
    "df.loc['TSX:RNW','TotalAssets']=3747\n",
    "df.loc['TSX:RNW','TotalAssets']"
   ]
  },
  {
   "cell_type": "code",
   "execution_count": 97,
   "metadata": {},
   "outputs": [
    {
     "data": {
      "text/plain": [
       "3477.0"
      ]
     },
     "execution_count": 97,
     "metadata": {},
     "output_type": "execute_result"
    }
   ],
   "source": [
    "df.loc['TSX:RNW','TotalAssets']=3477\n",
    "df.loc['TSX:RNW','TotalAssets']"
   ]
  },
  {
   "cell_type": "code",
   "execution_count": 99,
   "metadata": {},
   "outputs": [
    {
     "data": {
      "text/html": [
       "<div>\n",
       "<style scoped>\n",
       "    .dataframe tbody tr th:only-of-type {\n",
       "        vertical-align: middle;\n",
       "    }\n",
       "\n",
       "    .dataframe tbody tr th {\n",
       "        vertical-align: top;\n",
       "    }\n",
       "\n",
       "    .dataframe thead th {\n",
       "        text-align: right;\n",
       "    }\n",
       "</style>\n",
       "<table border=\"1\" class=\"dataframe\">\n",
       "  <thead>\n",
       "    <tr style=\"text-align: right;\">\n",
       "      <th></th>\n",
       "      <th>Name</th>\n",
       "      <th>TotalAssets</th>\n",
       "      <th>TotalRevenue</th>\n",
       "      <th>GeographicSegments</th>\n",
       "      <th>PrimarySector</th>\n",
       "      <th>AssetsInBillions</th>\n",
       "      <th>AvgRev</th>\n",
       "    </tr>\n",
       "    <tr>\n",
       "      <th>Ticker</th>\n",
       "      <th></th>\n",
       "      <th></th>\n",
       "      <th></th>\n",
       "      <th></th>\n",
       "      <th></th>\n",
       "      <th></th>\n",
       "      <th></th>\n",
       "    </tr>\n",
       "  </thead>\n",
       "  <tbody>\n",
       "    <tr>\n",
       "      <td>NYSE:AEM</td>\n",
       "      <td>Agnico Eagle Mines Limited (NYSE:AEM)</td>\n",
       "      <td>10715.500000</td>\n",
       "      <td>2990.000000</td>\n",
       "      <td>5.0</td>\n",
       "      <td>Materials</td>\n",
       "      <td>11.0</td>\n",
       "      <td>598.00</td>\n",
       "    </tr>\n",
       "    <tr>\n",
       "      <td>TSX:AC</td>\n",
       "      <td>Air Canada (TSX:AC)</td>\n",
       "      <td>19197.000000</td>\n",
       "      <td>18065.000000</td>\n",
       "      <td>5.0</td>\n",
       "      <td>Industrials</td>\n",
       "      <td>19.0</td>\n",
       "      <td>3613.00</td>\n",
       "    </tr>\n",
       "    <tr>\n",
       "      <td>TSX:AGI</td>\n",
       "      <td>Alamos Gold Inc. (TSX:AGI)</td>\n",
       "      <td>4455.500000</td>\n",
       "      <td>889.400024</td>\n",
       "      <td>4.0</td>\n",
       "      <td>Materials</td>\n",
       "      <td>4.0</td>\n",
       "      <td>222.35</td>\n",
       "    </tr>\n",
       "    <tr>\n",
       "      <td>TSX:AQN</td>\n",
       "      <td>Algonquin Power &amp; Utilities Corp. (TSX:AQN)</td>\n",
       "      <td>12811.599609</td>\n",
       "      <td>2247.899902</td>\n",
       "      <td>2.0</td>\n",
       "      <td>Utilities</td>\n",
       "      <td>13.0</td>\n",
       "      <td>1123.95</td>\n",
       "    </tr>\n",
       "    <tr>\n",
       "      <td>TSX:ATD.B</td>\n",
       "      <td>Alimentation Couche-Tard Inc. (TSX:ATD.B)</td>\n",
       "      <td>30426.300781</td>\n",
       "      <td>79562.796875</td>\n",
       "      <td>3.0</td>\n",
       "      <td>Consumer Staples</td>\n",
       "      <td>30.0</td>\n",
       "      <td>26520.93</td>\n",
       "    </tr>\n",
       "  </tbody>\n",
       "</table>\n",
       "</div>"
      ],
      "text/plain": [
       "                                                  Name   TotalAssets  \\\n",
       "Ticker                                                                 \n",
       "NYSE:AEM         Agnico Eagle Mines Limited (NYSE:AEM)  10715.500000   \n",
       "TSX:AC                             Air Canada (TSX:AC)  19197.000000   \n",
       "TSX:AGI                     Alamos Gold Inc. (TSX:AGI)   4455.500000   \n",
       "TSX:AQN    Algonquin Power & Utilities Corp. (TSX:AQN)  12811.599609   \n",
       "TSX:ATD.B    Alimentation Couche-Tard Inc. (TSX:ATD.B)  30426.300781   \n",
       "\n",
       "           TotalRevenue  GeographicSegments     PrimarySector  \\\n",
       "Ticker                                                          \n",
       "NYSE:AEM    2990.000000                 5.0         Materials   \n",
       "TSX:AC     18065.000000                 5.0       Industrials   \n",
       "TSX:AGI      889.400024                 4.0         Materials   \n",
       "TSX:AQN     2247.899902                 2.0         Utilities   \n",
       "TSX:ATD.B  79562.796875                 3.0  Consumer Staples   \n",
       "\n",
       "           AssetsInBillions    AvgRev  \n",
       "Ticker                                 \n",
       "NYSE:AEM               11.0    598.00  \n",
       "TSX:AC                 19.0   3613.00  \n",
       "TSX:AGI                 4.0    222.35  \n",
       "TSX:AQN                13.0   1123.95  \n",
       "TSX:ATD.B              30.0  26520.93  "
      ]
     },
     "execution_count": 99,
     "metadata": {},
     "output_type": "execute_result"
    }
   ],
   "source": [
    "# Create a new column that gives the average revenue per geographic segment (Revenue/Segment)\n",
    "df['AvgRev']=round(df['TotalRevenue']/df['GeographicSegments'],2)\n",
    "df.head()\n",
    "### End of Exercise ###"
   ]
  },
  {
   "cell_type": "code",
   "execution_count": 62,
   "metadata": {},
   "outputs": [
    {
     "name": "stdout",
     "output_type": "stream",
     "text": [
      "<class 'pandas.core.groupby.generic.DataFrameGroupBy'>\n",
      "<class 'pandas.core.frame.DataFrame'>\n"
     ]
    },
    {
     "data": {
      "text/html": [
       "<div>\n",
       "<style scoped>\n",
       "    .dataframe tbody tr th:only-of-type {\n",
       "        vertical-align: middle;\n",
       "    }\n",
       "\n",
       "    .dataframe tbody tr th {\n",
       "        vertical-align: top;\n",
       "    }\n",
       "\n",
       "    .dataframe thead th {\n",
       "        text-align: right;\n",
       "    }\n",
       "</style>\n",
       "<table border=\"1\" class=\"dataframe\">\n",
       "  <thead>\n",
       "    <tr style=\"text-align: right;\">\n",
       "      <th></th>\n",
       "      <th>TotalAssets</th>\n",
       "      <th>TotalRevenue</th>\n",
       "      <th>GeographicSegments</th>\n",
       "      <th>AssetsInBillions</th>\n",
       "    </tr>\n",
       "    <tr>\n",
       "      <th>PrimarySector</th>\n",
       "      <th></th>\n",
       "      <th></th>\n",
       "      <th></th>\n",
       "      <th></th>\n",
       "    </tr>\n",
       "  </thead>\n",
       "  <tbody>\n",
       "    <tr>\n",
       "      <th>Financials</th>\n",
       "      <td>271827.000000</td>\n",
       "      <td>24231.099609</td>\n",
       "      <td>3.0</td>\n",
       "      <td>272.0</td>\n",
       "    </tr>\n",
       "    <tr>\n",
       "      <th>Utilities</th>\n",
       "      <td>23415.800781</td>\n",
       "      <td>4316.799805</td>\n",
       "      <td>3.0</td>\n",
       "      <td>23.0</td>\n",
       "    </tr>\n",
       "    <tr>\n",
       "      <th>Communication Services</th>\n",
       "      <td>23171.000000</td>\n",
       "      <td>9667.000000</td>\n",
       "      <td>1.0</td>\n",
       "      <td>23.0</td>\n",
       "    </tr>\n",
       "    <tr>\n",
       "      <th>Energy</th>\n",
       "      <td>16199.500000</td>\n",
       "      <td>7398.600098</td>\n",
       "      <td>2.5</td>\n",
       "      <td>16.0</td>\n",
       "    </tr>\n",
       "    <tr>\n",
       "      <th>Real Estate</th>\n",
       "      <td>10453.099609</td>\n",
       "      <td>1083.199951</td>\n",
       "      <td>2.0</td>\n",
       "      <td>10.0</td>\n",
       "    </tr>\n",
       "    <tr>\n",
       "      <th>Consumer Staples</th>\n",
       "      <td>10403.900391</td>\n",
       "      <td>19816.400391</td>\n",
       "      <td>2.5</td>\n",
       "      <td>10.5</td>\n",
       "    </tr>\n",
       "    <tr>\n",
       "      <th>Industrials</th>\n",
       "      <td>7766.600098</td>\n",
       "      <td>6996.000000</td>\n",
       "      <td>4.0</td>\n",
       "      <td>8.0</td>\n",
       "    </tr>\n",
       "    <tr>\n",
       "      <th>Materials</th>\n",
       "      <td>7027.600098</td>\n",
       "      <td>2454.100098</td>\n",
       "      <td>5.0</td>\n",
       "      <td>7.0</td>\n",
       "    </tr>\n",
       "    <tr>\n",
       "      <th>Information Technology</th>\n",
       "      <td>4589.399902</td>\n",
       "      <td>2608.500000</td>\n",
       "      <td>5.5</td>\n",
       "      <td>4.5</td>\n",
       "    </tr>\n",
       "    <tr>\n",
       "      <th>Consumer Discretionary</th>\n",
       "      <td>4094.800049</td>\n",
       "      <td>3964.000000</td>\n",
       "      <td>6.0</td>\n",
       "      <td>4.0</td>\n",
       "    </tr>\n",
       "    <tr>\n",
       "      <th>Health Care</th>\n",
       "      <td>3318.800049</td>\n",
       "      <td>226.300003</td>\n",
       "      <td>3.0</td>\n",
       "      <td>3.0</td>\n",
       "    </tr>\n",
       "  </tbody>\n",
       "</table>\n",
       "</div>"
      ],
      "text/plain": [
       "                          TotalAssets  TotalRevenue  GeographicSegments  \\\n",
       "PrimarySector                                                             \n",
       "Financials              271827.000000  24231.099609                 3.0   \n",
       "Utilities                23415.800781   4316.799805                 3.0   \n",
       "Communication Services   23171.000000   9667.000000                 1.0   \n",
       "Energy                   16199.500000   7398.600098                 2.5   \n",
       "Real Estate              10453.099609   1083.199951                 2.0   \n",
       "Consumer Staples         10403.900391  19816.400391                 2.5   \n",
       "Industrials               7766.600098   6996.000000                 4.0   \n",
       "Materials                 7027.600098   2454.100098                 5.0   \n",
       "Information Technology    4589.399902   2608.500000                 5.5   \n",
       "Consumer Discretionary    4094.800049   3964.000000                 6.0   \n",
       "Health Care               3318.800049    226.300003                 3.0   \n",
       "\n",
       "                        AssetsInBillions  \n",
       "PrimarySector                             \n",
       "Financials                         272.0  \n",
       "Utilities                           23.0  \n",
       "Communication Services              23.0  \n",
       "Energy                              16.0  \n",
       "Real Estate                         10.0  \n",
       "Consumer Staples                    10.5  \n",
       "Industrials                          8.0  \n",
       "Materials                            7.0  \n",
       "Information Technology               4.5  \n",
       "Consumer Discretionary               4.0  \n",
       "Health Care                          3.0  "
      ]
     },
     "execution_count": 62,
     "metadata": {},
     "output_type": "execute_result"
    }
   ],
   "source": [
    "# Groupby\n",
    "# References: \n",
    "# https://pandas.pydata.org/pandas-docs/stable/reference/api/pandas.DataFrame.groupby.html, \n",
    "# https://pandas.pydata.org/pandas-docs/stable/user_guide/groupby.html\n",
    "\n",
    "group = df.groupby(['PrimarySector']).median().round(1).sort_values('TotalAssets', ascending=False)\n",
    "print(type(df.groupby(['PrimarySector'])))\n",
    "print(type(group))\n",
    "group"
   ]
  },
  {
   "cell_type": "code",
   "execution_count": 63,
   "metadata": {
    "scrolled": true
   },
   "outputs": [
    {
     "name": "stdout",
     "output_type": "stream",
     "text": [
      "<class 'pandas.core.frame.DataFrame'>\n"
     ]
    },
    {
     "data": {
      "text/html": [
       "<div>\n",
       "<style scoped>\n",
       "    .dataframe tbody tr th:only-of-type {\n",
       "        vertical-align: middle;\n",
       "    }\n",
       "\n",
       "    .dataframe tbody tr th {\n",
       "        vertical-align: top;\n",
       "    }\n",
       "\n",
       "    .dataframe thead th {\n",
       "        text-align: right;\n",
       "    }\n",
       "</style>\n",
       "<table border=\"1\" class=\"dataframe\">\n",
       "  <thead>\n",
       "    <tr style=\"text-align: right;\">\n",
       "      <th></th>\n",
       "      <th>TotalAssets</th>\n",
       "      <th>TotalRevenue</th>\n",
       "    </tr>\n",
       "    <tr>\n",
       "      <th>PrimarySector</th>\n",
       "      <th></th>\n",
       "      <th></th>\n",
       "    </tr>\n",
       "  </thead>\n",
       "  <tbody>\n",
       "    <tr>\n",
       "      <th>Financials</th>\n",
       "      <td>396182.000000</td>\n",
       "      <td>24718.099609</td>\n",
       "    </tr>\n",
       "    <tr>\n",
       "      <th>Energy</th>\n",
       "      <td>35740.500000</td>\n",
       "      <td>13658.599609</td>\n",
       "    </tr>\n",
       "    <tr>\n",
       "      <th>Utilities</th>\n",
       "      <td>25889.800781</td>\n",
       "      <td>4208.399902</td>\n",
       "    </tr>\n",
       "    <tr>\n",
       "      <th>Communication Services</th>\n",
       "      <td>25534.300781</td>\n",
       "      <td>10750.400391</td>\n",
       "    </tr>\n",
       "    <tr>\n",
       "      <th>Real Estate</th>\n",
       "      <td>23424.500000</td>\n",
       "      <td>2188.699951</td>\n",
       "    </tr>\n",
       "    <tr>\n",
       "      <th>Consumer Staples</th>\n",
       "      <td>17547.699219</td>\n",
       "      <td>29310.000000</td>\n",
       "    </tr>\n",
       "    <tr>\n",
       "      <th>Industrials</th>\n",
       "      <td>14655.500000</td>\n",
       "      <td>10309.500000</td>\n",
       "    </tr>\n",
       "    <tr>\n",
       "      <th>Materials</th>\n",
       "      <td>13551.000000</td>\n",
       "      <td>4859.899902</td>\n",
       "    </tr>\n",
       "    <tr>\n",
       "      <th>Consumer Discretionary</th>\n",
       "      <td>11894.099609</td>\n",
       "      <td>10514.799805</td>\n",
       "    </tr>\n",
       "    <tr>\n",
       "      <th>Health Care</th>\n",
       "      <td>11711.799805</td>\n",
       "      <td>2520.000000</td>\n",
       "    </tr>\n",
       "    <tr>\n",
       "      <th>Information Technology</th>\n",
       "      <td>5901.899902</td>\n",
       "      <td>3741.899902</td>\n",
       "    </tr>\n",
       "  </tbody>\n",
       "</table>\n",
       "</div>"
      ],
      "text/plain": [
       "                          TotalAssets  TotalRevenue\n",
       "PrimarySector                                      \n",
       "Financials              396182.000000  24718.099609\n",
       "Energy                   35740.500000  13658.599609\n",
       "Utilities                25889.800781   4208.399902\n",
       "Communication Services   25534.300781  10750.400391\n",
       "Real Estate              23424.500000   2188.699951\n",
       "Consumer Staples         17547.699219  29310.000000\n",
       "Industrials              14655.500000  10309.500000\n",
       "Materials                13551.000000   4859.899902\n",
       "Consumer Discretionary   11894.099609  10514.799805\n",
       "Health Care              11711.799805   2520.000000\n",
       "Information Technology    5901.899902   3741.899902"
      ]
     },
     "execution_count": 63,
     "metadata": {},
     "output_type": "execute_result"
    }
   ],
   "source": [
    "# Pivot table\n",
    "pivot_df = df.pivot_table(values=['TotalAssets','TotalRevenue'],index=['PrimarySector'],aggfunc=np.mean).round(1).sort_values('TotalAssets', ascending=False)\n",
    "print(type(pivot_df))\n",
    "pivot_df"
   ]
  },
  {
   "cell_type": "code",
   "execution_count": 64,
   "metadata": {
    "scrolled": true
   },
   "outputs": [
    {
     "data": {
      "text/html": [
       "<div>\n",
       "<style scoped>\n",
       "    .dataframe tbody tr th:only-of-type {\n",
       "        vertical-align: middle;\n",
       "    }\n",
       "\n",
       "    .dataframe tbody tr th {\n",
       "        vertical-align: top;\n",
       "    }\n",
       "\n",
       "    .dataframe thead th {\n",
       "        text-align: right;\n",
       "    }\n",
       "</style>\n",
       "<table border=\"1\" class=\"dataframe\">\n",
       "  <thead>\n",
       "    <tr style=\"text-align: right;\">\n",
       "      <th>PrimarySector</th>\n",
       "      <th>Communication Services</th>\n",
       "      <th>Consumer Discretionary</th>\n",
       "      <th>Consumer Staples</th>\n",
       "      <th>Energy</th>\n",
       "      <th>Financials</th>\n",
       "      <th>Health Care</th>\n",
       "      <th>Industrials</th>\n",
       "      <th>Information Technology</th>\n",
       "      <th>Materials</th>\n",
       "      <th>Real Estate</th>\n",
       "      <th>Utilities</th>\n",
       "    </tr>\n",
       "  </thead>\n",
       "  <tbody>\n",
       "    <tr>\n",
       "      <th>TotalAssets</th>\n",
       "      <td>25534.300781</td>\n",
       "      <td>11894.099609</td>\n",
       "      <td>17547.699219</td>\n",
       "      <td>35740.500000</td>\n",
       "      <td>396182.000000</td>\n",
       "      <td>11711.799805</td>\n",
       "      <td>14655.5</td>\n",
       "      <td>5901.899902</td>\n",
       "      <td>13551.000000</td>\n",
       "      <td>23424.500000</td>\n",
       "      <td>25889.800781</td>\n",
       "    </tr>\n",
       "    <tr>\n",
       "      <th>TotalRevenue</th>\n",
       "      <td>10750.400391</td>\n",
       "      <td>10514.799805</td>\n",
       "      <td>29310.000000</td>\n",
       "      <td>13658.599609</td>\n",
       "      <td>24718.099609</td>\n",
       "      <td>2520.000000</td>\n",
       "      <td>10309.5</td>\n",
       "      <td>3741.899902</td>\n",
       "      <td>4859.899902</td>\n",
       "      <td>2188.699951</td>\n",
       "      <td>4208.399902</td>\n",
       "    </tr>\n",
       "  </tbody>\n",
       "</table>\n",
       "</div>"
      ],
      "text/plain": [
       "PrimarySector  Communication Services  Consumer Discretionary  \\\n",
       "TotalAssets              25534.300781            11894.099609   \n",
       "TotalRevenue             10750.400391            10514.799805   \n",
       "\n",
       "PrimarySector  Consumer Staples        Energy     Financials   Health Care  \\\n",
       "TotalAssets        17547.699219  35740.500000  396182.000000  11711.799805   \n",
       "TotalRevenue       29310.000000  13658.599609   24718.099609   2520.000000   \n",
       "\n",
       "PrimarySector  Industrials  Information Technology     Materials  \\\n",
       "TotalAssets        14655.5             5901.899902  13551.000000   \n",
       "TotalRevenue       10309.5             3741.899902   4859.899902   \n",
       "\n",
       "PrimarySector   Real Estate     Utilities  \n",
       "TotalAssets    23424.500000  25889.800781  \n",
       "TotalRevenue    2188.699951   4208.399902  "
      ]
     },
     "execution_count": 64,
     "metadata": {},
     "output_type": "execute_result"
    }
   ],
   "source": [
    "df.pivot_table(values=['TotalAssets','TotalRevenue'],columns=['PrimarySector'],aggfunc=np.mean).round(1)"
   ]
  },
  {
   "cell_type": "code",
   "execution_count": 102,
   "metadata": {},
   "outputs": [
    {
     "data": {
      "text/html": [
       "<div>\n",
       "<style scoped>\n",
       "    .dataframe tbody tr th:only-of-type {\n",
       "        vertical-align: middle;\n",
       "    }\n",
       "\n",
       "    .dataframe tbody tr th {\n",
       "        vertical-align: top;\n",
       "    }\n",
       "\n",
       "    .dataframe thead th {\n",
       "        text-align: right;\n",
       "    }\n",
       "</style>\n",
       "<table border=\"1\" class=\"dataframe\">\n",
       "  <thead>\n",
       "    <tr style=\"text-align: right;\">\n",
       "      <th></th>\n",
       "      <th>TotalAssets</th>\n",
       "    </tr>\n",
       "    <tr>\n",
       "      <th>PrimarySector</th>\n",
       "      <th></th>\n",
       "    </tr>\n",
       "  </thead>\n",
       "  <tbody>\n",
       "    <tr>\n",
       "      <td>Financials</td>\n",
       "      <td>271827.000000</td>\n",
       "    </tr>\n",
       "    <tr>\n",
       "      <td>Utilities</td>\n",
       "      <td>23415.800781</td>\n",
       "    </tr>\n",
       "    <tr>\n",
       "      <td>Communication Services</td>\n",
       "      <td>23171.000000</td>\n",
       "    </tr>\n",
       "    <tr>\n",
       "      <td>Energy</td>\n",
       "      <td>16199.500000</td>\n",
       "    </tr>\n",
       "    <tr>\n",
       "      <td>Real Estate</td>\n",
       "      <td>10453.099609</td>\n",
       "    </tr>\n",
       "    <tr>\n",
       "      <td>Consumer Staples</td>\n",
       "      <td>10403.900391</td>\n",
       "    </tr>\n",
       "    <tr>\n",
       "      <td>Industrials</td>\n",
       "      <td>7766.600098</td>\n",
       "    </tr>\n",
       "    <tr>\n",
       "      <td>Materials</td>\n",
       "      <td>7027.600098</td>\n",
       "    </tr>\n",
       "    <tr>\n",
       "      <td>Information Technology</td>\n",
       "      <td>4589.399902</td>\n",
       "    </tr>\n",
       "    <tr>\n",
       "      <td>Consumer Discretionary</td>\n",
       "      <td>4094.800049</td>\n",
       "    </tr>\n",
       "    <tr>\n",
       "      <td>Health Care</td>\n",
       "      <td>3318.800049</td>\n",
       "    </tr>\n",
       "  </tbody>\n",
       "</table>\n",
       "</div>"
      ],
      "text/plain": [
       "                          TotalAssets\n",
       "PrimarySector                        \n",
       "Financials              271827.000000\n",
       "Utilities                23415.800781\n",
       "Communication Services   23171.000000\n",
       "Energy                   16199.500000\n",
       "Real Estate              10453.099609\n",
       "Consumer Staples         10403.900391\n",
       "Industrials               7766.600098\n",
       "Materials                 7027.600098\n",
       "Information Technology    4589.399902\n",
       "Consumer Discretionary    4094.800049\n",
       "Health Care               3318.800049"
      ]
     },
     "execution_count": 102,
     "metadata": {},
     "output_type": "execute_result"
    }
   ],
   "source": [
    "# Exercise\n",
    "# Get the median value total assets value for each sector in the dataset, try using either groupby or pivot_table\n",
    "df.groupby(['PrimarySector']).median().round(1).sort_values('TotalAssets', ascending=False)[['TotalAssets']]"
   ]
  },
  {
   "cell_type": "code",
   "execution_count": 100,
   "metadata": {
    "scrolled": false
   },
   "outputs": [
    {
     "data": {
      "text/html": [
       "<div>\n",
       "<style scoped>\n",
       "    .dataframe tbody tr th:only-of-type {\n",
       "        vertical-align: middle;\n",
       "    }\n",
       "\n",
       "    .dataframe tbody tr th {\n",
       "        vertical-align: top;\n",
       "    }\n",
       "\n",
       "    .dataframe thead th {\n",
       "        text-align: right;\n",
       "    }\n",
       "</style>\n",
       "<table border=\"1\" class=\"dataframe\">\n",
       "  <thead>\n",
       "    <tr style=\"text-align: right;\">\n",
       "      <th></th>\n",
       "      <th>TotalAssets</th>\n",
       "    </tr>\n",
       "    <tr>\n",
       "      <th>PrimarySector</th>\n",
       "      <th></th>\n",
       "    </tr>\n",
       "  </thead>\n",
       "  <tbody>\n",
       "    <tr>\n",
       "      <td>Financials</td>\n",
       "      <td>271827.000000</td>\n",
       "    </tr>\n",
       "    <tr>\n",
       "      <td>Utilities</td>\n",
       "      <td>23415.800781</td>\n",
       "    </tr>\n",
       "    <tr>\n",
       "      <td>Communication Services</td>\n",
       "      <td>23171.000000</td>\n",
       "    </tr>\n",
       "    <tr>\n",
       "      <td>Energy</td>\n",
       "      <td>16199.500000</td>\n",
       "    </tr>\n",
       "    <tr>\n",
       "      <td>Real Estate</td>\n",
       "      <td>10453.099609</td>\n",
       "    </tr>\n",
       "    <tr>\n",
       "      <td>Consumer Staples</td>\n",
       "      <td>10403.900391</td>\n",
       "    </tr>\n",
       "    <tr>\n",
       "      <td>Industrials</td>\n",
       "      <td>7766.600098</td>\n",
       "    </tr>\n",
       "    <tr>\n",
       "      <td>Materials</td>\n",
       "      <td>7027.600098</td>\n",
       "    </tr>\n",
       "    <tr>\n",
       "      <td>Information Technology</td>\n",
       "      <td>4589.399902</td>\n",
       "    </tr>\n",
       "    <tr>\n",
       "      <td>Consumer Discretionary</td>\n",
       "      <td>4094.800049</td>\n",
       "    </tr>\n",
       "    <tr>\n",
       "      <td>Health Care</td>\n",
       "      <td>3318.800049</td>\n",
       "    </tr>\n",
       "  </tbody>\n",
       "</table>\n",
       "</div>"
      ],
      "text/plain": [
       "                          TotalAssets\n",
       "PrimarySector                        \n",
       "Financials              271827.000000\n",
       "Utilities                23415.800781\n",
       "Communication Services   23171.000000\n",
       "Energy                   16199.500000\n",
       "Real Estate              10453.099609\n",
       "Consumer Staples         10403.900391\n",
       "Industrials               7766.600098\n",
       "Materials                 7027.600098\n",
       "Information Technology    4589.399902\n",
       "Consumer Discretionary    4094.800049\n",
       "Health Care               3318.800049"
      ]
     },
     "execution_count": 100,
     "metadata": {},
     "output_type": "execute_result"
    }
   ],
   "source": [
    "# Exercise\n",
    "# Get the median value total assets value for each sector in the dataset, try using either groupby or pivot_table\n",
    "df.pivot_table(values=['TotalAssets'],index=['PrimarySector'],aggfunc=np.median).round(1).sort_values('TotalAssets', ascending=False)"
   ]
  }
 ],
 "metadata": {
  "kernelspec": {
   "display_name": "Python 3",
   "language": "python",
   "name": "python3"
  },
  "language_info": {
   "codemirror_mode": {
    "name": "ipython",
    "version": 3
   },
   "file_extension": ".py",
   "mimetype": "text/x-python",
   "name": "python",
   "nbconvert_exporter": "python",
   "pygments_lexer": "ipython3",
   "version": "3.7.4"
  }
 },
 "nbformat": 4,
 "nbformat_minor": 2
}
